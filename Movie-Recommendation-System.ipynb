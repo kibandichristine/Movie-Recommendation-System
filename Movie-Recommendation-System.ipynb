{
 "cells": [
  {
   "cell_type": "markdown",
   "metadata": {},
   "source": [
    "# Building an Effective Movie Recommendation System\n",
    "\n",
    "## Business Understanding: \n",
    "\n",
    "## Introduction\n",
    "In the vast world of movies available today, choosing what to watch\n",
    "can be overwhelming. Movie recommendation systems have become\n",
    "essential tools, helping people discover movies that match their\n",
    "preferences.\n",
    "This realm of movie recommendation systems aims to create a user friendly and efficient model for suggesting movies based on individual\n",
    "tastes.\n",
    "Moreover, recommending movies that resonate with individual preferences is key to enhancing user satisfaction. This revolves around constructing an efficient movie recommendation system using the MovieLens dataset. The aim is to create a model that intelligently suggests the top 5 movies to a user based on their ratings of other movies, ultimately providing a tailored movie-watching experience.\n",
    "\n",
    "## Problem Statement\n",
    "\n",
    "The challenge at hand is to develop an intelligent recommendation system that addresses the issue of choice overload for users. With an extensive array of movies available, users often struggle to decide what to watch. Our objective is to simplify this process by utilizing data-driven approaches to recommend movies that align with users' tastes, thus enhancing user engagement and overall platform satisfaction.\n",
    "\n",
    "## Defining a Metric of Success\n",
    "\n",
    "The primary metric of success is user engagement and satisfaction, measured through:\n",
    "Click-through rates**: The percentage of users who click on recommended movies compared to the total recommendations provided.\n",
    "- **User ratings**: The average rating given by users to recommended movies.\n",
    "- **Retention rates**: The percentage of users who continue using the platform after receiving recommendations.\n",
    "- **Feedback quality**: The relevance and helpfulness of user feedback regarding the recommended movies.\n",
    "\n",
    "## Objectives\n",
    "\n",
    "### Main Objectives:\n",
    "1. **Enhanced User Experience**: Create a recommendation system that significantly improves the movie-watching experience for users by suggesting movies that align with their preferences.\n",
    "\n",
    "2. **Increased User Engagement**: Increase user engagement by providing personalized movie recommendations, resulting in higher user interactions and satisfaction.\n",
    "\n",
    "### Specific Objectives:\n",
    "1. **Algorithm Development**: Build and fine-tune recommendation algorithms to ensure accurate and diverse movie suggestions.\n",
    "\n",
    "2. **User Interaction Enhancement**: Design an intuitive and engaging interface for users to provide movie ratings, enabling better recommendations.\n",
    "\n",
    "3. **Feedback Utilization**: Establish a feedback loop to gather and integrate user feedback, continuously improving the recommendation model.\n",
    "\n",
    "## Data Understanding\n",
    "\n",
    "The foundation of this recommendation system is the MovieLens dataset from the GroupLens research lab at the University of Minnesota. This \"classic\" dataset contains 100,000 user ratings, providing essential insights into user preferences and movie interactions. Understanding the structure and characteristics of this dataset is vital for building an effective recommendation model.\n",
    "\n",
    "In conclusion, this business understanding provides a comprehensive framework for developing an intelligent movie recommendation system. By focusing on enhancing user experience, engagement, and leveraging the valuable MovieLens dataset, we aim to create a recommendation system that not only simplifies movie selection but also fosters a more enjoyable and tailored movie-watching journey for users."
   ]
  },
  {
   "cell_type": "markdown",
   "metadata": {},
   "source": [
    "## Importing the relevant libraries"
   ]
  },
  {
   "cell_type": "code",
   "execution_count": 85,
   "metadata": {},
   "outputs": [],
   "source": [
    "# Importing essentials\n",
    "import pandas as pd\n",
    "import numpy as np\n",
    "import matplotlib.pyplot as plt\n",
    "import seaborn as sns\n",
    "from sklearn.metrics.pairwise import cosine_similarity\n",
    "from  scipy.sparse import csr_matrix\n",
    "from sklearn.neighbors import NearestNeighbors\n",
    "from scipy.sparse.linalg import svds\n",
    "import numpy as np\n",
    "from sklearn.decomposition import TruncatedSVD\n",
    "from sklearn.metrics import mean_squared_error\n",
    "from math import sqrt\n",
    "from sklearn.neighbors import NearestNeighbors\n",
    "\n",
    "from sklearn.model_selection import train_test_split\n",
    "from sklearn.metrics import mean_squared_error\n",
    "from sklearn.preprocessing import MinMaxScaler\n",
    "from sklearn.neighbors import NearestNeighbors\n",
    "from sklearn.decomposition import TruncatedSVD\n",
    "\n",
    "\n",
    "\n",
    "import warnings\n",
    "warnings.filterwarnings('ignore')"
   ]
  },
  {
   "cell_type": "code",
   "execution_count": 86,
   "metadata": {},
   "outputs": [
    {
     "data": {
      "text/html": [
       "<div>\n",
       "<style scoped>\n",
       "    .dataframe tbody tr th:only-of-type {\n",
       "        vertical-align: middle;\n",
       "    }\n",
       "\n",
       "    .dataframe tbody tr th {\n",
       "        vertical-align: top;\n",
       "    }\n",
       "\n",
       "    .dataframe thead th {\n",
       "        text-align: right;\n",
       "    }\n",
       "</style>\n",
       "<table border=\"1\" class=\"dataframe\">\n",
       "  <thead>\n",
       "    <tr style=\"text-align: right;\">\n",
       "      <th></th>\n",
       "      <th>movieId</th>\n",
       "      <th>imdbId</th>\n",
       "      <th>tmdbId</th>\n",
       "    </tr>\n",
       "  </thead>\n",
       "  <tbody>\n",
       "    <tr>\n",
       "      <th>0</th>\n",
       "      <td>1</td>\n",
       "      <td>114709</td>\n",
       "      <td>862.0</td>\n",
       "    </tr>\n",
       "    <tr>\n",
       "      <th>1</th>\n",
       "      <td>2</td>\n",
       "      <td>113497</td>\n",
       "      <td>8844.0</td>\n",
       "    </tr>\n",
       "    <tr>\n",
       "      <th>2</th>\n",
       "      <td>3</td>\n",
       "      <td>113228</td>\n",
       "      <td>15602.0</td>\n",
       "    </tr>\n",
       "    <tr>\n",
       "      <th>3</th>\n",
       "      <td>4</td>\n",
       "      <td>114885</td>\n",
       "      <td>31357.0</td>\n",
       "    </tr>\n",
       "    <tr>\n",
       "      <th>4</th>\n",
       "      <td>5</td>\n",
       "      <td>113041</td>\n",
       "      <td>11862.0</td>\n",
       "    </tr>\n",
       "  </tbody>\n",
       "</table>\n",
       "</div>"
      ],
      "text/plain": [
       "   movieId  imdbId   tmdbId\n",
       "0        1  114709    862.0\n",
       "1        2  113497   8844.0\n",
       "2        3  113228  15602.0\n",
       "3        4  114885  31357.0\n",
       "4        5  113041  11862.0"
      ]
     },
     "execution_count": 86,
     "metadata": {},
     "output_type": "execute_result"
    }
   ],
   "source": [
    "# Loading the links csv\n",
    "links = pd.read_csv('links.csv')\n",
    "links.head()"
   ]
  },
  {
   "cell_type": "code",
   "execution_count": 87,
   "metadata": {},
   "outputs": [
    {
     "data": {
      "text/plain": [
       "(9742, 3)"
      ]
     },
     "execution_count": 87,
     "metadata": {},
     "output_type": "execute_result"
    }
   ],
   "source": [
    "links.shape"
   ]
  },
  {
   "cell_type": "code",
   "execution_count": 88,
   "metadata": {},
   "outputs": [
    {
     "name": "stdout",
     "output_type": "stream",
     "text": [
      "<class 'pandas.core.frame.DataFrame'>\n",
      "RangeIndex: 9742 entries, 0 to 9741\n",
      "Data columns (total 3 columns):\n",
      " #   Column   Non-Null Count  Dtype  \n",
      "---  ------   --------------  -----  \n",
      " 0   movieId  9742 non-null   int64  \n",
      " 1   imdbId   9742 non-null   int64  \n",
      " 2   tmdbId   9734 non-null   float64\n",
      "dtypes: float64(1), int64(2)\n",
      "memory usage: 228.5 KB\n"
     ]
    }
   ],
   "source": [
    "links.info()"
   ]
  },
  {
   "cell_type": "code",
   "execution_count": 89,
   "metadata": {},
   "outputs": [
    {
     "data": {
      "text/html": [
       "<div>\n",
       "<style scoped>\n",
       "    .dataframe tbody tr th:only-of-type {\n",
       "        vertical-align: middle;\n",
       "    }\n",
       "\n",
       "    .dataframe tbody tr th {\n",
       "        vertical-align: top;\n",
       "    }\n",
       "\n",
       "    .dataframe thead th {\n",
       "        text-align: right;\n",
       "    }\n",
       "</style>\n",
       "<table border=\"1\" class=\"dataframe\">\n",
       "  <thead>\n",
       "    <tr style=\"text-align: right;\">\n",
       "      <th></th>\n",
       "      <th>movieId</th>\n",
       "      <th>title</th>\n",
       "      <th>genres</th>\n",
       "    </tr>\n",
       "  </thead>\n",
       "  <tbody>\n",
       "    <tr>\n",
       "      <th>0</th>\n",
       "      <td>1</td>\n",
       "      <td>Toy Story (1995)</td>\n",
       "      <td>Adventure|Animation|Children|Comedy|Fantasy</td>\n",
       "    </tr>\n",
       "    <tr>\n",
       "      <th>1</th>\n",
       "      <td>2</td>\n",
       "      <td>Jumanji (1995)</td>\n",
       "      <td>Adventure|Children|Fantasy</td>\n",
       "    </tr>\n",
       "    <tr>\n",
       "      <th>2</th>\n",
       "      <td>3</td>\n",
       "      <td>Grumpier Old Men (1995)</td>\n",
       "      <td>Comedy|Romance</td>\n",
       "    </tr>\n",
       "    <tr>\n",
       "      <th>3</th>\n",
       "      <td>4</td>\n",
       "      <td>Waiting to Exhale (1995)</td>\n",
       "      <td>Comedy|Drama|Romance</td>\n",
       "    </tr>\n",
       "    <tr>\n",
       "      <th>4</th>\n",
       "      <td>5</td>\n",
       "      <td>Father of the Bride Part II (1995)</td>\n",
       "      <td>Comedy</td>\n",
       "    </tr>\n",
       "    <tr>\n",
       "      <th>5</th>\n",
       "      <td>6</td>\n",
       "      <td>Heat (1995)</td>\n",
       "      <td>Action|Crime|Thriller</td>\n",
       "    </tr>\n",
       "    <tr>\n",
       "      <th>6</th>\n",
       "      <td>7</td>\n",
       "      <td>Sabrina (1995)</td>\n",
       "      <td>Comedy|Romance</td>\n",
       "    </tr>\n",
       "    <tr>\n",
       "      <th>7</th>\n",
       "      <td>8</td>\n",
       "      <td>Tom and Huck (1995)</td>\n",
       "      <td>Adventure|Children</td>\n",
       "    </tr>\n",
       "    <tr>\n",
       "      <th>8</th>\n",
       "      <td>9</td>\n",
       "      <td>Sudden Death (1995)</td>\n",
       "      <td>Action</td>\n",
       "    </tr>\n",
       "    <tr>\n",
       "      <th>9</th>\n",
       "      <td>10</td>\n",
       "      <td>GoldenEye (1995)</td>\n",
       "      <td>Action|Adventure|Thriller</td>\n",
       "    </tr>\n",
       "  </tbody>\n",
       "</table>\n",
       "</div>"
      ],
      "text/plain": [
       "   movieId                               title  \\\n",
       "0        1                    Toy Story (1995)   \n",
       "1        2                      Jumanji (1995)   \n",
       "2        3             Grumpier Old Men (1995)   \n",
       "3        4            Waiting to Exhale (1995)   \n",
       "4        5  Father of the Bride Part II (1995)   \n",
       "5        6                         Heat (1995)   \n",
       "6        7                      Sabrina (1995)   \n",
       "7        8                 Tom and Huck (1995)   \n",
       "8        9                 Sudden Death (1995)   \n",
       "9       10                    GoldenEye (1995)   \n",
       "\n",
       "                                        genres  \n",
       "0  Adventure|Animation|Children|Comedy|Fantasy  \n",
       "1                   Adventure|Children|Fantasy  \n",
       "2                               Comedy|Romance  \n",
       "3                         Comedy|Drama|Romance  \n",
       "4                                       Comedy  \n",
       "5                        Action|Crime|Thriller  \n",
       "6                               Comedy|Romance  \n",
       "7                           Adventure|Children  \n",
       "8                                       Action  \n",
       "9                    Action|Adventure|Thriller  "
      ]
     },
     "execution_count": 89,
     "metadata": {},
     "output_type": "execute_result"
    }
   ],
   "source": [
    "# loading the movies csv\n",
    "movies = pd.read_csv('movies.csv')\n",
    "movies.head(10)\n"
   ]
  },
  {
   "cell_type": "code",
   "execution_count": 90,
   "metadata": {},
   "outputs": [
    {
     "data": {
      "text/plain": [
       "(9742, 3)"
      ]
     },
     "execution_count": 90,
     "metadata": {},
     "output_type": "execute_result"
    }
   ],
   "source": [
    "movies.shape"
   ]
  },
  {
   "cell_type": "code",
   "execution_count": 91,
   "metadata": {},
   "outputs": [
    {
     "name": "stdout",
     "output_type": "stream",
     "text": [
      "<class 'pandas.core.frame.DataFrame'>\n",
      "RangeIndex: 9742 entries, 0 to 9741\n",
      "Data columns (total 3 columns):\n",
      " #   Column   Non-Null Count  Dtype \n",
      "---  ------   --------------  ----- \n",
      " 0   movieId  9742 non-null   int64 \n",
      " 1   title    9742 non-null   object\n",
      " 2   genres   9742 non-null   object\n",
      "dtypes: int64(1), object(2)\n",
      "memory usage: 228.5+ KB\n"
     ]
    }
   ],
   "source": [
    "\n",
    "movies.info()"
   ]
  },
  {
   "cell_type": "code",
   "execution_count": 92,
   "metadata": {},
   "outputs": [
    {
     "data": {
      "text/plain": [
       "movieId    0\n",
       "title      0\n",
       "genres     0\n",
       "dtype: int64"
      ]
     },
     "execution_count": 92,
     "metadata": {},
     "output_type": "execute_result"
    }
   ],
   "source": [
    "# looking for null values in movies\n",
    "movies.isnull().sum()"
   ]
  },
  {
   "cell_type": "code",
   "execution_count": 93,
   "metadata": {},
   "outputs": [
    {
     "data": {
      "text/html": [
       "<div>\n",
       "<style scoped>\n",
       "    .dataframe tbody tr th:only-of-type {\n",
       "        vertical-align: middle;\n",
       "    }\n",
       "\n",
       "    .dataframe tbody tr th {\n",
       "        vertical-align: top;\n",
       "    }\n",
       "\n",
       "    .dataframe thead th {\n",
       "        text-align: right;\n",
       "    }\n",
       "</style>\n",
       "<table border=\"1\" class=\"dataframe\">\n",
       "  <thead>\n",
       "    <tr style=\"text-align: right;\">\n",
       "      <th></th>\n",
       "      <th>userId</th>\n",
       "      <th>movieId</th>\n",
       "      <th>rating</th>\n",
       "      <th>timestamp</th>\n",
       "    </tr>\n",
       "  </thead>\n",
       "  <tbody>\n",
       "    <tr>\n",
       "      <th>0</th>\n",
       "      <td>1</td>\n",
       "      <td>1</td>\n",
       "      <td>4.0</td>\n",
       "      <td>964982703</td>\n",
       "    </tr>\n",
       "    <tr>\n",
       "      <th>1</th>\n",
       "      <td>1</td>\n",
       "      <td>3</td>\n",
       "      <td>4.0</td>\n",
       "      <td>964981247</td>\n",
       "    </tr>\n",
       "    <tr>\n",
       "      <th>2</th>\n",
       "      <td>1</td>\n",
       "      <td>6</td>\n",
       "      <td>4.0</td>\n",
       "      <td>964982224</td>\n",
       "    </tr>\n",
       "    <tr>\n",
       "      <th>3</th>\n",
       "      <td>1</td>\n",
       "      <td>47</td>\n",
       "      <td>5.0</td>\n",
       "      <td>964983815</td>\n",
       "    </tr>\n",
       "    <tr>\n",
       "      <th>4</th>\n",
       "      <td>1</td>\n",
       "      <td>50</td>\n",
       "      <td>5.0</td>\n",
       "      <td>964982931</td>\n",
       "    </tr>\n",
       "  </tbody>\n",
       "</table>\n",
       "</div>"
      ],
      "text/plain": [
       "   userId  movieId  rating  timestamp\n",
       "0       1        1     4.0  964982703\n",
       "1       1        3     4.0  964981247\n",
       "2       1        6     4.0  964982224\n",
       "3       1       47     5.0  964983815\n",
       "4       1       50     5.0  964982931"
      ]
     },
     "execution_count": 93,
     "metadata": {},
     "output_type": "execute_result"
    }
   ],
   "source": [
    "# Loading the ratings csv\n",
    "ratings = pd.read_csv('ratings.csv')\n",
    "ratings.head()"
   ]
  },
  {
   "cell_type": "code",
   "execution_count": 94,
   "metadata": {},
   "outputs": [
    {
     "data": {
      "text/plain": [
       "(100836, 4)"
      ]
     },
     "execution_count": 94,
     "metadata": {},
     "output_type": "execute_result"
    }
   ],
   "source": [
    "ratings.shape"
   ]
  },
  {
   "cell_type": "code",
   "execution_count": 95,
   "metadata": {},
   "outputs": [
    {
     "name": "stdout",
     "output_type": "stream",
     "text": [
      "<class 'pandas.core.frame.DataFrame'>\n",
      "RangeIndex: 100836 entries, 0 to 100835\n",
      "Data columns (total 4 columns):\n",
      " #   Column     Non-Null Count   Dtype  \n",
      "---  ------     --------------   -----  \n",
      " 0   userId     100836 non-null  int64  \n",
      " 1   movieId    100836 non-null  int64  \n",
      " 2   rating     100836 non-null  float64\n",
      " 3   timestamp  100836 non-null  int64  \n",
      "dtypes: float64(1), int64(3)\n",
      "memory usage: 3.1 MB\n"
     ]
    }
   ],
   "source": [
    "ratings.info()"
   ]
  },
  {
   "cell_type": "code",
   "execution_count": 96,
   "metadata": {},
   "outputs": [
    {
     "data": {
      "text/plain": [
       "userId       0\n",
       "movieId      0\n",
       "rating       0\n",
       "timestamp    0\n",
       "dtype: int64"
      ]
     },
     "execution_count": 96,
     "metadata": {},
     "output_type": "execute_result"
    }
   ],
   "source": [
    "# null values in ratings\n",
    "ratings.isnull().sum()"
   ]
  },
  {
   "cell_type": "code",
   "execution_count": 97,
   "metadata": {},
   "outputs": [
    {
     "data": {
      "text/html": [
       "<div>\n",
       "<style scoped>\n",
       "    .dataframe tbody tr th:only-of-type {\n",
       "        vertical-align: middle;\n",
       "    }\n",
       "\n",
       "    .dataframe tbody tr th {\n",
       "        vertical-align: top;\n",
       "    }\n",
       "\n",
       "    .dataframe thead th {\n",
       "        text-align: right;\n",
       "    }\n",
       "</style>\n",
       "<table border=\"1\" class=\"dataframe\">\n",
       "  <thead>\n",
       "    <tr style=\"text-align: right;\">\n",
       "      <th></th>\n",
       "      <th>userId</th>\n",
       "      <th>movieId</th>\n",
       "      <th>tag</th>\n",
       "      <th>timestamp</th>\n",
       "    </tr>\n",
       "  </thead>\n",
       "  <tbody>\n",
       "    <tr>\n",
       "      <th>0</th>\n",
       "      <td>2</td>\n",
       "      <td>60756</td>\n",
       "      <td>funny</td>\n",
       "      <td>1445714994</td>\n",
       "    </tr>\n",
       "    <tr>\n",
       "      <th>1</th>\n",
       "      <td>2</td>\n",
       "      <td>60756</td>\n",
       "      <td>Highly quotable</td>\n",
       "      <td>1445714996</td>\n",
       "    </tr>\n",
       "    <tr>\n",
       "      <th>2</th>\n",
       "      <td>2</td>\n",
       "      <td>60756</td>\n",
       "      <td>will ferrell</td>\n",
       "      <td>1445714992</td>\n",
       "    </tr>\n",
       "    <tr>\n",
       "      <th>3</th>\n",
       "      <td>2</td>\n",
       "      <td>89774</td>\n",
       "      <td>Boxing story</td>\n",
       "      <td>1445715207</td>\n",
       "    </tr>\n",
       "    <tr>\n",
       "      <th>4</th>\n",
       "      <td>2</td>\n",
       "      <td>89774</td>\n",
       "      <td>MMA</td>\n",
       "      <td>1445715200</td>\n",
       "    </tr>\n",
       "    <tr>\n",
       "      <th>5</th>\n",
       "      <td>2</td>\n",
       "      <td>89774</td>\n",
       "      <td>Tom Hardy</td>\n",
       "      <td>1445715205</td>\n",
       "    </tr>\n",
       "    <tr>\n",
       "      <th>6</th>\n",
       "      <td>2</td>\n",
       "      <td>106782</td>\n",
       "      <td>drugs</td>\n",
       "      <td>1445715054</td>\n",
       "    </tr>\n",
       "    <tr>\n",
       "      <th>7</th>\n",
       "      <td>2</td>\n",
       "      <td>106782</td>\n",
       "      <td>Leonardo DiCaprio</td>\n",
       "      <td>1445715051</td>\n",
       "    </tr>\n",
       "    <tr>\n",
       "      <th>8</th>\n",
       "      <td>2</td>\n",
       "      <td>106782</td>\n",
       "      <td>Martin Scorsese</td>\n",
       "      <td>1445715056</td>\n",
       "    </tr>\n",
       "    <tr>\n",
       "      <th>9</th>\n",
       "      <td>7</td>\n",
       "      <td>48516</td>\n",
       "      <td>way too long</td>\n",
       "      <td>1169687325</td>\n",
       "    </tr>\n",
       "  </tbody>\n",
       "</table>\n",
       "</div>"
      ],
      "text/plain": [
       "   userId  movieId                tag   timestamp\n",
       "0       2    60756              funny  1445714994\n",
       "1       2    60756    Highly quotable  1445714996\n",
       "2       2    60756       will ferrell  1445714992\n",
       "3       2    89774       Boxing story  1445715207\n",
       "4       2    89774                MMA  1445715200\n",
       "5       2    89774          Tom Hardy  1445715205\n",
       "6       2   106782              drugs  1445715054\n",
       "7       2   106782  Leonardo DiCaprio  1445715051\n",
       "8       2   106782    Martin Scorsese  1445715056\n",
       "9       7    48516       way too long  1169687325"
      ]
     },
     "execution_count": 97,
     "metadata": {},
     "output_type": "execute_result"
    }
   ],
   "source": [
    "# Loading the tags csv\n",
    "tags = pd.read_csv('tags.csv')\n",
    "tags.head(10)"
   ]
  },
  {
   "cell_type": "code",
   "execution_count": 98,
   "metadata": {},
   "outputs": [
    {
     "data": {
      "text/plain": [
       "(3683, 4)"
      ]
     },
     "execution_count": 98,
     "metadata": {},
     "output_type": "execute_result"
    }
   ],
   "source": [
    "tags.shape"
   ]
  },
  {
   "cell_type": "code",
   "execution_count": 99,
   "metadata": {},
   "outputs": [
    {
     "name": "stdout",
     "output_type": "stream",
     "text": [
      "<class 'pandas.core.frame.DataFrame'>\n",
      "RangeIndex: 3683 entries, 0 to 3682\n",
      "Data columns (total 4 columns):\n",
      " #   Column     Non-Null Count  Dtype \n",
      "---  ------     --------------  ----- \n",
      " 0   userId     3683 non-null   int64 \n",
      " 1   movieId    3683 non-null   int64 \n",
      " 2   tag        3683 non-null   object\n",
      " 3   timestamp  3683 non-null   int64 \n",
      "dtypes: int64(3), object(1)\n",
      "memory usage: 115.2+ KB\n"
     ]
    }
   ],
   "source": [
    "tags.info()"
   ]
  },
  {
   "cell_type": "markdown",
   "metadata": {},
   "source": [
    "## Merging data"
   ]
  },
  {
   "cell_type": "markdown",
   "metadata": {},
   "source": [
    "merging the ratings and the movies dataset on the movieId column to form one"
   ]
  },
  {
   "cell_type": "code",
   "execution_count": 100,
   "metadata": {},
   "outputs": [
    {
     "data": {
      "text/html": [
       "<div>\n",
       "<style scoped>\n",
       "    .dataframe tbody tr th:only-of-type {\n",
       "        vertical-align: middle;\n",
       "    }\n",
       "\n",
       "    .dataframe tbody tr th {\n",
       "        vertical-align: top;\n",
       "    }\n",
       "\n",
       "    .dataframe thead th {\n",
       "        text-align: right;\n",
       "    }\n",
       "</style>\n",
       "<table border=\"1\" class=\"dataframe\">\n",
       "  <thead>\n",
       "    <tr style=\"text-align: right;\">\n",
       "      <th></th>\n",
       "      <th>movieId</th>\n",
       "      <th>title</th>\n",
       "      <th>genres</th>\n",
       "      <th>userId</th>\n",
       "      <th>rating</th>\n",
       "      <th>timestamp</th>\n",
       "    </tr>\n",
       "  </thead>\n",
       "  <tbody>\n",
       "    <tr>\n",
       "      <th>0</th>\n",
       "      <td>1</td>\n",
       "      <td>Toy Story (1995)</td>\n",
       "      <td>Adventure|Animation|Children|Comedy|Fantasy</td>\n",
       "      <td>1</td>\n",
       "      <td>4.0</td>\n",
       "      <td>964982703</td>\n",
       "    </tr>\n",
       "    <tr>\n",
       "      <th>1</th>\n",
       "      <td>1</td>\n",
       "      <td>Toy Story (1995)</td>\n",
       "      <td>Adventure|Animation|Children|Comedy|Fantasy</td>\n",
       "      <td>5</td>\n",
       "      <td>4.0</td>\n",
       "      <td>847434962</td>\n",
       "    </tr>\n",
       "    <tr>\n",
       "      <th>2</th>\n",
       "      <td>1</td>\n",
       "      <td>Toy Story (1995)</td>\n",
       "      <td>Adventure|Animation|Children|Comedy|Fantasy</td>\n",
       "      <td>7</td>\n",
       "      <td>4.5</td>\n",
       "      <td>1106635946</td>\n",
       "    </tr>\n",
       "    <tr>\n",
       "      <th>3</th>\n",
       "      <td>1</td>\n",
       "      <td>Toy Story (1995)</td>\n",
       "      <td>Adventure|Animation|Children|Comedy|Fantasy</td>\n",
       "      <td>15</td>\n",
       "      <td>2.5</td>\n",
       "      <td>1510577970</td>\n",
       "    </tr>\n",
       "    <tr>\n",
       "      <th>4</th>\n",
       "      <td>1</td>\n",
       "      <td>Toy Story (1995)</td>\n",
       "      <td>Adventure|Animation|Children|Comedy|Fantasy</td>\n",
       "      <td>17</td>\n",
       "      <td>4.5</td>\n",
       "      <td>1305696483</td>\n",
       "    </tr>\n",
       "  </tbody>\n",
       "</table>\n",
       "</div>"
      ],
      "text/plain": [
       "   movieId             title                                       genres  \\\n",
       "0        1  Toy Story (1995)  Adventure|Animation|Children|Comedy|Fantasy   \n",
       "1        1  Toy Story (1995)  Adventure|Animation|Children|Comedy|Fantasy   \n",
       "2        1  Toy Story (1995)  Adventure|Animation|Children|Comedy|Fantasy   \n",
       "3        1  Toy Story (1995)  Adventure|Animation|Children|Comedy|Fantasy   \n",
       "4        1  Toy Story (1995)  Adventure|Animation|Children|Comedy|Fantasy   \n",
       "\n",
       "   userId  rating   timestamp  \n",
       "0       1     4.0   964982703  \n",
       "1       5     4.0   847434962  \n",
       "2       7     4.5  1106635946  \n",
       "3      15     2.5  1510577970  \n",
       "4      17     4.5  1305696483  "
      ]
     },
     "execution_count": 100,
     "metadata": {},
     "output_type": "execute_result"
    }
   ],
   "source": [
    "df = pd.merge(movies, ratings, on='movieId')\n",
    "df.head()"
   ]
  },
  {
   "cell_type": "code",
   "execution_count": 101,
   "metadata": {},
   "outputs": [
    {
     "data": {
      "text/plain": [
       "(100836, 6)"
      ]
     },
     "execution_count": 101,
     "metadata": {},
     "output_type": "execute_result"
    }
   ],
   "source": [
    "# shape of the merged dataframe\n",
    "df.shape"
   ]
  },
  {
   "cell_type": "code",
   "execution_count": 102,
   "metadata": {},
   "outputs": [
    {
     "name": "stdout",
     "output_type": "stream",
     "text": [
      "<class 'pandas.core.frame.DataFrame'>\n",
      "RangeIndex: 100836 entries, 0 to 100835\n",
      "Data columns (total 6 columns):\n",
      " #   Column     Non-Null Count   Dtype  \n",
      "---  ------     --------------   -----  \n",
      " 0   movieId    100836 non-null  int64  \n",
      " 1   title      100836 non-null  object \n",
      " 2   genres     100836 non-null  object \n",
      " 3   userId     100836 non-null  int64  \n",
      " 4   rating     100836 non-null  float64\n",
      " 5   timestamp  100836 non-null  int64  \n",
      "dtypes: float64(1), int64(3), object(2)\n",
      "memory usage: 4.6+ MB\n"
     ]
    }
   ],
   "source": [
    "# info of the merged dataframe\n",
    "df.info()"
   ]
  },
  {
   "cell_type": "code",
   "execution_count": 103,
   "metadata": {},
   "outputs": [
    {
     "data": {
      "text/plain": [
       "movieId      0\n",
       "title        0\n",
       "genres       0\n",
       "userId       0\n",
       "rating       0\n",
       "timestamp    0\n",
       "dtype: int64"
      ]
     },
     "execution_count": 103,
     "metadata": {},
     "output_type": "execute_result"
    }
   ],
   "source": [
    "# looking for null values in df\n",
    "df.isnull().sum()"
   ]
  },
  {
   "cell_type": "code",
   "execution_count": 104,
   "metadata": {},
   "outputs": [
    {
     "data": {
      "text/plain": [
       "np.int64(0)"
      ]
     },
     "execution_count": 104,
     "metadata": {},
     "output_type": "execute_result"
    }
   ],
   "source": [
    "# looking for  any duplicates\n",
    "df.duplicated().sum()"
   ]
  },
  {
   "cell_type": "code",
   "execution_count": 105,
   "metadata": {},
   "outputs": [],
   "source": [
    "# dropping the timestamp column\n",
    "df.drop('timestamp', axis=1, inplace=True)"
   ]
  },
  {
   "cell_type": "code",
   "execution_count": 106,
   "metadata": {},
   "outputs": [
    {
     "data": {
      "text/plain": [
       "Index(['movieId', 'title', 'genres', 'userId', 'rating'], dtype='object')"
      ]
     },
     "execution_count": 106,
     "metadata": {},
     "output_type": "execute_result"
    }
   ],
   "source": [
    "# available columns in df\n",
    "df.columns"
   ]
  },
  {
   "cell_type": "code",
   "execution_count": 107,
   "metadata": {},
   "outputs": [
    {
     "data": {
      "text/html": [
       "<div>\n",
       "<style scoped>\n",
       "    .dataframe tbody tr th:only-of-type {\n",
       "        vertical-align: middle;\n",
       "    }\n",
       "\n",
       "    .dataframe tbody tr th {\n",
       "        vertical-align: top;\n",
       "    }\n",
       "\n",
       "    .dataframe thead th {\n",
       "        text-align: right;\n",
       "    }\n",
       "</style>\n",
       "<table border=\"1\" class=\"dataframe\">\n",
       "  <thead>\n",
       "    <tr style=\"text-align: right;\">\n",
       "      <th></th>\n",
       "      <th>movieId</th>\n",
       "      <th>userId</th>\n",
       "      <th>rating</th>\n",
       "    </tr>\n",
       "  </thead>\n",
       "  <tbody>\n",
       "    <tr>\n",
       "      <th>count</th>\n",
       "      <td>100836.000000</td>\n",
       "      <td>100836.000000</td>\n",
       "      <td>100836.000000</td>\n",
       "    </tr>\n",
       "    <tr>\n",
       "      <th>mean</th>\n",
       "      <td>19435.295718</td>\n",
       "      <td>326.127564</td>\n",
       "      <td>3.501557</td>\n",
       "    </tr>\n",
       "    <tr>\n",
       "      <th>std</th>\n",
       "      <td>35530.987199</td>\n",
       "      <td>182.618491</td>\n",
       "      <td>1.042529</td>\n",
       "    </tr>\n",
       "    <tr>\n",
       "      <th>min</th>\n",
       "      <td>1.000000</td>\n",
       "      <td>1.000000</td>\n",
       "      <td>0.500000</td>\n",
       "    </tr>\n",
       "    <tr>\n",
       "      <th>25%</th>\n",
       "      <td>1199.000000</td>\n",
       "      <td>177.000000</td>\n",
       "      <td>3.000000</td>\n",
       "    </tr>\n",
       "    <tr>\n",
       "      <th>50%</th>\n",
       "      <td>2991.000000</td>\n",
       "      <td>325.000000</td>\n",
       "      <td>3.500000</td>\n",
       "    </tr>\n",
       "    <tr>\n",
       "      <th>75%</th>\n",
       "      <td>8122.000000</td>\n",
       "      <td>477.000000</td>\n",
       "      <td>4.000000</td>\n",
       "    </tr>\n",
       "    <tr>\n",
       "      <th>max</th>\n",
       "      <td>193609.000000</td>\n",
       "      <td>610.000000</td>\n",
       "      <td>5.000000</td>\n",
       "    </tr>\n",
       "  </tbody>\n",
       "</table>\n",
       "</div>"
      ],
      "text/plain": [
       "             movieId         userId         rating\n",
       "count  100836.000000  100836.000000  100836.000000\n",
       "mean    19435.295718     326.127564       3.501557\n",
       "std     35530.987199     182.618491       1.042529\n",
       "min         1.000000       1.000000       0.500000\n",
       "25%      1199.000000     177.000000       3.000000\n",
       "50%      2991.000000     325.000000       3.500000\n",
       "75%      8122.000000     477.000000       4.000000\n",
       "max    193609.000000     610.000000       5.000000"
      ]
     },
     "execution_count": 107,
     "metadata": {},
     "output_type": "execute_result"
    }
   ],
   "source": [
    "# descriptive statistics of df\n",
    "df.describe()"
   ]
  },
  {
   "cell_type": "markdown",
   "metadata": {},
   "source": [
    "## Exploratory Data Analysis\n",
    "\n",
    "In this section, I will perform exploratory data analysis (EDA) to understand the data better and discover any patterns, trends, or outliers that may exist.\n",
    "\n",
    "We will use descriptive statistics and visualizations to summarize the data and examine the relationships between the predictors and the target variable. \n",
    "\n",
    "We will check whether the distribution is normal and the correlation of variables and identify the potential merits or problems for the data analysis."
   ]
  },
  {
   "cell_type": "markdown",
   "metadata": {},
   "source": [
    "### Univariate Analysis\n",
    "\n",
    "This refers to analysis of one variable. Its purpose is to understand the distribution of values for a single variable. The most common way to use the analysis to describe a variable using summary statistics that is measures of central tendency eg mean, median, mode etc."
   ]
  },
  {
   "cell_type": "code",
   "execution_count": 108,
   "metadata": {},
   "outputs": [
    {
     "data": {
      "text/plain": [
       "951"
      ]
     },
     "execution_count": 108,
     "metadata": {},
     "output_type": "execute_result"
    }
   ],
   "source": [
    "# know the total number of genres are in the dataset\n",
    "df['genres'].nunique()"
   ]
  },
  {
   "cell_type": "code",
   "execution_count": 109,
   "metadata": {},
   "outputs": [
    {
     "data": {
      "text/plain": [
       "9719"
      ]
     },
     "execution_count": 109,
     "metadata": {},
     "output_type": "execute_result"
    }
   ],
   "source": [
    "# know the total number of titles are in the dataset\n",
    "df['title'].nunique()"
   ]
  },
  {
   "cell_type": "code",
   "execution_count": 110,
   "metadata": {},
   "outputs": [
    {
     "data": {
      "text/plain": [
       "610"
      ]
     },
     "execution_count": 110,
     "metadata": {},
     "output_type": "execute_result"
    }
   ],
   "source": [
    "# know the total number of users are in the dataset\n",
    "df['userId'].nunique()"
   ]
  },
  {
   "cell_type": "code",
   "execution_count": 111,
   "metadata": {},
   "outputs": [
    {
     "data": {
      "text/plain": [
       "9724"
      ]
     },
     "execution_count": 111,
     "metadata": {},
     "output_type": "execute_result"
    }
   ],
   "source": [
    "# know the total number of movies are in the dataset\n",
    "\n",
    "df['movieId'].nunique()"
   ]
  },
  {
   "cell_type": "code",
   "execution_count": 112,
   "metadata": {},
   "outputs": [
    {
     "data": {
      "text/plain": [
       "userId\n",
       "414    2698\n",
       "599    2478\n",
       "474    2108\n",
       "448    1864\n",
       "274    1346\n",
       "       ... \n",
       "53       20\n",
       "207      20\n",
       "431      20\n",
       "442      20\n",
       "189      20\n",
       "Name: count, Length: 610, dtype: int64"
      ]
     },
     "execution_count": 112,
     "metadata": {},
     "output_type": "execute_result"
    }
   ],
   "source": [
    "# knowing the count of movies rated by each user\n",
    "df['userId'].value_counts()\n"
   ]
  },
  {
   "cell_type": "code",
   "execution_count": 113,
   "metadata": {},
   "outputs": [
    {
     "data": {
      "text/plain": [
       "np.float64(165.30491803278687)"
      ]
     },
     "execution_count": 113,
     "metadata": {},
     "output_type": "execute_result"
    }
   ],
   "source": [
    "#the average number of users available in the dataset\n",
    "df['userId'].value_counts().mean()"
   ]
  },
  {
   "cell_type": "code",
   "execution_count": 114,
   "metadata": {},
   "outputs": [
    {
     "data": {
      "text/plain": [
       "movieId\n",
       "356       329\n",
       "318       317\n",
       "296       307\n",
       "593       279\n",
       "2571      278\n",
       "         ... \n",
       "4093        1\n",
       "4089        1\n",
       "58351       1\n",
       "4083        1\n",
       "193609      1\n",
       "Name: count, Length: 9724, dtype: int64"
      ]
     },
     "execution_count": 114,
     "metadata": {},
     "output_type": "execute_result"
    }
   ],
   "source": [
    "# knowing the count of each movie rated by each user\n",
    "df['movieId'].value_counts()"
   ]
  },
  {
   "cell_type": "code",
   "execution_count": 115,
   "metadata": {},
   "outputs": [
    {
     "data": {
      "text/plain": [
       "np.float64(10.369806663924312)"
      ]
     },
     "execution_count": 115,
     "metadata": {},
     "output_type": "execute_result"
    }
   ],
   "source": [
    "#the aggregate of movies available in the dataset\n",
    "df['movieId'].value_counts().mean()"
   ]
  },
  {
   "cell_type": "code",
   "execution_count": 116,
   "metadata": {},
   "outputs": [
    {
     "data": {
      "text/plain": [
       "rating\n",
       "4.0    26818\n",
       "3.0    20047\n",
       "5.0    13211\n",
       "3.5    13136\n",
       "4.5     8551\n",
       "2.0     7551\n",
       "2.5     5550\n",
       "1.0     2811\n",
       "1.5     1791\n",
       "0.5     1370\n",
       "Name: count, dtype: int64"
      ]
     },
     "execution_count": 116,
     "metadata": {},
     "output_type": "execute_result"
    }
   ],
   "source": [
    "# knowing the total count of ratings of movies rated by each user\n",
    "df['rating'].value_counts()"
   ]
  },
  {
   "cell_type": "code",
   "execution_count": 117,
   "metadata": {},
   "outputs": [
    {
     "data": {
      "text/plain": [
       "np.float64(10083.6)"
      ]
     },
     "execution_count": 117,
     "metadata": {},
     "output_type": "execute_result"
    }
   ],
   "source": [
    "# the aggregate of ratings available in the dataset\n",
    "df['rating'].value_counts().mean()"
   ]
  },
  {
   "cell_type": "code",
   "execution_count": 118,
   "metadata": {},
   "outputs": [
    {
     "data": {
      "text/plain": [
       "userId\n",
       "1      4.366379\n",
       "2      3.948276\n",
       "3      2.435897\n",
       "4      3.555556\n",
       "5      3.636364\n",
       "         ...   \n",
       "606    3.657399\n",
       "607    3.786096\n",
       "608    3.134176\n",
       "609    3.270270\n",
       "610    3.688556\n",
       "Name: rating, Length: 610, dtype: float64"
      ]
     },
     "execution_count": 118,
     "metadata": {},
     "output_type": "execute_result"
    }
   ],
   "source": [
    "# average ratings per user in the dataset\n",
    "df.groupby('userId')['rating'].mean()"
   ]
  },
  {
   "cell_type": "markdown",
   "metadata": {},
   "source": [
    "Getting the aggregate of the most and least rated movies "
   ]
  },
  {
   "cell_type": "code",
   "execution_count": 119,
   "metadata": {},
   "outputs": [
    {
     "name": "stdout",
     "output_type": "stream",
     "text": [
      "Top 5 Ratings:\n",
      "                                     rating  rating_counts\n",
      "title                                                     \n",
      "Gena the Crocodile (1969)               5.0              1\n",
      "True Stories (1986)                     5.0              1\n",
      "Cosmic Scrat-tastrophe (2015)           5.0              1\n",
      "Love and Pigeons (1985)                 5.0              1\n",
      "Red Sorghum (Hong gao liang) (1987)     5.0              1\n",
      "\n",
      "Bottom 5 Ratings:\n",
      "                                         rating  rating_counts\n",
      "title                                                         \n",
      "Don't Look Now (1973)                       0.5              1\n",
      "Journey 2: The Mysterious Island (2012)     0.5              1\n",
      "Joe Dirt 2: Beautiful Loser (2015)          0.5              1\n",
      "Jesus Christ Vampire Hunter (2001)          0.5              1\n",
      "Fullmetal Alchemist 2018 (2017)             0.5              1\n"
     ]
    }
   ],
   "source": [
    "# Average rating \n",
    "ratings= pd.DataFrame(df.groupby('title')['rating'].mean())\n",
    "ratings.head()\n",
    "# Rating counts\n",
    "ratings['rating_counts']= pd.DataFrame(df.groupby('title')['rating'].count())\n",
    "ratings.head()\n",
    "\n",
    "# Sorting the ratings DataFrame by 'rating' column in descending order\n",
    "sorted_ratings = ratings.sort_values(by='rating', ascending=False)\n",
    "\n",
    "top_5_ratings = sorted_ratings.head(5)\n",
    "\n",
    "# Display the last 5 rows (lowest average ratings)\n",
    "bottom_5_ratings = sorted_ratings.tail(5)\n",
    "\n",
    "# Print the top 5 and bottom 5 ratings\n",
    "print(\"Top 5 Ratings:\")\n",
    "print(top_5_ratings)\n",
    "print(\"\\nBottom 5 Ratings:\")\n",
    "print(bottom_5_ratings)"
   ]
  },
  {
   "cell_type": "markdown",
   "metadata": {},
   "source": [
    "This shows the top users who have rated the most movies"
   ]
  },
  {
   "cell_type": "code",
   "execution_count": 120,
   "metadata": {},
   "outputs": [
    {
     "data": {
      "text/plain": [
       "userId\n",
       "53     5.000000\n",
       "251    4.869565\n",
       "515    4.846154\n",
       "25     4.807692\n",
       "30     4.735294\n",
       "Name: rating, dtype: float64"
      ]
     },
     "execution_count": 120,
     "metadata": {},
     "output_type": "execute_result"
    }
   ],
   "source": [
    "df.groupby('userId')['rating'].mean().sort_values(ascending=False).head()"
   ]
  },
  {
   "cell_type": "markdown",
   "metadata": {},
   "source": [
    "Getting the total sum of ratings in each and every movie that was rated in the dataset"
   ]
  },
  {
   "cell_type": "code",
   "execution_count": 121,
   "metadata": {},
   "outputs": [
    {
     "name": "stdout",
     "output_type": "stream",
     "text": [
      "The top most rated movies are : title\n",
      "Forrest Gump (1994)                 329\n",
      "Shawshank Redemption, The (1994)    317\n",
      "Pulp Fiction (1994)                 307\n",
      "Silence of the Lambs, The (1991)    279\n",
      "Matrix, The (1999)                  278\n",
      "Name: rating, dtype: int64\n",
      "\n",
      "\n",
      "The last 5 least rated movies are: title\n",
      "King Solomon's Mines (1950)                  1\n",
      "King Solomon's Mines (1937)                  1\n",
      "King Ralph (1991)                            1\n",
      "King Kong Lives (1986)                       1\n",
      "À nous la liberté (Freedom for Us) (1931)    1\n",
      "Name: rating, dtype: int64\n"
     ]
    }
   ],
   "source": [
    "#getting the total sum of ratings of each movie \n",
    "top_5_most_rated_movies = df.groupby('title')['rating'].count().sort_values(ascending=False).head(5)\n",
    "print(\"The top most rated movies are :\", top_5_most_rated_movies)\n",
    "print()\n",
    "print()\n",
    "\n",
    "last_5_least_rated_movies= df.groupby('title')['rating'].count().sort_values(ascending=False).tail(5)\n",
    "print(\"The last 5 least rated movies are:\", last_5_least_rated_movies)\n"
   ]
  },
  {
   "cell_type": "markdown",
   "metadata": {},
   "source": [
    "Grouping  by 'movieId' and counting the number of ratings for each movie"
   ]
  },
  {
   "cell_type": "code",
   "execution_count": 122,
   "metadata": {},
   "outputs": [
    {
     "name": "stdout",
     "output_type": "stream",
     "text": [
      "      movieId  num_ratings\n",
      "0           1          215\n",
      "1           2          110\n",
      "2           3           52\n",
      "3           4            7\n",
      "4           5           49\n",
      "...       ...          ...\n",
      "9719   193581            1\n",
      "9720   193583            1\n",
      "9721   193585            1\n",
      "9722   193587            1\n",
      "9723   193609            1\n",
      "\n",
      "[9724 rows x 2 columns]\n"
     ]
    }
   ],
   "source": [
    "# Group by 'movieId' and count the number of ratings for each movie\n",
    "ratings_per_movie = df.groupby('movieId')['rating'].count().reset_index()\n",
    "\n",
    "# Rename the columns for clarity\n",
    "ratings_per_movie.columns = ['movieId', 'num_ratings']\n",
    "\n",
    "# Print the number of ratings per movie\n",
    "print(ratings_per_movie)"
   ]
  },
  {
   "cell_type": "markdown",
   "metadata": {},
   "source": [
    "## Data Visualization"
   ]
  },
  {
   "cell_type": "markdown",
   "metadata": {},
   "source": [
    "visualizing the total count of ratings of movies"
   ]
  },
  {
   "cell_type": "code",
   "execution_count": 123,
   "metadata": {},
   "outputs": [
    {
     "data": {
      "image/png": "[encoded data removed]",
      "text/plain": [
       "<Figure size 600x400 with 1 Axes>"
      ]
     },
     "metadata": {},
     "output_type": "display_data"
    }
   ],
   "source": [
    "#  ratings distribution of movies in df\n",
    "plt.figure(figsize=(6, 4))\n",
    "sns.countplot(x='rating', data=df)\n",
    "plt.show()\n"
   ]
  },
  {
   "cell_type": "markdown",
   "metadata": {},
   "source": [
    "Only a few movies have a lower rating as the ratings below avarage (ie 2.5) are minimal than those above 2.5. Therefore its right to say that they provide great movies and great services."
   ]
  },
  {
   "cell_type": "markdown",
   "metadata": {},
   "source": [
    "Visualizing the frequency at which each movie has been rated."
   ]
  },
  {
   "cell_type": "code",
   "execution_count": 124,
   "metadata": {},
   "outputs": [
    {
     "data": {
      "text/html": [
       "<div>\n",
       "<style scoped>\n",
       "    .dataframe tbody tr th:only-of-type {\n",
       "        vertical-align: middle;\n",
       "    }\n",
       "\n",
       "    .dataframe tbody tr th {\n",
       "        vertical-align: top;\n",
       "    }\n",
       "\n",
       "    .dataframe thead th {\n",
       "        text-align: right;\n",
       "    }\n",
       "</style>\n",
       "<table border=\"1\" class=\"dataframe\">\n",
       "  <thead>\n",
       "    <tr style=\"text-align: right;\">\n",
       "      <th></th>\n",
       "      <th>count</th>\n",
       "    </tr>\n",
       "    <tr>\n",
       "      <th>title</th>\n",
       "      <th></th>\n",
       "    </tr>\n",
       "  </thead>\n",
       "  <tbody>\n",
       "    <tr>\n",
       "      <th>'71 (2014)</th>\n",
       "      <td>1</td>\n",
       "    </tr>\n",
       "    <tr>\n",
       "      <th>'Hellboy': The Seeds of Creation (2004)</th>\n",
       "      <td>1</td>\n",
       "    </tr>\n",
       "    <tr>\n",
       "      <th>'Round Midnight (1986)</th>\n",
       "      <td>2</td>\n",
       "    </tr>\n",
       "    <tr>\n",
       "      <th>'Salem's Lot (2004)</th>\n",
       "      <td>1</td>\n",
       "    </tr>\n",
       "    <tr>\n",
       "      <th>'Til There Was You (1997)</th>\n",
       "      <td>2</td>\n",
       "    </tr>\n",
       "  </tbody>\n",
       "</table>\n",
       "</div>"
      ],
      "text/plain": [
       "                                         count\n",
       "title                                         \n",
       "'71 (2014)                                   1\n",
       "'Hellboy': The Seeds of Creation (2004)      1\n",
       "'Round Midnight (1986)                       2\n",
       "'Salem's Lot (2004)                          1\n",
       "'Til There Was You (1997)                    2"
      ]
     },
     "execution_count": 124,
     "metadata": {},
     "output_type": "execute_result"
    }
   ],
   "source": [
    "# get rating frequency\n",
    "movies_count_df = pd.DataFrame(df.groupby('title').size(), columns=['count'])\n",
    "movies_count_df.head()"
   ]
  },
  {
   "cell_type": "code",
   "execution_count": 125,
   "metadata": {},
   "outputs": [
    {
     "data": {
      "text/plain": [
       "Text(0, 0.5, 'number of ratings')"
      ]
     },
     "execution_count": 125,
     "metadata": {},
     "output_type": "execute_result"
    },
    {
     "data": {
      "image/png": "[encoded data removed]",
      "text/plain": [
       "<Figure size 1200x800 with 1 Axes>"
      ]
     },
     "metadata": {},
     "output_type": "display_data"
    }
   ],
   "source": [
    "# plot rating frequency of all movies\n",
    "ax = movies_count_df \\\n",
    "    .sort_values('count', ascending=False) \\\n",
    "    .reset_index(drop=True) \\\n",
    "    .plot(\n",
    "        figsize=(12, 8),\n",
    "        title='Rating Frequency of All Movies',\n",
    "        fontsize=12\n",
    "    )\n",
    "ax.set_xlabel(\"movie Id\")\n",
    "ax.set_ylabel(\"number of ratings\")"
   ]
  },
  {
   "cell_type": "markdown",
   "metadata": {},
   "source": [
    "The distribution of ratings among movies often satisfies a property in real-world settings, which is referred to as the long-tail property. \n",
    "\n",
    "According to this property, only a small fraction of the items are rated frequently. Such items are referred to as popular items. The vast majority of items are rated rarely. This results in a highly skewed distribution of the underlying ratings."
   ]
  },
  {
   "cell_type": "markdown",
   "metadata": {},
   "source": [
    "## Data Transformation"
   ]
  },
  {
   "cell_type": "markdown",
   "metadata": {},
   "source": [
    "Transforming data available in the dataset into more readable formats"
   ]
  },
  {
   "cell_type": "markdown",
   "metadata": {},
   "source": [
    "1: Genre column \n",
    "\n",
    "It contains multiple genres separated by pipe (|) characters. We need to split these and count the number of unique genres.  \n",
    "\n"
   ]
  },
  {
   "cell_type": "markdown",
   "metadata": {},
   "source": [
    "A list of all the genres available"
   ]
  },
  {
   "cell_type": "code",
   "execution_count": 126,
   "metadata": {},
   "outputs": [
    {
     "data": {
      "text/plain": [
       "array(['Adventure|Animation|Children|Comedy|Fantasy',\n",
       "       'Adventure|Children|Fantasy', 'Comedy|Romance',\n",
       "       'Comedy|Drama|Romance', 'Comedy', 'Action|Crime|Thriller',\n",
       "       'Adventure|Children', 'Action', 'Action|Adventure|Thriller',\n",
       "       'Comedy|Horror', 'Adventure|Animation|Children', 'Drama',\n",
       "       'Action|Adventure|Romance', 'Crime|Drama', 'Drama|Romance',\n",
       "       'Action|Comedy|Crime|Drama|Thriller', 'Comedy|Crime|Thriller',\n",
       "       'Crime|Drama|Horror|Mystery|Thriller', 'Drama|Sci-Fi',\n",
       "       'Children|Drama', 'Adventure|Drama|Fantasy|Mystery|Sci-Fi',\n",
       "       'Mystery|Sci-Fi|Thriller', 'Children|Comedy', 'Drama|War',\n",
       "       'Action|Crime|Drama', 'Action|Adventure|Fantasy',\n",
       "       'Comedy|Drama|Thriller', 'Mystery|Thriller',\n",
       "       'Animation|Children|Drama|Musical|Romance',\n",
       "       'Crime|Mystery|Thriller', 'Adventure|Drama', 'Drama|Thriller',\n",
       "       'Comedy|Crime', 'Action|Sci-Fi|Thriller',\n",
       "       'Action|Comedy|Horror|Thriller', 'Comedy|Drama', 'Documentary',\n",
       "       'Action|Crime|Drama|Thriller', 'Crime|Drama|Romance',\n",
       "       'Action|Adventure|Drama', 'Action|Thriller',\n",
       "       'Drama|Horror|Thriller', 'Comedy|Horror|Romance',\n",
       "       'Adventure|Comedy|Crime|Romance',\n",
       "       'Adventure|Children|Comedy|Musical', 'Action|Drama|War',\n",
       "       'Crime|Drama|Thriller', 'Action|Adventure|Comedy|Crime',\n",
       "       'Drama|Mystery', 'Drama|Mystery|Romance', 'Thriller',\n",
       "       'Adventure|Drama|IMAX', 'Action|Drama|Romance|War', 'Drama|Horror',\n",
       "       'Adventure|Drama|War', 'Comedy|War', 'Crime|Drama|Mystery',\n",
       "       'Action|Adventure|Mystery|Sci-Fi', 'Drama|Thriller|War',\n",
       "       'Action|Romance|Western', 'Crime|Film-Noir|Mystery|Thriller',\n",
       "       'Comedy|Crime|Drama', 'Action|Drama|Romance',\n",
       "       'Adventure|Children|Drama', 'Action|Adventure|Crime|Thriller',\n",
       "       'Action|Crime|Sci-Fi', 'Horror', 'Action|Children',\n",
       "       'Comedy|Horror|Thriller', 'Fantasy|Horror|Mystery',\n",
       "       'Comedy|Fantasy', 'Horror|Sci-Fi',\n",
       "       'Action|Crime|Drama|Mystery|Sci-Fi|Thriller',\n",
       "       'Drama|Musical|Romance', 'Drama|Fantasy',\n",
       "       'Action|Adventure|Sci-Fi', 'Western',\n",
       "       'Adventure|Comedy|Crime|Mystery', 'Adventure|Comedy',\n",
       "       'Action|Comedy|Romance', 'Animation|Children|Comedy|Romance',\n",
       "       'Drama|Musical', 'Children|Comedy|Fantasy', 'Comedy|Sci-Fi',\n",
       "       'Adventure|Children|Comedy|Fantasy|Romance',\n",
       "       'Drama|Fantasy|Romance', 'Drama|Romance|War|Western',\n",
       "       'Drama|Horror|Sci-Fi', 'Action|Crime',\n",
       "       'Action|Drama|Sci-Fi|Thriller', 'Comedy|Crime|Drama|Thriller',\n",
       "       'Action|Thriller|Western', 'Horror|Thriller', 'Animation|Children',\n",
       "       'Children|Drama|Fantasy|Mystery', 'Action|Drama|Thriller',\n",
       "       'Comedy|Drama|Fantasy', 'Film-Noir|Thriller',\n",
       "       'Action|Comedy|Sci-Fi', 'Adventure|Drama|Sci-Fi',\n",
       "       'Action|Crime|Horror', 'Children', 'Drama|Film-Noir|Romance',\n",
       "       'Drama|Mystery|Thriller', 'Action|Crime|Fantasy|Thriller',\n",
       "       'Comedy|Drama|Romance|War', 'Action|Comedy',\n",
       "       'Adventure|Children|Romance',\n",
       "       'Adventure|Animation|Children|Drama|Musical|IMAX',\n",
       "       'Drama|Horror|Mystery|Thriller', 'Action|Comedy|Crime|Fantasy',\n",
       "       'Adventure|Comedy|Western', 'Action|Romance|Thriller',\n",
       "       'Action|Adventure|Comedy|Romance|Thriller',\n",
       "       'Drama|Horror|Romance|Thriller', 'Drama|Romance|War',\n",
       "       'Action|Fantasy', 'Comedy|Thriller',\n",
       "       'Action|Comedy|Crime|Thriller', 'Horror|Sci-Fi|Thriller',\n",
       "       'Drama|Mystery|Romance|Thriller', 'Action|Comedy|Drama',\n",
       "       'Drama|Western', 'Action|Adventure|Crime|Drama|Romance|Thriller',\n",
       "       'Action|Comedy|War', 'Action|Adventure|Sci-Fi|Thriller',\n",
       "       'Action|Adventure|Comedy|Fantasy', 'Comedy|Western',\n",
       "       'Comedy|Mystery', 'Comedy|Drama|Romance|Thriller',\n",
       "       'Action|Children|Romance', 'Action|Drama|Sci-Fi', 'Action|Drama',\n",
       "       'Comedy|Mystery|Romance', 'Action|Drama|Mystery',\n",
       "       'Action|Crime|Drama|Sci-Fi|Thriller', 'Crime|Thriller',\n",
       "       'Comedy|Crime|Horror', 'Action|Adventure|Fantasy|Mystery',\n",
       "       'Comedy|Romance|Thriller',\n",
       "       'Action|Adventure|Children|Comedy|Fantasy|Sci-Fi',\n",
       "       'Action|Mystery|Thriller', 'Animation|Children|Fantasy|Musical',\n",
       "       'Action|Adventure|Comedy|Romance', 'Action|Drama|Western',\n",
       "       'Action|Adventure|Animation|Children|Fantasy',\n",
       "       'Comedy|Drama|Fantasy|Romance|Thriller',\n",
       "       'Adventure|Animation|Children|Comedy|Musical', 'Action|Sci-Fi',\n",
       "       'Adventure|Drama|Western', 'Crime|Horror|Thriller',\n",
       "       'Animation|Children|Drama|Fantasy|Musical',\n",
       "       'Animation|Children|Fantasy|Musical|Romance|IMAX',\n",
       "       'Adventure|Western', 'Action|Comedy|Crime', 'Fantasy|Horror',\n",
       "       'Action|Adventure|Animation|Horror|Sci-Fi', 'Action|Horror|Sci-Fi',\n",
       "       'Crime|Drama|Mystery|Thriller',\n",
       "       'Adventure|Animation|Children|Fantasy|Musical|Romance', 'Romance',\n",
       "       'Action|Crime|Drama|War', 'Action|Adventure|Mystery|Thriller',\n",
       "       'Adventure|Animation|Children|Fantasy|Musical', 'Comedy|Drama|War',\n",
       "       'Adventure|Animation|Children|Comedy|Fantasy|Sci-Fi',\n",
       "       'Adventure|Comedy|Sci-Fi', 'Drama|Mystery|Romance|Sci-Fi|Thriller',\n",
       "       'Action|Adventure|Comedy|War', 'Action|Adventure',\n",
       "       'Drama|Mystery|Western', 'Comedy|Fantasy|Sci-Fi',\n",
       "       'Adventure|Animation|Comedy', 'Drama|Fantasy|Horror|Thriller',\n",
       "       'Action|Adventure|Romance|Thriller', 'Animation|Sci-Fi',\n",
       "       'Animation|Children|Comedy', 'Horror|Mystery',\n",
       "       'Comedy|Fantasy|Romance|Sci-Fi', 'Action|Adventure|Drama|Thriller',\n",
       "       'Comedy|Fantasy|Musical', 'Crime|Drama|Romance|Thriller',\n",
       "       'Crime|Drama|Musical|Thriller', 'Sci-Fi|Thriller',\n",
       "       'Children|Drama|Fantasy', 'Adventure|Animation|Children|Musical',\n",
       "       'Adventure|Drama|Romance|War', 'Comedy|Musical|Romance',\n",
       "       'Musical|Romance', 'Comedy|Musical',\n",
       "       'Action|Adventure|Mystery|Romance|Thriller',\n",
       "       'Comedy|Crime|Mystery|Romance|Thriller', 'Film-Noir|Mystery',\n",
       "       'Comedy|Drama|Musical|Romance', 'Musical',\n",
       "       'Adventure|Children|Fantasy|Musical',\n",
       "       'Drama|Film-Noir|Mystery|Thriller', 'Film-Noir|Romance|Thriller',\n",
       "       'Mystery|Romance|Thriller', 'Crime|Mystery|Romance|Thriller',\n",
       "       'Adventure', 'Crime|Film-Noir|Mystery', 'Drama|Romance|Western',\n",
       "       'Children|Drama|Fantasy|Romance', 'Adventure|Comedy|Romance|War',\n",
       "       'Adventure|Comedy|Crime|Drama|Romance', 'Romance|War',\n",
       "       'Crime|Film-Noir', 'Children|Comedy|Western',\n",
       "       'Children|Comedy|Fantasy|Romance', 'Children|Comedy|Romance',\n",
       "       'Children|Comedy|Drama', 'Children|Comedy|Mystery',\n",
       "       'Animation|Children|Fantasy|Musical|Romance',\n",
       "       'Animation|Children|Musical', 'Children|Comedy|Fantasy|Musical',\n",
       "       'Animation|Children|Drama|Musical', 'Adventure|Children|Musical',\n",
       "       'Animation|Children|Drama', 'Action|Horror|Sci-Fi|Thriller',\n",
       "       'Documentary|Drama',\n",
       "       'Animation|Children|Comedy|Fantasy|Musical|Romance',\n",
       "       'Drama|Romance|Thriller', 'Children|Drama|Sci-Fi',\n",
       "       'Action|Romance', 'Adventure|Comedy|Fantasy',\n",
       "       'Animation|Children|Comedy|Crime',\n",
       "       'Animation|Comedy|Drama|Fantasy', 'Crime|Drama|Film-Noir',\n",
       "       'Documentary|Musical', 'Action|Adventure|Comedy|Fantasy|Romance',\n",
       "       'Fantasy|Sci-Fi', 'Action|Adventure|Horror|Sci-Fi',\n",
       "       'Action|Adventure|Western', 'Crime|Drama|Sci-Fi|Thriller',\n",
       "       'Film-Noir|Mystery|Thriller',\n",
       "       'Action|Adventure|Comedy|Fantasy|Horror',\n",
       "       'Adventure|Drama|Romance', 'Crime|Horror', 'Action|Comedy|Musical',\n",
       "       'Adventure|Animation|Children|Comedy|Sci-Fi',\n",
       "       'Drama|Mystery|Sci-Fi', 'Comedy|Fantasy|Horror',\n",
       "       'Crime|Drama|Film-Noir|Thriller', 'Crime|Film-Noir|Thriller',\n",
       "       'Action|Crime|Romance|Thriller', 'Drama|Sci-Fi|Thriller',\n",
       "       'Action|Adventure|Drama|Western', 'Comedy|Horror|Sci-Fi',\n",
       "       'Comedy|Musical|War', 'Action|Comedy|Fantasy|Horror',\n",
       "       'Action|Adventure|Drama|War',\n",
       "       'Action|Drama|Mystery|Romance|Thriller', 'Comedy|Fantasy|Romance',\n",
       "       'Crime|Thriller|War', 'Comedy|Mystery|Thriller',\n",
       "       'Comedy|Drama|Film-Noir', 'Action|Adventure|Animation|Sci-Fi',\n",
       "       'Action|Western', 'Fantasy|Horror|Romance|Thriller',\n",
       "       'Drama|Fantasy|Horror', 'Horror|Mystery|Thriller',\n",
       "       'Adventure|Children|Comedy', 'Adventure|Sci-Fi',\n",
       "       'Action|Mystery|Sci-Fi', 'Action|Comedy|Western', 'Action|Horror',\n",
       "       'Action|Comedy|Crime|Drama|Sci-Fi',\n",
       "       'Adventure|Animation|Comedy|Crime',\n",
       "       'Comedy|Horror|Mystery|Thriller', 'Action|Romance|War|Western',\n",
       "       'Comedy|Drama|Fantasy|Romance', 'Action|Adventure|Comedy|Thriller',\n",
       "       'Crime', 'Crime|Drama|Fantasy|Film-Noir|Mystery|Romance',\n",
       "       'Action|Comedy|Crime|Drama', 'Action|Romance|Sci-Fi|Thriller',\n",
       "       'Comedy|Drama|Mystery|Romance', 'Action|Adventure|Children',\n",
       "       'Comedy|Crime|Romance', 'Action|Adventure|Comedy',\n",
       "       'Action|Adventure|Comedy|Sci-Fi',\n",
       "       'Action|Adventure|Fantasy|Thriller', 'Children|Fantasy',\n",
       "       'Adventure|Romance', 'Action|Thriller|War',\n",
       "       'Children|Comedy|Romance|Sci-Fi', 'Romance|Thriller',\n",
       "       'Comedy|Drama|Sci-Fi',\n",
       "       'Adventure|Animation|Children|Drama|Musical',\n",
       "       'Action|Adventure|Drama|Sci-Fi', 'Action|Children|Comedy',\n",
       "       'Adventure|Film-Noir|Sci-Fi|Thriller',\n",
       "       'Crime|Drama|Fantasy|Thriller', 'Crime|Romance|Thriller',\n",
       "       'Crime|Drama|Mystery|Romance|Thriller', 'Documentary|IMAX',\n",
       "       'Comedy|Crime|Drama|Mystery|Thriller', 'Comedy|Documentary',\n",
       "       'Adventure|Children|Comedy|Fantasy', 'Crime|Drama|Romance|War',\n",
       "       'Adventure|Comedy|Drama', 'Adventure|Comedy|Romance',\n",
       "       'Adventure|Animation|Children|Comedy|Drama|Musical|Romance',\n",
       "       'Action|Crime|Mystery|Sci-Fi|Thriller',\n",
       "       'Comedy|Crime|Drama|Romance|Thriller',\n",
       "       'Animation|Children|Fantasy|War', 'Comedy|Drama|Musical',\n",
       "       'Adventure|Fantasy|Musical',\n",
       "       'Action|Adventure|Children|Comedy|Fantasy',\n",
       "       'Drama|Mystery|Sci-Fi|Thriller', 'Adventure|Comedy|Sci-Fi|Western',\n",
       "       'Children|Fantasy|Musical', 'Adventure|Animation|Children|Fantasy',\n",
       "       'Children|Sci-Fi', 'Children|Comedy|Sci-Fi',\n",
       "       'Action|Adventure|Children|Comedy', 'Adventure|Children|Sci-Fi',\n",
       "       'Action|Animation|Children|Crime',\n",
       "       'Children|Comedy|Fantasy|Horror',\n",
       "       'Adventure|Children|Comedy|Fantasy|Sci-Fi',\n",
       "       'Action|Crime|Drama|Mystery|Thriller', 'Film-Noir',\n",
       "       'Drama|Fantasy|Mystery', 'Animation|Children|Comedy|Musical',\n",
       "       'Animation|Children|Comedy|Musical|Romance',\n",
       "       'Children|Comedy|Musical', 'Children|Musical',\n",
       "       'Adventure|Comedy|Musical',\n",
       "       'Adventure|Animation|Children|Crime|Drama',\n",
       "       'Children|Drama|Fantasy|Mystery|Thriller',\n",
       "       'Adventure|Children|Fantasy|Western',\n",
       "       'Animation|Children|Comedy|Drama|Fantasy',\n",
       "       'Action|Crime|Mystery|Thriller',\n",
       "       'Adventure|Animation|Children|Drama|Fantasy',\n",
       "       'Adventure|Animation|Children|Drama', 'Adventure|Fantasy',\n",
       "       'Adventure|Animation|Children|Comedy',\n",
       "       'Adventure|Animation|Children|Musical|Western',\n",
       "       'Adventure|Fantasy|Romance', 'Adventure|Drama|Fantasy',\n",
       "       'Action|Comedy|Drama|Horror', 'Action|Horror|Thriller',\n",
       "       'Drama|Film-Noir|Thriller', 'Adventure|Drama|Mystery|Thriller',\n",
       "       'Horror|Mystery|Sci-Fi|Thriller', 'Drama|Fantasy|Thriller',\n",
       "       'Adventure|Drama|Fantasy|Romance', 'Sci-Fi',\n",
       "       'Drama|Fantasy|Mystery|Romance', 'Action|Sci-Fi|War',\n",
       "       'Fantasy|Horror|Thriller', 'Horror|Western',\n",
       "       'Action|Adventure|Fantasy|Horror',\n",
       "       'Adventure|Fantasy|Romance|Sci-Fi|Thriller',\n",
       "       'Comedy|Crime|Mystery', 'Action|Drama|Romance|Sci-Fi',\n",
       "       'Animation|Musical', 'Action|Adventure|Thriller|War',\n",
       "       'Comedy|Crime|Mystery|Thriller',\n",
       "       'Action|Adventure|Children|Fantasy|Mystery|Thriller',\n",
       "       'Action|Adventure|Children|Drama',\n",
       "       'Action|Adventure|Drama|Fantasy|Thriller', 'Horror|Mystery|Sci-Fi',\n",
       "       'Drama|Horror|Sci-Fi|Thriller', 'Action|Comedy|Romance|Thriller',\n",
       "       'Action|War', 'Adventure|Comedy|Thriller',\n",
       "       'Action|Sci-Fi|Thriller|Western', 'Drama|Romance|Sci-Fi|Thriller',\n",
       "       'Drama|Film-Noir',\n",
       "       'Action|Adventure|Comedy|Fantasy|Horror|Thriller',\n",
       "       'Action|Adventure|Crime|Sci-Fi|Thriller',\n",
       "       'Adventure|Drama|Mystery', 'Horror|Romance',\n",
       "       'Comedy|Horror|Musical|Sci-Fi', 'War', 'Comedy|Romance|Sci-Fi',\n",
       "       'Animation|Comedy|Musical', 'Action|Comedy|Sci-Fi|Western',\n",
       "       'Action|Comedy|Fantasy', 'Adventure|Drama|Thriller',\n",
       "       'Action|Adventure|Comedy|Fantasy|Mystery', 'Comedy|Horror|Musical',\n",
       "       'Adventure|Animation|Children|Drama|Sci-Fi',\n",
       "       'Drama|Horror|Mystery', 'Action|Mystery',\n",
       "       'Comedy|Horror|Romance|Thriller', 'Action|Drama|Romance|Thriller',\n",
       "       'Animation|Horror|Mystery|Thriller',\n",
       "       'Adventure|Children|Comedy|Drama', 'Adventure|Sci-Fi|Thriller',\n",
       "       'Adventure|Animation|Comedy|Fantasy|Musical',\n",
       "       'Animation|Children|Fantasy', 'Action|Adventure|Comedy|Drama|War',\n",
       "       'Crime|Drama|Western', 'Comedy|Crime|Drama|Fantasy',\n",
       "       'Drama|Film-Noir|Mystery|Romance', 'Musical|Romance|War',\n",
       "       'Adventure|Comedy|Fantasy|Sci-Fi', 'Drama|Fantasy|Musical',\n",
       "       'Action|Crime|Sci-Fi|Thriller',\n",
       "       'Adventure|Animation|Children|Comedy|Crime|Fantasy|Mystery',\n",
       "       'Action|Adventure|Animation|Drama|Fantasy',\n",
       "       'Adventure|Animation|Children|Fantasy|Sci-Fi',\n",
       "       'Fantasy|Horror|Mystery|Romance',\n",
       "       'Action|Fantasy|Horror|Mystery|Thriller', 'Drama|Romance|Sci-Fi',\n",
       "       'Animation|Children|Musical|IMAX', 'Action|Comedy|Horror',\n",
       "       'Action|Crime|Thriller|Western', 'Fantasy|Horror|Mystery|Thriller',\n",
       "       'Romance|Western', 'Adventure|Crime|Drama|Romance',\n",
       "       'Adventure|Crime|Drama', 'Animation|Comedy',\n",
       "       'Action|Children|Comedy|Fantasy|Sci-Fi', 'Action|Children|Fantasy',\n",
       "       'Action|Adventure|Drama|Thriller|Western',\n",
       "       'Crime|Horror|Mystery|Thriller', 'Action|Adventure|Comedy|Western',\n",
       "       'Action|Drama|Thriller|Western',\n",
       "       'Adventure|Animation|Fantasy|Sci-Fi',\n",
       "       'Comedy|Horror|Sci-Fi|Thriller', 'Adventure|Drama|Romance|Sci-Fi',\n",
       "       'Film-Noir|Horror|Mystery|Thriller',\n",
       "       'Action|Adventure|Animation|Children|Sci-Fi',\n",
       "       'Action|Fantasy|Horror|Sci-Fi|Thriller',\n",
       "       'Action|Comedy|Crime|Romance', 'Adventure|Horror|Sci-Fi',\n",
       "       'Adventure|Animation|Children|Sci-Fi', 'Adventure|Comedy|Crime',\n",
       "       'Action|Drama|War|Western',\n",
       "       'Action|Crime|Mystery|Romance|Thriller', 'Romance|Sci-Fi',\n",
       "       'Fantasy|Romance', 'Action|Adventure|Fantasy|Sci-Fi',\n",
       "       'Adventure|Comedy|Horror', 'Animation|Comedy|Fantasy',\n",
       "       'Action|Adventure|War', 'Action|Crime|Drama|Horror|Thriller',\n",
       "       'Crime|Mystery', 'Adventure|Comedy|Mystery|Romance',\n",
       "       'Adventure|Animation|Children|Comedy|Fantasy|Romance',\n",
       "       'Adventure|War|Western', 'Comedy|Drama|Mystery|Thriller',\n",
       "       'Comedy|Drama|Romance|Western', 'Action|Comedy|Sci-Fi|Thriller',\n",
       "       'Adventure|Documentary|IMAX', 'Animation|Drama|Sci-Fi|IMAX',\n",
       "       'Action|Comedy|Horror|Sci-Fi', 'Comedy|Musical|Sci-Fi',\n",
       "       'Drama|Musical|Mystery', 'Crime|Musical', 'Comedy|Musical|Western',\n",
       "       'Action|Animation|Comedy|Crime|Drama|Romance|Thriller',\n",
       "       'Action|Adventure|Drama|Romance',\n",
       "       'Comedy|Fantasy|Horror|Musical|Thriller', 'Crime|Horror|Mystery',\n",
       "       'Action|Adventure|Drama|Romance|Thriller',\n",
       "       'Action|Comedy|Romance|War', 'Action|Adventure|Comedy|Drama',\n",
       "       'Adventure|Thriller', 'Crime|Drama|Film-Noir|Mystery|Thriller',\n",
       "       'Action|Animation|Sci-Fi', 'Animation|Drama|Fantasy',\n",
       "       'Drama|Fantasy|Mystery|Sci-Fi',\n",
       "       'Drama|Fantasy|Horror|Thriller|War', 'Fantasy|Mystery|Thriller',\n",
       "       'Action|Adventure|Comedy|Drama|Romance|Thriller',\n",
       "       'Mystery|Romance|Sci-Fi|Thriller',\n",
       "       'Adventure|Crime|Drama|Thriller', 'Comedy|Drama|Mystery',\n",
       "       'Animation|Fantasy', 'Drama|Fantasy|Horror|Mystery|Thriller',\n",
       "       'Drama|Fantasy|Mystery|Romance|Thriller',\n",
       "       'Animation|Fantasy|Horror|Sci-Fi', 'Documentary|War',\n",
       "       'Children|Horror|Mystery|Thriller', 'Musical|Western',\n",
       "       'Action|Adventure|Sci-Fi|IMAX',\n",
       "       'Adventure|Animation|Children|Western',\n",
       "       'Adventure|Children|Comedy|Fantasy|Mystery',\n",
       "       'Adventure|Drama|Horror|Mystery|Thriller',\n",
       "       'Comedy|Sci-Fi|Thriller', 'Action|Animation|Children|Comedy',\n",
       "       'Children|Drama|Musical', 'Comedy|Drama|Fantasy|Sci-Fi',\n",
       "       'Action|Adventure|Fantasy|Romance',\n",
       "       'Comedy|Crime|Romance|Thriller', 'Adventure|War',\n",
       "       'Comedy|Crime|Musical|Mystery', 'Adventure|Animation|Fantasy',\n",
       "       'Animation|Comedy|War', 'Action|Adventure|Comedy|Crime|Drama',\n",
       "       'Animation|Drama|War', 'Documentary|Horror',\n",
       "       'Action|Horror|Mystery|Sci-Fi', 'Action|Comedy|Documentary',\n",
       "       'Adventure|Animation|Children|Sci-Fi|IMAX', 'Comedy|Drama|Horror',\n",
       "       'Animation|Children|Drama|Fantasy', 'Comedy|Crime|Drama|Musical',\n",
       "       'Action|Adventure|Animation|Fantasy|Sci-Fi',\n",
       "       'Action|Adventure|Crime|Drama|Thriller',\n",
       "       'Comedy|Crime|Drama|Romance', 'Comedy|Documentary|Musical',\n",
       "       'Action|Animation|Sci-Fi|Thriller',\n",
       "       'Adventure|Children|Comedy|Mystery', 'Mystery|Sci-Fi',\n",
       "       'Adventure|Children|Comedy|Fantasy|Musical',\n",
       "       'Action|Adventure|Animation|Children|Fantasy|Sci-Fi',\n",
       "       'Action|Adventure|Sci-Fi|Thriller|IMAX',\n",
       "       'Action|Drama|Horror|Sci-Fi|Thriller', 'Drama|War|Western',\n",
       "       'Comedy|Crime|Mystery|Romance', 'Comedy|War|Western',\n",
       "       'Action|Adventure|Comedy|Crime|Thriller', 'Action|Fantasy|Sci-Fi',\n",
       "       'Action|Comedy|Thriller', 'Comedy|Crime|Drama|War',\n",
       "       'Adventure|Comedy|Crime|Thriller',\n",
       "       'Action|Adventure|Children|Fantasy',\n",
       "       'Drama|Fantasy|Musical|Romance', 'Animation|Drama|Romance',\n",
       "       'Comedy|Romance|Sci-Fi|Thriller', 'Action|Fantasy|Horror',\n",
       "       'Fantasy|Horror|Sci-Fi|Thriller', 'Comedy|Musical|Romance|Western',\n",
       "       'Drama|Fantasy|Sci-Fi', 'Children|Comedy|Crime|Musical',\n",
       "       'Action|Adventure|Animation|Fantasy', 'Crime|Documentary',\n",
       "       'Adventure|Comedy|Drama|Fantasy|Mystery|Sci-Fi|Thriller',\n",
       "       'Action|Animation|Children|Fantasy', 'Comedy|Mystery|Sci-Fi',\n",
       "       'Adventure|Thriller|Western', 'Comedy|Crime|Drama|Mystery|Romance',\n",
       "       'Action|Crime|Fantasy|Sci-Fi|Thriller', 'Crime|Fantasy|Horror',\n",
       "       'Action|Drama|Horror|Thriller', 'Comedy|Fantasy|Horror|Thriller',\n",
       "       'Action|Drama|Romance|Western',\n",
       "       'Adventure|Animation|Drama|Fantasy|Sci-Fi',\n",
       "       'Animation|Drama|Sci-Fi|War', 'Action|Adventure|Drama|Fantasy',\n",
       "       'Adventure|Drama|Romance|Thriller|War',\n",
       "       'Crime|Drama|Film-Noir|Romance|Thriller',\n",
       "       'Drama|Film-Noir|Mystery',\n",
       "       'Action|Comedy|Crime|Drama|Horror|Thriller',\n",
       "       'Adventure|Documentary', 'Action|Adventure|Children|Comedy|Crime',\n",
       "       'Animation|Comedy|Fantasy|Musical',\n",
       "       'Action|Adventure|Children|Comedy|Mystery', 'Action|Drama|Horror',\n",
       "       'Musical|Romance|Western', 'Action|Drama|Thriller|War',\n",
       "       'Comedy|Crime|Drama|Musical|Mystery|Romance',\n",
       "       'Adventure|Comedy|War', 'Fantasy|Musical|Romance',\n",
       "       'Drama|Thriller|Western', 'Crime|Horror|Sci-Fi',\n",
       "       'Animation|Fantasy|Thriller', 'Children|Comedy|Fantasy|Sci-Fi',\n",
       "       'Mystery', 'Action|Adventure|Animation|Comedy|Crime|Mystery',\n",
       "       'Adventure|Animation|Children|Comedy|Musical|Romance',\n",
       "       'Action|Adventure|Drama|Sci-Fi|Thriller', 'Adventure|Fantasy|IMAX',\n",
       "       'Action|Crime|Horror|Mystery|Thriller', 'Comedy|Fantasy|Thriller',\n",
       "       'Animation|Comedy|Drama|Fantasy|Sci-Fi',\n",
       "       'Comedy|Documentary|Drama', 'Crime|Drama|Film-Noir|Romance',\n",
       "       'Action|Adventure|Drama|Romance|Thriller|Western',\n",
       "       'Crime|Drama|Horror', 'Adventure|Comedy|Fantasy|Musical',\n",
       "       'Adventure|Animation|Drama', 'Comedy|Drama|Fantasy|Mystery',\n",
       "       'Action|Crime|Fantasy', 'Comedy|Drama|Sci-Fi|War',\n",
       "       'Adventure|Fantasy|Sci-Fi',\n",
       "       'Adventure|Drama|Horror|Sci-Fi|Thriller',\n",
       "       'Action|Adventure|Animation|Comedy',\n",
       "       'Action|Adventure|Animation|Children|Comedy',\n",
       "       'Adventure|Animation|Children|Fantasy|IMAX',\n",
       "       'Action|Adventure|Drama|Mystery|Thriller',\n",
       "       'Action|Fantasy|Horror|Thriller', 'Fantasy',\n",
       "       'Crime|Documentary|War', 'Children|Comedy|Musical|Romance',\n",
       "       'Drama|Horror|War', 'Action|Adventure|Comedy|Drama|Romance|War',\n",
       "       'Fantasy|Western', 'Adventure|Comedy|Horror|Romance',\n",
       "       'Action|Adventure|Animation|Children|Comedy|Fantasy',\n",
       "       'Action|Adventure|Children|Crime|Mystery|Thriller',\n",
       "       'Adventure|Children|Fantasy|Sci-Fi',\n",
       "       'Action|Fantasy|Horror|Romance', 'Animation|Fantasy|Mystery',\n",
       "       'Action|Animation|Crime|Drama|Film-Noir|Mystery|Sci-Fi|Thriller',\n",
       "       'Animation|Drama', 'Action|Fantasy|Sci-Fi|Thriller|War',\n",
       "       'Adventure|Animation|Comedy|Fantasy|Romance',\n",
       "       'Drama|Romance|Thriller|War',\n",
       "       'Adventure|Drama|Fantasy|Horror|Sci-Fi',\n",
       "       'Drama|Fantasy|Horror|Mystery|Sci-Fi|Thriller', 'Action|Animation',\n",
       "       'Adventure|Animation|Children|Musical|Romance',\n",
       "       'Action|Documentary|Drama|Thriller',\n",
       "       'Action|Adventure|Comedy|Sci-Fi|Thriller',\n",
       "       'Action|Adventure|Drama|Fantasy|Romance',\n",
       "       'Action|Animation|Drama|Fantasy|Sci-Fi',\n",
       "       'Drama|Fantasy|Romance|Sci-Fi',\n",
       "       'Action|Animation|Crime|Sci-Fi|Thriller',\n",
       "       'Drama|Horror|Mystery|Romance|Thriller',\n",
       "       'Action|Comedy|Crime|Fantasy|Thriller',\n",
       "       'Crime|Drama|Mystery|Thriller|War', 'Comedy|Drama|Romance|Sci-Fi',\n",
       "       'Action|Animation|Horror', 'Comedy|Crime|Horror|Mystery|Thriller',\n",
       "       'Comedy|Fantasy|Mystery|Sci-Fi',\n",
       "       'Comedy|Crime|Drama|Sci-Fi|Thriller',\n",
       "       'Action|Comedy|Horror|Musical', 'Drama|Sci-Fi|War',\n",
       "       'Action|Animation|Drama|Sci-Fi',\n",
       "       'Action|Comedy|Horror|Sci-Fi|Thriller|Western',\n",
       "       'Action|Comedy|Drama|War', 'Drama|Mystery|Romance|War',\n",
       "       'Action|Animation|Drama|Sci-Fi|Thriller',\n",
       "       'Children|Comedy|Crime|Drama|Fantasy', 'Action|Horror|Sci-Fi|War',\n",
       "       'Animation|Drama|Mystery|Sci-Fi|Thriller',\n",
       "       'Action|Drama|Fantasy|Sci-Fi', 'Comedy|Crime|Drama|Horror|Mystery',\n",
       "       'Adventure|Children|Comedy|Fantasy|IMAX',\n",
       "       'Drama|Horror|Mystery|Sci-Fi|Thriller',\n",
       "       'Animation|Fantasy|Sci-Fi|War', 'Action|Animation|Fantasy|Sci-Fi',\n",
       "       'Action|Adventure|Crime|Drama',\n",
       "       'Action|Adventure|Comedy|Crime|Romance|Thriller',\n",
       "       'Action|Adventure|Drama|Romance|War',\n",
       "       'Adventure|Animation|Fantasy|Romance',\n",
       "       'Action|Fantasy|Horror|Mystery|Sci-Fi|Thriller',\n",
       "       'Adventure|Comedy|Crime|Drama|Mystery|Thriller',\n",
       "       'Comedy|Crime|Drama|Mystery', 'Comedy|Crime|Musical',\n",
       "       'Adventure|Animation|Children|Comedy|Fantasy|Sci-Fi|IMAX',\n",
       "       'Adventure|Comedy|Documentary', 'Comedy|Crime|Drama|Western',\n",
       "       'Adventure|Drama|War|Western', 'Animation|Fantasy|Sci-Fi|Thriller',\n",
       "       'Action|Crime|Film-Noir|Mystery|Thriller',\n",
       "       'Animation|Comedy|Sci-Fi', 'Animation|Fantasy|Horror',\n",
       "       'Children|Documentary', 'Action|Crime|IMAX',\n",
       "       'Adventure|Animation|Children|Comedy|Fantasy|War',\n",
       "       'Action|Adventure|Horror|Mystery|Sci-Fi|Thriller',\n",
       "       'Action|Crime|Drama|Thriller|War',\n",
       "       'Fantasy|Mystery|Romance|Thriller', 'Crime|Drama|Horror|Thriller',\n",
       "       'Animation|Comedy|Fantasy|Musical|Romance',\n",
       "       'Adventure|Children|Drama|Fantasy',\n",
       "       'Action|Horror|Mystery|Thriller',\n",
       "       'Adventure|Comedy|Fantasy|Horror',\n",
       "       'Action|Adventure|Animation|Children|Comedy|Sci-Fi',\n",
       "       'Adventure|Drama|Horror|Thriller',\n",
       "       'Adventure|Fantasy|Thriller|IMAX', 'Crime|Drama|Thriller|War',\n",
       "       'Action|Adventure|Comedy|Drama|Romance',\n",
       "       'Animation|Drama|Romance|Sci-Fi', 'Fantasy|Mystery|Western',\n",
       "       'Adventure|Comedy|Drama|Fantasy', 'Action|Comedy|Crime|Western',\n",
       "       'Action|Crime|Drama|Horror', 'Action|Fantasy|Sci-Fi|Thriller',\n",
       "       'Action|Drama|Fantasy|Horror|Mystery|Sci-Fi|Thriller',\n",
       "       'Action|Animation|Children|Sci-Fi', 'Action|Sci-Fi|Thriller|IMAX',\n",
       "       'Comedy|Fantasy|Horror|Sci-Fi', 'Action|Crime|Mystery',\n",
       "       'Crime|Drama|Film-Noir|Mystery',\n",
       "       'Action|Animation|Film-Noir|Sci-Fi|Thriller',\n",
       "       'Action|Adventure|Thriller|IMAX',\n",
       "       'Adventure|Comedy|Drama|Fantasy|Romance',\n",
       "       'Children|Comedy|Drama|Musical|Romance',\n",
       "       'Comedy|Documentary|Romance', 'Animation|Children|Fantasy|Mystery',\n",
       "       'Comedy|Fantasy|Mystery', 'Action|Comedy|Fantasy|IMAX',\n",
       "       'Adventure|Animation|Children|Comedy|Fantasy|IMAX',\n",
       "       'Adventure|Animation|Comedy|Fantasy|Romance|Sci-Fi',\n",
       "       'Crime|Drama|Musical', 'Adventure|Comedy|Sci-Fi|Thriller',\n",
       "       'Adventure|Animation|Children|Comedy|IMAX',\n",
       "       'Documentary|Drama|War', 'Crime|Western',\n",
       "       'Action|Adventure|Crime|Drama|Thriller|War',\n",
       "       'Children|Comedy|Drama|Fantasy', 'Drama|Fantasy|Horror|Romance',\n",
       "       'Action|Fantasy|Thriller', 'Action|Comedy|Crime|Mystery',\n",
       "       'Action|Comedy|Drama|Horror|Thriller', 'Action|Fantasy|War|IMAX',\n",
       "       'Comedy|Drama|Horror|Sci-Fi|Thriller',\n",
       "       'Drama|Fantasy|Mystery|Thriller',\n",
       "       'Action|Crime|Horror|Sci-Fi|Thriller',\n",
       "       'Adventure|Drama|Sci-Fi|Thriller',\n",
       "       'Action|Adventure|Animation|Comedy|Fantasy|Mystery|Sci-Fi',\n",
       "       'Crime|Drama|Fantasy|Mystery|Thriller',\n",
       "       'Action|Crime|Horror|Thriller', 'Animation|Mystery|Sci-Fi',\n",
       "       'Adventure|Crime|Thriller',\n",
       "       'Action|Adventure|Crime|Horror|Thriller',\n",
       "       'Adventure|Drama|Fantasy|IMAX', 'Adventure|Comedy|Fantasy|Romance',\n",
       "       'Action|Adventure|Fantasy|War', 'Action|Crime|Drama|Western',\n",
       "       'Action|Adventure|Comedy|Drama|Thriller',\n",
       "       'Action|Adventure|Animation|Crime|Fantasy',\n",
       "       'Action|Adventure|Animation|Fantasy|IMAX',\n",
       "       'Comedy|Drama|Sci-Fi|Thriller',\n",
       "       'Adventure|Animation|Children|Comedy|Fantasy|Musical|Romance',\n",
       "       'Action|Horror|Sci-Fi|Thriller|IMAX',\n",
       "       'Drama|Horror|Musical|Thriller', 'Action|Mystery|Sci-Fi|Thriller',\n",
       "       'Adventure|Animation|Drama|Horror',\n",
       "       'Animation|Comedy|Drama|Romance|Sci-Fi', 'Crime|Sci-Fi',\n",
       "       'Adventure|Children|Drama|Fantasy|IMAX',\n",
       "       'Adventure|Romance|Thriller', 'Crime|Drama|War',\n",
       "       'Action|Crime|Drama|IMAX', 'Documentary|Musical|IMAX',\n",
       "       'Action|Children|Sci-Fi|IMAX',\n",
       "       'Action|Animation|Children|Comedy|IMAX',\n",
       "       'Comedy|Crime|Drama|Horror', 'Action|Comedy|Drama|Thriller',\n",
       "       'Adventure|Animation|Children|Romance|Sci-Fi',\n",
       "       'Action|Adventure|Comedy|Crime|Fantasy',\n",
       "       'Action|Animation|Comedy|Romance|Sci-Fi',\n",
       "       'Children|Comedy|Drama|Mystery',\n",
       "       'Animation|Children|Comedy|Fantasy|Musical',\n",
       "       'Action|Adventure|Horror|Sci-Fi|Thriller',\n",
       "       'Adventure|Children|Comedy|Romance|Sci-Fi',\n",
       "       'Action|Comedy|Fantasy|Horror|Thriller',\n",
       "       'Action|Drama|Mystery|Sci-Fi|Thriller|IMAX',\n",
       "       'Adventure|Fantasy|Thriller', 'Action|Animation|Crime',\n",
       "       'Adventure|Comedy|Drama|Romance',\n",
       "       'Animation|Documentary|Drama|War',\n",
       "       'Action|Comedy|Fantasy|Thriller', 'Action|Animation|Comedy|Horror',\n",
       "       'Action|Crime|Thriller|IMAX', 'Animation|Comedy|Fantasy|Sci-Fi',\n",
       "       'Action|Adventure|Animation|Comedy|Fantasy|Sci-Fi',\n",
       "       'Action|Adventure|Animation|Children|Comedy|IMAX',\n",
       "       'Children|Fantasy|Musical|Romance',\n",
       "       'Drama|Fantasy|Romance|Thriller',\n",
       "       'Adventure|Animation|Comedy|Fantasy', 'Drama|Sci-Fi|Thriller|IMAX',\n",
       "       'Action|Adventure|Animation', 'Action|Animation|Comedy|Sci-Fi',\n",
       "       'Animation', 'Adventure|Comedy|Mystery',\n",
       "       'Comedy|Drama|Musical|Sci-Fi', 'Comedy|Crime|Horror|Thriller',\n",
       "       'Action|Drama|Mystery|Sci-Fi|Thriller', 'Animation|Sci-Fi|IMAX',\n",
       "       'Drama|Fantasy|Sci-Fi|Thriller', 'Action|Comedy|IMAX',\n",
       "       'Adventure|Fantasy|Musical|Romance',\n",
       "       'Action|Animation|Mystery|Sci-Fi',\n",
       "       'Action|Adventure|Animation|Drama',\n",
       "       'Action|Adventure|Comedy|Horror',\n",
       "       'Action|Adventure|Animation|Children|Comedy|Romance',\n",
       "       'Action|Adventure|Animation|Horror',\n",
       "       'Adventure|Fantasy|Mystery|Romance|IMAX',\n",
       "       'Adventure|Children|Fantasy|Sci-Fi|Thriller',\n",
       "       'Comedy|Documentary|Drama|Romance', 'Adventure|Animation|Sci-Fi',\n",
       "       'Animation|Children|Fantasy|IMAX',\n",
       "       'Action|Animation|Comedy|Horror|Thriller',\n",
       "       'Animation|Comedy|Drama',\n",
       "       'Action|Adventure|Drama|Fantasy|Romance|Sci-Fi|Thriller',\n",
       "       'Action|Comedy|Drama|Romance',\n",
       "       'Adventure|Animation|Children|Comedy|Crime',\n",
       "       'Animation|Children|Drama|Fantasy|IMAX',\n",
       "       'Animation|Children|Comedy|Fantasy',\n",
       "       'Drama|Fantasy|Horror|Romance|Thriller',\n",
       "       'Action|Adventure|Animation|Comedy|Thriller',\n",
       "       'Crime|Drama|Fantasy|Horror|Thriller', 'Children|Drama|Romance',\n",
       "       'Horror|Thriller|Western', 'Comedy|Musical|Sci-Fi|Western',\n",
       "       'Action|Adventure|Fantasy|Romance|IMAX',\n",
       "       'Fantasy|Romance|Thriller|IMAX',\n",
       "       'Action|Crime|Drama|Mystery|Sci-Fi|Thriller|IMAX',\n",
       "       'Action|Children|Drama', 'Action|Comedy|Fantasy|Musical|Romance',\n",
       "       'Documentary|Drama|Mystery', 'Adventure|Animation|Fantasy|IMAX',\n",
       "       'Documentary|Mystery',\n",
       "       'Action|Adventure|Comedy|Crime|Drama|Film-Noir|Horror|Mystery|Thriller|Western',\n",
       "       'Horror|IMAX', 'Action|Animation|Children|Comedy|Sci-Fi|IMAX',\n",
       "       'Action|Adventure|Fantasy|IMAX',\n",
       "       'Animation|Children|Comedy|Fantasy|Musical|Romance|IMAX',\n",
       "       'Crime|Romance', 'Adventure|Documentary|Western',\n",
       "       'Action|Comedy|Crime|Fantasy|Thriller|IMAX',\n",
       "       'Action|Fantasy|Western', 'Action|Sci-Fi|Thriller|Western|IMAX',\n",
       "       'Action|Adventure|Animation|Children|Comedy|Western',\n",
       "       'Romance|Sci-Fi|Thriller', 'Adventure|Animation|Comedy|Sci-Fi',\n",
       "       'Action|Adventure|Animation|Children|Comedy|Sci-Fi|IMAX',\n",
       "       'Action|Fantasy|Thriller|IMAX', 'Animation|Children|Comedy|Horror',\n",
       "       'Action|Adventure|Drama|Fantasy|IMAX',\n",
       "       'Action|Crime|Drama|Thriller|IMAX', 'Drama|Mystery|War',\n",
       "       'Action|Adventure|Sci-Fi|Thriller|War',\n",
       "       'Mystery|Sci-Fi|Thriller|IMAX', 'Action|Adventure|Sci-Fi|War|IMAX',\n",
       "       'Action|Adventure|Drama|Fantasy|Mystery|IMAX',\n",
       "       'Horror|Thriller|IMAX', 'Sci-Fi|Thriller|IMAX',\n",
       "       'Action|Drama|Sci-Fi|IMAX', 'Crime|Sci-Fi|Thriller',\n",
       "       'Action|Drama|Mystery|Thriller',\n",
       "       'Adventure|Animation|Comedy|Fantasy|IMAX',\n",
       "       'Action|Animation|Mystery|IMAX', 'Children|Drama|Mystery',\n",
       "       'Action|Drama|Fantasy', 'Animation|Children|Comedy|IMAX',\n",
       "       'Animation|Children|Comedy|Drama', 'Action|Crime|Film-Noir',\n",
       "       'Action|Adventure|Crime|IMAX',\n",
       "       'Action|Adventure|Drama|Thriller|IMAX',\n",
       "       'Action|Adventure|Comedy|Crime|Mystery|Thriller',\n",
       "       'Action|Fantasy|Horror|IMAX', 'Crime|Drama|Fantasy',\n",
       "       'Action|Adventure|Comedy|Sci-Fi|IMAX', 'Action|Adventure|Horror',\n",
       "       'Crime|Thriller|Western', 'Animation|Fantasy|Musical|IMAX',\n",
       "       'Action|Animation|Fantasy', 'Comedy|Horror|IMAX',\n",
       "       'Action|Comedy|Sci-Fi|IMAX', 'Action|Horror|Sci-Fi|IMAX',\n",
       "       'Action|Adventure|Animation|Children',\n",
       "       'Action|Adventure|Animation|Sci-Fi|Thriller',\n",
       "       'Comedy|Drama|Musical|IMAX', 'Children|Musical|Mystery',\n",
       "       'Drama|Fantasy|Musical|Mystery|Sci-Fi',\n",
       "       'Animation|Comedy|Horror|IMAX', 'Drama|Sci-Fi|IMAX',\n",
       "       'Action|Adventure|Comedy|Documentary|Fantasy',\n",
       "       'Action|Adventure|Crime', 'Children|Crime|Drama',\n",
       "       'Adventure|Drama|Fantasy|Romance|IMAX', 'Animation|Comedy|Romance',\n",
       "       'Drama|Musical|Romance|IMAX',\n",
       "       'Adventure|Comedy|Fantasy|Romance|IMAX',\n",
       "       'Animation|Comedy|Horror|Musical', 'Action|Animation|Comedy',\n",
       "       'Children|Horror|Sci-Fi', 'Action|Drama|IMAX',\n",
       "       'Documentary|Fantasy', 'Action|Adventure|Fantasy|Sci-Fi|IMAX',\n",
       "       'Action|Drama|Horror|IMAX', 'Action|Drama|Thriller|IMAX',\n",
       "       'Action|Adventure|Western|IMAX', 'Drama|Fantasy|Thriller|War',\n",
       "       'Action|IMAX', 'Action|Sci-Fi|IMAX',\n",
       "       'Adventure|Comedy|Musical|Sci-Fi', 'Adventure|Drama|Thriller|IMAX',\n",
       "       'Children|Drama|War',\n",
       "       'Adventure|Animation|Comedy|Fantasy|Musical|Romance',\n",
       "       'Action|Animation|Drama', 'Drama|Horror|Romance',\n",
       "       'Action|Animation|Fantasy|IMAX', 'Adventure|Romance|Sci-Fi|IMAX',\n",
       "       'Adventure|Animation|Children|Comedy|Drama|Romance',\n",
       "       'Action|Fantasy|Sci-Fi|IMAX', 'Action|Crime|Sci-Fi|IMAX',\n",
       "       'Animation|Comedy|Drama|Romance', 'Sci-Fi|IMAX',\n",
       "       'Animation|Romance', 'Action|Drama|War|IMAX',\n",
       "       'Action|Animation|Children|Comedy|Musical',\n",
       "       'Action|Adventure|Children|IMAX', 'Action|Animation|Children',\n",
       "       'Animation|Drama|Fantasy|Mystery',\n",
       "       'Action|Animation|Crime|Thriller', 'Documentary|Drama|Musical',\n",
       "       '(no genres listed)', 'Adventure|Animation',\n",
       "       'Adventure|Animation|Romance',\n",
       "       'Animation|Children|Comedy|Musical|Sci-Fi',\n",
       "       'Action|Adventure|Comedy|Drama|Fantasy|Thriller',\n",
       "       'Documentary|Drama|Thriller', 'Adventure|Mystery|Thriller',\n",
       "       'Horror|Romance|Thriller', 'Animation|Children|Mystery',\n",
       "       'Comedy|Drama|Fantasy|Mystery|Romance',\n",
       "       'Crime|Drama|Horror|Mystery', 'Adventure|Romance|Sci-Fi',\n",
       "       'Animation|Documentary', 'Horror|Sci-Fi|Western',\n",
       "       'Action|Adventure|Children|Comedy|Sci-Fi',\n",
       "       'Action|Adventure|Animation|Comedy|Sci-Fi',\n",
       "       'Horror|Romance|Sci-Fi',\n",
       "       'Action|Adventure|Children|Mystery|Sci-Fi', 'Comedy|Crime|Sci-Fi',\n",
       "       'Action|Comedy|Fantasy|Sci-Fi',\n",
       "       'Adventure|Animation|Children|Comedy|Drama|Fantasy',\n",
       "       'Adventure|Children|Comedy|Sci-Fi',\n",
       "       'Action|Animation|Crime|Sci-Fi', 'Action|Adventure|Romance|Sci-Fi',\n",
       "       'Action|Crime|Drama|Sci-Fi',\n",
       "       'Animation|Children|Comedy|Drama|Romance',\n",
       "       'Action|Fantasy|Mystery', 'Comedy|Horror|Mystery',\n",
       "       'Comedy|Crime|Fantasy', 'Animation|Horror|Mystery',\n",
       "       'Comedy|Romance|Western', 'Adventure|Drama|Fantasy|Sci-Fi',\n",
       "       'Adventure|Children|Drama|Sci-Fi',\n",
       "       'Adventure|Children|Comedy|Drama|Fantasy|Sci-Fi',\n",
       "       'Animation|Fantasy|Horror|Mystery',\n",
       "       'Adventure|Animation|Fantasy|Horror|Sci-Fi',\n",
       "       'Action|Animation|Crime|Drama',\n",
       "       'Action|Adventure|Animation|Drama|Fantasy|Sci-Fi',\n",
       "       'Action|Animation|Mystery', 'Animation|Drama|Sci-Fi',\n",
       "       'Animation|Drama|Fantasy|Romance',\n",
       "       'Action|Adventure|Comedy|Fantasy|Sci-Fi|Thriller',\n",
       "       'Action|Adventure|Fantasy|Horror|Thriller', 'Comedy|Sci-Fi|War',\n",
       "       'Comedy|Mystery|Romance|Thriller', 'Fantasy|Horror|Sci-Fi|Western',\n",
       "       'Animation|Crime|Drama', 'Adventure|Mystery|Sci-Fi|Thriller',\n",
       "       'Action|Comedy|Crime|Horror', 'Action|Adventure|Children|Sci-Fi',\n",
       "       'Action|Adventure|Comedy|Fantasy|Sci-Fi',\n",
       "       'Action|Animation|Comedy|Fantasy'], dtype=object)"
      ]
     },
     "execution_count": 126,
     "metadata": {},
     "output_type": "execute_result"
    }
   ],
   "source": [
    "# getting the unique genres\n",
    "genres = df['genres'].unique()\n",
    "genres"
   ]
  },
  {
   "cell_type": "code",
   "execution_count": 127,
   "metadata": {},
   "outputs": [
    {
     "data": {
      "text/plain": [
       "genres\n",
       "Comedy                       7196\n",
       "Drama                        6291\n",
       "Comedy|Romance               3967\n",
       "Comedy|Drama|Romance         3000\n",
       "Comedy|Drama                 2851\n",
       "Drama|Romance                2838\n",
       "Action|Adventure|Sci-Fi      2361\n",
       "Crime|Drama                  2315\n",
       "Action|Crime|Thriller        1554\n",
       "Action|Adventure|Thriller    1455\n",
       "Name: rating, dtype: int64"
      ]
     },
     "execution_count": 127,
     "metadata": {},
     "output_type": "execute_result"
    }
   ],
   "source": [
    "# count of the most rated genres in df\n",
    "df.groupby('genres')['rating'].count().sort_values(ascending=False).head(10)"
   ]
  },
  {
   "cell_type": "markdown",
   "metadata": {},
   "source": [
    "Splitting the genres column into a list genres and later deleting the genres column"
   ]
  },
  {
   "cell_type": "code",
   "execution_count": 128,
   "metadata": {},
   "outputs": [],
   "source": [
    "# Split the genres column into a list of genres\n",
    "df['genres'] = df['genres'].str.split('|')\n",
    "\n",
    "# Create a set of all genres in the dfset\n",
    "genres = set([genre for movie_genres in df['genres'] for genre in movie_genres])\n",
    "\n",
    "# Create a binary column for each genre\n",
    "for genre in genres:\n",
    "    df[genre] = df['genres'].apply(lambda x: int(genre in x))\n",
    "\n",
    "# Drop the original genres column\n",
    "df.drop('genres', axis=1, inplace=True)\n"
   ]
  },
  {
   "cell_type": "code",
   "execution_count": 129,
   "metadata": {},
   "outputs": [
    {
     "data": {
      "text/plain": [
       "Index(['movieId', 'title', 'userId', 'rating', 'Western', '(no genres listed)',\n",
       "       'Adventure', 'Comedy', 'Musical', 'Sci-Fi', 'Crime', 'Fantasy',\n",
       "       'Children', 'Film-Noir', 'Mystery', 'IMAX', 'Thriller', 'Drama',\n",
       "       'Action', 'Documentary', 'Romance', 'Animation', 'War', 'Horror'],\n",
       "      dtype='object')"
      ]
     },
     "execution_count": 129,
     "metadata": {},
     "output_type": "execute_result"
    }
   ],
   "source": [
    "df.columns"
   ]
  },
  {
   "cell_type": "markdown",
   "metadata": {},
   "source": [
    "finding the total number of ratings per genre "
   ]
  },
  {
   "cell_type": "code",
   "execution_count": 130,
   "metadata": {},
   "outputs": [
    {
     "name": "stdout",
     "output_type": "stream",
     "text": [
      "Total ratings per genre:\n",
      "Romance               18124\n",
      "Musical                4138\n",
      "Film-Noir               870\n",
      "Mystery                7674\n",
      "Children               9208\n",
      "Action                30635\n",
      "Horror                 7291\n",
      "Animation              6988\n",
      "Fantasy               11834\n",
      "Adventure             24161\n",
      "War                    4859\n",
      "Comedy                39053\n",
      "Drama                 41928\n",
      "Thriller              26452\n",
      "Crime                 16681\n",
      "IMAX                   4145\n",
      "Documentary            1219\n",
      "Western                1930\n",
      "Sci-Fi                17243\n",
      "(no genres listed)       47\n",
      "dtype: int64\n"
     ]
    }
   ],
   "source": [
    "# List of genres\n",
    "genres_list = ['Romance', 'Musical', 'Film-Noir', 'Mystery', 'Children', 'Action', 'Horror', 'Animation',\n",
    "               'Fantasy', 'Adventure', 'War', 'Comedy', 'Drama', 'Thriller', 'Crime', 'IMAX', 'Documentary',\n",
    "               'Western', 'Sci-Fi', '(no genres listed)']\n",
    "\n",
    "# Calculate total ratings for each genre\n",
    "total_ratings_per_genre = df[genres_list].sum()\n",
    "\n",
    "print(\"Total ratings per genre:\")\n",
    "print(total_ratings_per_genre)\n",
    "\n"
   ]
  },
  {
   "cell_type": "code",
   "execution_count": 131,
   "metadata": {},
   "outputs": [
    {
     "data": {
      "image/png": "[encoded data removed]",
      "text/plain": [
       "<Figure size 2000x1000 with 1 Axes>"
      ]
     },
     "metadata": {},
     "output_type": "display_data"
    }
   ],
   "source": [
    "# Calculate the total number of ratings\n",
    "total_ratings = total_ratings_per_genre.sum()\n",
    "\n",
    "# Calculate the percentage of ratings for each genre\n",
    "percentage_per_genre = (total_ratings_per_genre / total_ratings) * 100\n",
    "\n",
    "color_palette = ['#FF5733', '#FFC300', '#DAF7A6', '#C70039', '#900C3F']\n",
    "\n",
    "# Plot the bar chart with the specified color palette\n",
    "plt.figure(figsize=(20, 10))\n",
    "ax = total_ratings_per_genre.plot(kind='bar', color=color_palette)\n",
    "\n",
    "# Annotate each bar with its percentage\n",
    "for i, v in enumerate(total_ratings_per_genre):\n",
    "    ax.text(i, v + 50, f'{v} ({percentage_per_genre[i]:.2f}%)', ha='center', va='bottom')\n",
    "\n",
    "plt.xlabel('Genres')\n",
    "plt.ylabel('Total Ratings')\n",
    "plt.title('Total Ratings by Genre')\n",
    "plt.xticks(range(len(genres_list)), genres_list, rotation=45)\n",
    "plt.tight_layout()\n",
    "\n",
    "# Add a legend with the corresponding colors\n",
    "legend_labels = ['Genre']\n",
    "ax.legend(legend_labels, loc='upper right', fontsize='medium')\n",
    "\n",
    "plt.show()\n"
   ]
  },
  {
   "cell_type": "code",
   "execution_count": 132,
   "metadata": {},
   "outputs": [
    {
     "data": {
      "text/plain": [
       "Text(0, 0.5, 'count of rating')"
      ]
     },
     "execution_count": 132,
     "metadata": {},
     "output_type": "execute_result"
    },
    {
     "data": {
      "image/png": "[encoded data removed]",
      "text/plain": [
       "<Figure size 1000x500 with 1 Axes>"
      ]
     },
     "metadata": {},
     "output_type": "display_data"
    }
   ],
   "source": [
    "plt.figure(figsize=(10,5))\n",
    "sns.histplot(ratings['rating_counts'])\n",
    "plt.title(\"Histogram plot no. of Rating\")\n",
    "plt.xlabel('no. of ratng')\n",
    "plt.ylabel('count of rating')"
   ]
  },
  {
   "cell_type": "markdown",
   "metadata": {},
   "source": [
    "Zero is the highest count because the genres have been divide and the ratings have been distributed among them"
   ]
  },
  {
   "cell_type": "markdown",
   "metadata": {},
   "source": [
    "2: Years column\n",
    "\n",
    "Years column in movies dataframe is not in proper format. It should be in YYYY format. we will extract the year from title column and create a new column year in the dataframe.\n"
   ]
  },
  {
   "cell_type": "markdown",
   "metadata": {},
   "source": [
    "Separating the years from the titles column"
   ]
  },
  {
   "cell_type": "code",
   "execution_count": 133,
   "metadata": {},
   "outputs": [
    {
     "data": {
      "text/html": [
       "<div>\n",
       "<style scoped>\n",
       "    .dataframe tbody tr th:only-of-type {\n",
       "        vertical-align: middle;\n",
       "    }\n",
       "\n",
       "    .dataframe tbody tr th {\n",
       "        vertical-align: top;\n",
       "    }\n",
       "\n",
       "    .dataframe thead th {\n",
       "        text-align: right;\n",
       "    }\n",
       "</style>\n",
       "<table border=\"1\" class=\"dataframe\">\n",
       "  <thead>\n",
       "    <tr style=\"text-align: right;\">\n",
       "      <th></th>\n",
       "      <th>movieId</th>\n",
       "      <th>title</th>\n",
       "      <th>userId</th>\n",
       "      <th>rating</th>\n",
       "      <th>Western</th>\n",
       "      <th>(no genres listed)</th>\n",
       "      <th>Adventure</th>\n",
       "      <th>Comedy</th>\n",
       "      <th>Musical</th>\n",
       "      <th>Sci-Fi</th>\n",
       "      <th>...</th>\n",
       "      <th>IMAX</th>\n",
       "      <th>Thriller</th>\n",
       "      <th>Drama</th>\n",
       "      <th>Action</th>\n",
       "      <th>Documentary</th>\n",
       "      <th>Romance</th>\n",
       "      <th>Animation</th>\n",
       "      <th>War</th>\n",
       "      <th>Horror</th>\n",
       "      <th>year</th>\n",
       "    </tr>\n",
       "  </thead>\n",
       "  <tbody>\n",
       "    <tr>\n",
       "      <th>0</th>\n",
       "      <td>1</td>\n",
       "      <td>Toy Story (1995)</td>\n",
       "      <td>1</td>\n",
       "      <td>4.0</td>\n",
       "      <td>0</td>\n",
       "      <td>0</td>\n",
       "      <td>1</td>\n",
       "      <td>1</td>\n",
       "      <td>0</td>\n",
       "      <td>0</td>\n",
       "      <td>...</td>\n",
       "      <td>0</td>\n",
       "      <td>0</td>\n",
       "      <td>0</td>\n",
       "      <td>0</td>\n",
       "      <td>0</td>\n",
       "      <td>0</td>\n",
       "      <td>1</td>\n",
       "      <td>0</td>\n",
       "      <td>0</td>\n",
       "      <td>1995</td>\n",
       "    </tr>\n",
       "    <tr>\n",
       "      <th>1</th>\n",
       "      <td>1</td>\n",
       "      <td>Toy Story (1995)</td>\n",
       "      <td>5</td>\n",
       "      <td>4.0</td>\n",
       "      <td>0</td>\n",
       "      <td>0</td>\n",
       "      <td>1</td>\n",
       "      <td>1</td>\n",
       "      <td>0</td>\n",
       "      <td>0</td>\n",
       "      <td>...</td>\n",
       "      <td>0</td>\n",
       "      <td>0</td>\n",
       "      <td>0</td>\n",
       "      <td>0</td>\n",
       "      <td>0</td>\n",
       "      <td>0</td>\n",
       "      <td>1</td>\n",
       "      <td>0</td>\n",
       "      <td>0</td>\n",
       "      <td>1995</td>\n",
       "    </tr>\n",
       "    <tr>\n",
       "      <th>2</th>\n",
       "      <td>1</td>\n",
       "      <td>Toy Story (1995)</td>\n",
       "      <td>7</td>\n",
       "      <td>4.5</td>\n",
       "      <td>0</td>\n",
       "      <td>0</td>\n",
       "      <td>1</td>\n",
       "      <td>1</td>\n",
       "      <td>0</td>\n",
       "      <td>0</td>\n",
       "      <td>...</td>\n",
       "      <td>0</td>\n",
       "      <td>0</td>\n",
       "      <td>0</td>\n",
       "      <td>0</td>\n",
       "      <td>0</td>\n",
       "      <td>0</td>\n",
       "      <td>1</td>\n",
       "      <td>0</td>\n",
       "      <td>0</td>\n",
       "      <td>1995</td>\n",
       "    </tr>\n",
       "    <tr>\n",
       "      <th>3</th>\n",
       "      <td>1</td>\n",
       "      <td>Toy Story (1995)</td>\n",
       "      <td>15</td>\n",
       "      <td>2.5</td>\n",
       "      <td>0</td>\n",
       "      <td>0</td>\n",
       "      <td>1</td>\n",
       "      <td>1</td>\n",
       "      <td>0</td>\n",
       "      <td>0</td>\n",
       "      <td>...</td>\n",
       "      <td>0</td>\n",
       "      <td>0</td>\n",
       "      <td>0</td>\n",
       "      <td>0</td>\n",
       "      <td>0</td>\n",
       "      <td>0</td>\n",
       "      <td>1</td>\n",
       "      <td>0</td>\n",
       "      <td>0</td>\n",
       "      <td>1995</td>\n",
       "    </tr>\n",
       "    <tr>\n",
       "      <th>4</th>\n",
       "      <td>1</td>\n",
       "      <td>Toy Story (1995)</td>\n",
       "      <td>17</td>\n",
       "      <td>4.5</td>\n",
       "      <td>0</td>\n",
       "      <td>0</td>\n",
       "      <td>1</td>\n",
       "      <td>1</td>\n",
       "      <td>0</td>\n",
       "      <td>0</td>\n",
       "      <td>...</td>\n",
       "      <td>0</td>\n",
       "      <td>0</td>\n",
       "      <td>0</td>\n",
       "      <td>0</td>\n",
       "      <td>0</td>\n",
       "      <td>0</td>\n",
       "      <td>1</td>\n",
       "      <td>0</td>\n",
       "      <td>0</td>\n",
       "      <td>1995</td>\n",
       "    </tr>\n",
       "  </tbody>\n",
       "</table>\n",
       "<p>5 rows × 25 columns</p>\n",
       "</div>"
      ],
      "text/plain": [
       "   movieId             title  userId  rating  Western  (no genres listed)  \\\n",
       "0        1  Toy Story (1995)       1     4.0        0                   0   \n",
       "1        1  Toy Story (1995)       5     4.0        0                   0   \n",
       "2        1  Toy Story (1995)       7     4.5        0                   0   \n",
       "3        1  Toy Story (1995)      15     2.5        0                   0   \n",
       "4        1  Toy Story (1995)      17     4.5        0                   0   \n",
       "\n",
       "   Adventure  Comedy  Musical  Sci-Fi  ...  IMAX  Thriller  Drama  Action  \\\n",
       "0          1       1        0       0  ...     0         0      0       0   \n",
       "1          1       1        0       0  ...     0         0      0       0   \n",
       "2          1       1        0       0  ...     0         0      0       0   \n",
       "3          1       1        0       0  ...     0         0      0       0   \n",
       "4          1       1        0       0  ...     0         0      0       0   \n",
       "\n",
       "   Documentary  Romance  Animation  War  Horror  year  \n",
       "0            0        0          1    0       0  1995  \n",
       "1            0        0          1    0       0  1995  \n",
       "2            0        0          1    0       0  1995  \n",
       "3            0        0          1    0       0  1995  \n",
       "4            0        0          1    0       0  1995  \n",
       "\n",
       "[5 rows x 25 columns]"
      ]
     },
     "execution_count": 133,
     "metadata": {},
     "output_type": "execute_result"
    }
   ],
   "source": [
    "# getting the year from the title column\n",
    "df['year'] = df['title'].str.extract('(\\(\\d\\d\\d\\d\\))',expand=False)\n",
    "# Convert the 'year' column to integers\n",
    "df['year'] = df['year'].str.extract('(\\d\\d\\d\\d)',expand=False)\n",
    "df['title'] = df.title.str.replace('(\\(\\d\\d\\d\\d\\))', '')\n",
    "df['title'] = df['title'].apply(lambda x: x.strip())\n",
    "\n",
    "df.head()"
   ]
  },
  {
   "cell_type": "code",
   "execution_count": 134,
   "metadata": {},
   "outputs": [
    {
     "name": "stdout",
     "output_type": "stream",
     "text": [
      "object\n"
     ]
    }
   ],
   "source": [
    "# knowing the data types of the year column\n",
    "print(df['year'].dtypes)"
   ]
  },
  {
   "cell_type": "code",
   "execution_count": 135,
   "metadata": {},
   "outputs": [
    {
     "data": {
      "text/plain": [
       "np.int64(18)"
      ]
     },
     "execution_count": 135,
     "metadata": {},
     "output_type": "execute_result"
    }
   ],
   "source": [
    "# checking for null values in year column\n",
    "df['year'].isnull().sum()"
   ]
  },
  {
   "cell_type": "code",
   "execution_count": 136,
   "metadata": {},
   "outputs": [],
   "source": [
    "# dropping the null values in year column\n",
    "df.dropna(inplace=True)\n"
   ]
  },
  {
   "cell_type": "code",
   "execution_count": 137,
   "metadata": {},
   "outputs": [
    {
     "name": "stdout",
     "output_type": "stream",
     "text": [
      "int64\n"
     ]
    }
   ],
   "source": [
    "# converting years from objects into integers\n",
    "df['year'] = df['year'].astype(int)\n",
    "# printing to know the data type of the year column only\n",
    "print(df['year'].dtypes)"
   ]
  },
  {
   "cell_type": "code",
   "execution_count": 138,
   "metadata": {},
   "outputs": [
    {
     "data": {
      "text/plain": [
       "year\n",
       "1995    6144\n",
       "1994    5296\n",
       "1999    4536\n",
       "1996    4509\n",
       "2000    4268\n",
       "2001    3914\n",
       "1993    3741\n",
       "1997    3643\n",
       "2002    3642\n",
       "1998    3557\n",
       "Name: title, dtype: int64"
      ]
     },
     "execution_count": 138,
     "metadata": {},
     "output_type": "execute_result"
    }
   ],
   "source": [
    "# find the years with the most number of released movies in the dataset\n",
    "df.groupby('year')['title'].count().sort_values(ascending=False).head(10)\n"
   ]
  },
  {
   "cell_type": "code",
   "execution_count": 139,
   "metadata": {},
   "outputs": [
    {
     "data": {
      "image/png": "[encoded data removed]",
      "text/plain": [
       "<Figure size 1000x500 with 1 Axes>"
      ]
     },
     "metadata": {},
     "output_type": "display_data"
    }
   ],
   "source": [
    "# a plot of the top 10 years with the most number of released movies in the dataset\n",
    "df.groupby('year')['title'].count().sort_values(ascending=False).head(10).plot(kind='bar', figsize=(10,5))\n",
    "plt.title('Number of movies released in each year')\n",
    "plt.xlabel('Year')\n",
    "plt.ylabel('Number of movies released')\n",
    "plt.show()"
   ]
  },
  {
   "cell_type": "code",
   "execution_count": 140,
   "metadata": {},
   "outputs": [
    {
     "data": {
      "text/plain": [
       "year\n",
       "1923    7\n",
       "1924    6\n",
       "1916    5\n",
       "1902    5\n",
       "1921    5\n",
       "1903    2\n",
       "1919    1\n",
       "1917    1\n",
       "1915    1\n",
       "1908    1\n",
       "Name: title, dtype: int64"
      ]
     },
     "execution_count": 140,
     "metadata": {},
     "output_type": "execute_result"
    }
   ],
   "source": [
    "# getting years with the least released number of movies    \n",
    "df.groupby('year')['title'].count().sort_values(ascending=False).tail(10)\n"
   ]
  },
  {
   "cell_type": "code",
   "execution_count": 141,
   "metadata": {},
   "outputs": [
    {
     "data": {
      "text/html": [
       "<div>\n",
       "<style scoped>\n",
       "    .dataframe tbody tr th:only-of-type {\n",
       "        vertical-align: middle;\n",
       "    }\n",
       "\n",
       "    .dataframe tbody tr th {\n",
       "        vertical-align: top;\n",
       "    }\n",
       "\n",
       "    .dataframe thead th {\n",
       "        text-align: right;\n",
       "    }\n",
       "</style>\n",
       "<table border=\"1\" class=\"dataframe\">\n",
       "  <thead>\n",
       "    <tr style=\"text-align: right;\">\n",
       "      <th></th>\n",
       "      <th>movieId</th>\n",
       "      <th>title</th>\n",
       "      <th>userId</th>\n",
       "      <th>rating</th>\n",
       "      <th>Western</th>\n",
       "      <th>(no genres listed)</th>\n",
       "      <th>Adventure</th>\n",
       "      <th>Comedy</th>\n",
       "      <th>Musical</th>\n",
       "      <th>Sci-Fi</th>\n",
       "      <th>...</th>\n",
       "      <th>IMAX</th>\n",
       "      <th>Thriller</th>\n",
       "      <th>Drama</th>\n",
       "      <th>Action</th>\n",
       "      <th>Documentary</th>\n",
       "      <th>Romance</th>\n",
       "      <th>Animation</th>\n",
       "      <th>War</th>\n",
       "      <th>Horror</th>\n",
       "      <th>year</th>\n",
       "    </tr>\n",
       "  </thead>\n",
       "  <tbody>\n",
       "  </tbody>\n",
       "</table>\n",
       "<p>0 rows × 25 columns</p>\n",
       "</div>"
      ],
      "text/plain": [
       "Empty DataFrame\n",
       "Columns: [movieId, title, userId, rating, Western, (no genres listed), Adventure, Comedy, Musical, Sci-Fi, Crime, Fantasy, Children, Film-Noir, Mystery, IMAX, Thriller, Drama, Action, Documentary, Romance, Animation, War, Horror, year]\n",
       "Index: []\n",
       "\n",
       "[0 rows x 25 columns]"
      ]
     },
     "execution_count": 141,
     "metadata": {},
     "output_type": "execute_result"
    }
   ],
   "source": [
    "# knowing the movie that was released in 1908\n",
    "df[df['year'] == '1908']\n"
   ]
  },
  {
   "cell_type": "code",
   "execution_count": 142,
   "metadata": {},
   "outputs": [
    {
     "data": {
      "image/png": "[encoded data removed]",
      "text/plain": [
       "<Figure size 2000x1000 with 1 Axes>"
      ]
     },
     "metadata": {},
     "output_type": "display_data"
    }
   ],
   "source": [
    "# plotting the count of ratings per year in a range of years\n",
    "plt.figure(figsize=(20,10))\n",
    "sns.countplot(x='year', data=df)\n",
    "plt.xticks(rotation=90)\n",
    "plt.show()"
   ]
  },
  {
   "cell_type": "code",
   "execution_count": 143,
   "metadata": {},
   "outputs": [
    {
     "data": {
      "image/png": "[encoded data removed]",
      "text/plain": [
       "<Figure size 1200x600 with 1 Axes>"
      ]
     },
     "metadata": {},
     "output_type": "display_data"
    }
   ],
   "source": [
    "# Time series ploting to see trends in movie releases over the years\n",
    "\n",
    "# Group by 'year' and count the number of movies released each year\n",
    "movies_per_year = df.groupby('year').size()\n",
    "\n",
    "# Plot the time series\n",
    "plt.figure(figsize=(12, 6))\n",
    "plt.plot(movies_per_year.index, movies_per_year.values, marker='o')\n",
    "plt.xlabel('Year')\n",
    "plt.ylabel('Number of Movies Released')\n",
    "plt.title('Number of Movies Released per Year')\n",
    "plt.grid(True)\n",
    "plt.show()"
   ]
  },
  {
   "cell_type": "markdown",
   "metadata": {},
   "source": [
    "## Correlation\n",
    "### Correlation Matrix"
   ]
  },
  {
   "cell_type": "markdown",
   "metadata": {},
   "source": [
    "we calculate the correlation matrix to see how the ratings are correlated with each other and the heatmap to visualize the correlation matrix.  \n",
    "\n",
    "The correlation coefficient ranges from -1 to 1. If the value is close to 1, it means that there is a strong positive correlation between the two variables. When it is close to -1, the variables have a strong negative correlation.  \n",
    "\n",
    "We can see that the correlation between the ratings of movies is very low. This means that the ratings of a movie are not correlated with the ratings of other movies. This is expected because different users have different tastes and preferences. "
   ]
  },
  {
   "cell_type": "code",
   "execution_count": 144,
   "metadata": {},
   "outputs": [
    {
     "data": {
      "text/html": [
       "<div>\n",
       "<style scoped>\n",
       "    .dataframe tbody tr th:only-of-type {\n",
       "        vertical-align: middle;\n",
       "    }\n",
       "\n",
       "    .dataframe tbody tr th {\n",
       "        vertical-align: top;\n",
       "    }\n",
       "\n",
       "    .dataframe thead th {\n",
       "        text-align: right;\n",
       "    }\n",
       "</style>\n",
       "<table border=\"1\" class=\"dataframe\">\n",
       "  <thead>\n",
       "    <tr style=\"text-align: right;\">\n",
       "      <th></th>\n",
       "      <th>movieId</th>\n",
       "      <th>userId</th>\n",
       "      <th>rating</th>\n",
       "      <th>Western</th>\n",
       "      <th>(no genres listed)</th>\n",
       "      <th>Adventure</th>\n",
       "      <th>Comedy</th>\n",
       "      <th>Musical</th>\n",
       "      <th>Sci-Fi</th>\n",
       "      <th>Crime</th>\n",
       "      <th>...</th>\n",
       "      <th>IMAX</th>\n",
       "      <th>Thriller</th>\n",
       "      <th>Drama</th>\n",
       "      <th>Action</th>\n",
       "      <th>Documentary</th>\n",
       "      <th>Romance</th>\n",
       "      <th>Animation</th>\n",
       "      <th>War</th>\n",
       "      <th>Horror</th>\n",
       "      <th>year</th>\n",
       "    </tr>\n",
       "  </thead>\n",
       "  <tbody>\n",
       "    <tr>\n",
       "      <th>movieId</th>\n",
       "      <td>1.000000</td>\n",
       "      <td>0.006838</td>\n",
       "      <td>-0.004254</td>\n",
       "      <td>-0.017348</td>\n",
       "      <td>0.069952</td>\n",
       "      <td>0.047178</td>\n",
       "      <td>-0.036409</td>\n",
       "      <td>-0.053224</td>\n",
       "      <td>0.076934</td>\n",
       "      <td>-0.015957</td>\n",
       "      <td>...</td>\n",
       "      <td>0.233793</td>\n",
       "      <td>-0.010528</td>\n",
       "      <td>-0.020369</td>\n",
       "      <td>0.072398</td>\n",
       "      <td>0.057013</td>\n",
       "      <td>-0.073597</td>\n",
       "      <td>0.074820</td>\n",
       "      <td>-0.026770</td>\n",
       "      <td>-0.018657</td>\n",
       "      <td>0.512398</td>\n",
       "    </tr>\n",
       "    <tr>\n",
       "      <th>userId</th>\n",
       "      <td>0.006838</td>\n",
       "      <td>1.000000</td>\n",
       "      <td>-0.049313</td>\n",
       "      <td>-0.009768</td>\n",
       "      <td>0.002411</td>\n",
       "      <td>-0.012036</td>\n",
       "      <td>-0.007913</td>\n",
       "      <td>-0.000932</td>\n",
       "      <td>0.003051</td>\n",
       "      <td>-0.014791</td>\n",
       "      <td>...</td>\n",
       "      <td>-0.001056</td>\n",
       "      <td>-0.006412</td>\n",
       "      <td>0.003357</td>\n",
       "      <td>-0.006783</td>\n",
       "      <td>0.009240</td>\n",
       "      <td>-0.001313</td>\n",
       "      <td>-0.011917</td>\n",
       "      <td>-0.011474</td>\n",
       "      <td>0.029517</td>\n",
       "      <td>-0.014224</td>\n",
       "    </tr>\n",
       "    <tr>\n",
       "      <th>rating</th>\n",
       "      <td>-0.004254</td>\n",
       "      <td>-0.049313</td>\n",
       "      <td>1.000000</td>\n",
       "      <td>0.011043</td>\n",
       "      <td>-0.002264</td>\n",
       "      <td>0.003811</td>\n",
       "      <td>-0.089101</td>\n",
       "      <td>0.012333</td>\n",
       "      <td>-0.019900</td>\n",
       "      <td>0.066957</td>\n",
       "      <td>...</td>\n",
       "      <td>0.023201</td>\n",
       "      <td>-0.004467</td>\n",
       "      <td>0.125159</td>\n",
       "      <td>-0.033938</td>\n",
       "      <td>0.031439</td>\n",
       "      <td>0.002236</td>\n",
       "      <td>0.033614</td>\n",
       "      <td>0.066217</td>\n",
       "      <td>-0.065174</td>\n",
       "      <td>-0.084047</td>\n",
       "    </tr>\n",
       "    <tr>\n",
       "      <th>Western</th>\n",
       "      <td>-0.017348</td>\n",
       "      <td>-0.009768</td>\n",
       "      <td>0.011043</td>\n",
       "      <td>1.000000</td>\n",
       "      <td>-0.002677</td>\n",
       "      <td>0.030434</td>\n",
       "      <td>-0.028620</td>\n",
       "      <td>-0.019781</td>\n",
       "      <td>-0.030373</td>\n",
       "      <td>-0.047011</td>\n",
       "      <td>...</td>\n",
       "      <td>-0.023095</td>\n",
       "      <td>-0.059120</td>\n",
       "      <td>-0.008901</td>\n",
       "      <td>0.035510</td>\n",
       "      <td>-0.014793</td>\n",
       "      <td>-0.025251</td>\n",
       "      <td>-0.029860</td>\n",
       "      <td>0.011823</td>\n",
       "      <td>-0.032578</td>\n",
       "      <td>-0.068728</td>\n",
       "    </tr>\n",
       "    <tr>\n",
       "      <th>(no genres listed)</th>\n",
       "      <td>0.069952</td>\n",
       "      <td>0.002411</td>\n",
       "      <td>-0.002264</td>\n",
       "      <td>-0.002677</td>\n",
       "      <td>1.000000</td>\n",
       "      <td>-0.010757</td>\n",
       "      <td>-0.015236</td>\n",
       "      <td>-0.003964</td>\n",
       "      <td>-0.008701</td>\n",
       "      <td>-0.008532</td>\n",
       "      <td>...</td>\n",
       "      <td>-0.003968</td>\n",
       "      <td>-0.011426</td>\n",
       "      <td>-0.016167</td>\n",
       "      <td>-0.012658</td>\n",
       "      <td>-0.002120</td>\n",
       "      <td>-0.008970</td>\n",
       "      <td>-0.005229</td>\n",
       "      <td>-0.004312</td>\n",
       "      <td>-0.005350</td>\n",
       "      <td>0.017111</td>\n",
       "    </tr>\n",
       "  </tbody>\n",
       "</table>\n",
       "<p>5 rows × 24 columns</p>\n",
       "</div>"
      ],
      "text/plain": [
       "                     movieId    userId    rating   Western  \\\n",
       "movieId             1.000000  0.006838 -0.004254 -0.017348   \n",
       "userId              0.006838  1.000000 -0.049313 -0.009768   \n",
       "rating             -0.004254 -0.049313  1.000000  0.011043   \n",
       "Western            -0.017348 -0.009768  0.011043  1.000000   \n",
       "(no genres listed)  0.069952  0.002411 -0.002264 -0.002677   \n",
       "\n",
       "                    (no genres listed)  Adventure    Comedy   Musical  \\\n",
       "movieId                       0.069952   0.047178 -0.036409 -0.053224   \n",
       "userId                        0.002411  -0.012036 -0.007913 -0.000932   \n",
       "rating                       -0.002264   0.003811 -0.089101  0.012333   \n",
       "Western                      -0.002677   0.030434 -0.028620 -0.019781   \n",
       "(no genres listed)            1.000000  -0.010757 -0.015236 -0.003964   \n",
       "\n",
       "                      Sci-Fi     Crime  ...      IMAX  Thriller     Drama  \\\n",
       "movieId             0.076934 -0.015957  ...  0.233793 -0.010528 -0.020369   \n",
       "userId              0.003051 -0.014791  ... -0.001056 -0.006412  0.003357   \n",
       "rating             -0.019900  0.066957  ...  0.023201 -0.004467  0.125159   \n",
       "Western            -0.030373 -0.047011  ... -0.023095 -0.059120 -0.008901   \n",
       "(no genres listed) -0.008701 -0.008532  ... -0.003968 -0.011426 -0.016167   \n",
       "\n",
       "                      Action  Documentary   Romance  Animation       War  \\\n",
       "movieId             0.072398     0.057013 -0.073597   0.074820 -0.026770   \n",
       "userId             -0.006783     0.009240 -0.001313  -0.011917 -0.011474   \n",
       "rating             -0.033938     0.031439  0.002236   0.033614  0.066217   \n",
       "Western             0.035510    -0.014793 -0.025251  -0.029860  0.011823   \n",
       "(no genres listed) -0.012658    -0.002120 -0.008970  -0.005229 -0.004312   \n",
       "\n",
       "                      Horror      year  \n",
       "movieId            -0.018657  0.512398  \n",
       "userId              0.029517 -0.014224  \n",
       "rating             -0.065174 -0.084047  \n",
       "Western            -0.032578 -0.068728  \n",
       "(no genres listed) -0.005350  0.017111  \n",
       "\n",
       "[5 rows x 24 columns]"
      ]
     },
     "execution_count": 144,
     "metadata": {},
     "output_type": "execute_result"
    }
   ],
   "source": [
    "# Calculate the correlation matrix \n",
    "non_numeric_columns = ['title']  \n",
    "numerical_df = df.drop(non_numeric_columns, axis=1)\n",
    "\n",
    "# Calculate the correlation matrix for numerical columns\n",
    "correlation_matrix = numerical_df.corr()\n",
    "correlation_matrix.head()\n"
   ]
  },
  {
   "cell_type": "code",
   "execution_count": 145,
   "metadata": {},
   "outputs": [
    {
     "data": {
      "image/png": "[encoded data removed]",
      "text/plain": [
       "<Figure size 1200x1000 with 2 Axes>"
      ]
     },
     "metadata": {},
     "output_type": "display_data"
    }
   ],
   "source": [
    "df['rating'] = pd.to_numeric(df['rating'], errors='coerce')\n",
    "\n",
    "# Plot the correlation matrix as a heatmap\n",
    "plt.figure(figsize=(12, 10))\n",
    "sns.heatmap(correlation_matrix, annot=True, cmap='coolwarm', fmt='.2f', linewidths=0.5)\n",
    "plt.title('Correlation Heatmap of Genres and Ratings')\n",
    "plt.show()"
   ]
  },
  {
   "cell_type": "markdown",
   "metadata": {},
   "source": [
    "## Handling Outliers\n",
    "Outlier Detection and Removal using IQR Score Method \n",
    "\n",
    "we detect outliers using the IQR score method and remove them from the dataset. \n",
    "\n",
    "The IQR score method involves calculating the IQR score, which is the difference between the 75th and 25th percentiles. \n",
    "We then multiply the IQR score by 1.5 and add it to the 75th percentile and subtract it from the 25th percentile. \n",
    "Any data points outside of these limits are considered outliers and removed from the dataset. "
   ]
  },
  {
   "cell_type": "code",
   "execution_count": 146,
   "metadata": {},
   "outputs": [
    {
     "data": {
      "image/png": "[encoded data removed]",
      "text/plain": [
       "<Figure size 800x600 with 1 Axes>"
      ]
     },
     "metadata": {},
     "output_type": "display_data"
    }
   ],
   "source": [
    "# Outlier Detection: Identify and investigate outliers in the data\n",
    "\n",
    "# Create a box plot to visualize outliers in the 'rating' column\n",
    "plt.figure(figsize=(8, 6))\n",
    "sns.boxplot(x=df['rating'])\n",
    "plt.xlabel('Rating')\n",
    "plt.title('Box Plot of Ratings')\n",
    "plt.show()"
   ]
  },
  {
   "cell_type": "code",
   "execution_count": 147,
   "metadata": {
    "tags": []
   },
   "outputs": [
    {
     "name": "stdout",
     "output_type": "stream",
     "text": [
      "                Column                                           Outliers\n",
      "0              movieId          movieId                               ...\n",
      "1               userId  Empty DataFrame\n",
      "Columns: [movieId, title, user...\n",
      "2               rating          movieId                               ...\n",
      "3            Film-Noir         movieId                             tit...\n",
      "4               Horror          movieId                               ...\n",
      "5                  War          movieId                title  userId  ...\n",
      "6             Children          movieId                           titl...\n",
      "7               Sci-Fi          movieId                        title  ...\n",
      "8              Western          movieId                         title ...\n",
      "9               Action  Empty DataFrame\n",
      "Columns: [movieId, title, user...\n",
      "10               Drama  Empty DataFrame\n",
      "Columns: [movieId, title, user...\n",
      "11             Romance          movieId                               ...\n",
      "12  (no genres listed)          movieId                               ...\n",
      "13             Fantasy          movieId                               ...\n",
      "14               Crime          movieId                              t...\n",
      "15            Thriller  Empty DataFrame\n",
      "Columns: [movieId, title, user...\n",
      "16           Animation          movieId                               ...\n",
      "17         Documentary          movieId                               ...\n",
      "18           Adventure          movieId                               ...\n",
      "19             Mystery          movieId                               ...\n",
      "20             Musical         movieId                       title  us...\n",
      "21              Comedy  Empty DataFrame\n",
      "Columns: [movieId, title, user...\n",
      "22                IMAX         movieId                                ...\n",
      "23                year          movieId                               ...\n"
     ]
    }
   ],
   "source": [
    "# columns of interest for outlier detection\n",
    "columns_of_interest = ['movieId','userId', 'rating', 'Film-Noir', 'Horror', 'War',\n",
    "       'Children', 'Sci-Fi', 'Western', 'Action', 'Drama', 'Romance',\n",
    "       '(no genres listed)', 'Fantasy', 'Crime', 'Thriller', 'Animation',\n",
    "       'Documentary', 'Adventure', 'Mystery', 'Musical', 'Comedy', 'IMAX',\n",
    "       'year']\n",
    "# List to store outlier information\n",
    "outliers_info = []\n",
    "\n",
    "# Iterate through columns of interest\n",
    "for column in columns_of_interest:\n",
    "    # Calculate Q1 and Q3\n",
    "    Q1 = df[column].quantile(0.25)\n",
    "    Q3 = df[column].quantile(0.75)\n",
    "\n",
    "    # Calculate IQR\n",
    "    IQR = Q3 - Q1\n",
    "\n",
    "    # Define the lower and upper bounds for outliers\n",
    "    lower_bound = Q1 - 1.5 * IQR\n",
    "    upper_bound = Q3 + 1.5 * IQR\n",
    "\n",
    "    # Identify outliers\n",
    "    outliers = df[(df[column] < lower_bound) | (df[column] > upper_bound)]\n",
    "    \n",
    "    # Store outlier information for this column\n",
    "    outliers_info.append({'Column': column, 'Outliers': outliers})\n",
    "\n",
    "# Create a DataFrame from the list of outlier information\n",
    "all_outliers_df = pd.DataFrame(outliers_info)\n",
    "\n",
    "# Print the DataFrame with outliers for each column of interest\n",
    "print(all_outliers_df)\n"
   ]
  },
  {
   "cell_type": "markdown",
   "metadata": {},
   "source": [
    "There are zero number of outliers available"
   ]
  },
  {
   "cell_type": "markdown",
   "metadata": {},
   "source": [
    "## Creating a movie matrix and sparse matrix"
   ]
  },
  {
   "cell_type": "markdown",
   "metadata": {},
   "source": [
    "Creating a movie matrix to create a pivot table of movies and users with ratings as values\n",
    "Movie matrix is used to find the similarity between movies and users based on ratings given by users to movies they have watched and rated in the past.\n",
    "The sparse matrix is created to save memory space and time"
   ]
  },
  {
   "cell_type": "code",
   "execution_count": 148,
   "metadata": {},
   "outputs": [
    {
     "data": {
      "text/html": [
       "<div>\n",
       "<style scoped>\n",
       "    .dataframe tbody tr th:only-of-type {\n",
       "        vertical-align: middle;\n",
       "    }\n",
       "\n",
       "    .dataframe tbody tr th {\n",
       "        vertical-align: top;\n",
       "    }\n",
       "\n",
       "    .dataframe thead th {\n",
       "        text-align: right;\n",
       "    }\n",
       "</style>\n",
       "<table border=\"1\" class=\"dataframe\">\n",
       "  <thead>\n",
       "    <tr style=\"text-align: right;\">\n",
       "      <th>title</th>\n",
       "      <th>'71 (2014)</th>\n",
       "      <th>'Hellboy': The Seeds of Creation (2004)</th>\n",
       "      <th>'Round Midnight (1986)</th>\n",
       "      <th>'Salem's Lot (2004)</th>\n",
       "      <th>'Til There Was You (1997)</th>\n",
       "      <th>'Tis the Season for Love (2015)</th>\n",
       "      <th>'burbs, The (1989)</th>\n",
       "      <th>'night Mother (1986)</th>\n",
       "      <th>(500) Days of Summer (2009)</th>\n",
       "      <th>*batteries not included (1987)</th>\n",
       "      <th>...</th>\n",
       "      <th>Zulu (2013)</th>\n",
       "      <th>[REC] (2007)</th>\n",
       "      <th>[REC]² (2009)</th>\n",
       "      <th>[REC]³ 3 Génesis (2012)</th>\n",
       "      <th>anohana: The Flower We Saw That Day - The Movie (2013)</th>\n",
       "      <th>eXistenZ (1999)</th>\n",
       "      <th>xXx (2002)</th>\n",
       "      <th>xXx: State of the Union (2005)</th>\n",
       "      <th>¡Three Amigos! (1986)</th>\n",
       "      <th>À nous la liberté (Freedom for Us) (1931)</th>\n",
       "    </tr>\n",
       "    <tr>\n",
       "      <th>userId</th>\n",
       "      <th></th>\n",
       "      <th></th>\n",
       "      <th></th>\n",
       "      <th></th>\n",
       "      <th></th>\n",
       "      <th></th>\n",
       "      <th></th>\n",
       "      <th></th>\n",
       "      <th></th>\n",
       "      <th></th>\n",
       "      <th></th>\n",
       "      <th></th>\n",
       "      <th></th>\n",
       "      <th></th>\n",
       "      <th></th>\n",
       "      <th></th>\n",
       "      <th></th>\n",
       "      <th></th>\n",
       "      <th></th>\n",
       "      <th></th>\n",
       "      <th></th>\n",
       "    </tr>\n",
       "  </thead>\n",
       "  <tbody>\n",
       "    <tr>\n",
       "      <th>1</th>\n",
       "      <td>0.0</td>\n",
       "      <td>0.0</td>\n",
       "      <td>0.0</td>\n",
       "      <td>0.0</td>\n",
       "      <td>0.0</td>\n",
       "      <td>0.0</td>\n",
       "      <td>0.0</td>\n",
       "      <td>0.0</td>\n",
       "      <td>0.0</td>\n",
       "      <td>0.0</td>\n",
       "      <td>...</td>\n",
       "      <td>0.0</td>\n",
       "      <td>0.0</td>\n",
       "      <td>0.0</td>\n",
       "      <td>0.0</td>\n",
       "      <td>0.0</td>\n",
       "      <td>0.0</td>\n",
       "      <td>0.0</td>\n",
       "      <td>0.0</td>\n",
       "      <td>4.0</td>\n",
       "      <td>0.0</td>\n",
       "    </tr>\n",
       "    <tr>\n",
       "      <th>2</th>\n",
       "      <td>0.0</td>\n",
       "      <td>0.0</td>\n",
       "      <td>0.0</td>\n",
       "      <td>0.0</td>\n",
       "      <td>0.0</td>\n",
       "      <td>0.0</td>\n",
       "      <td>0.0</td>\n",
       "      <td>0.0</td>\n",
       "      <td>0.0</td>\n",
       "      <td>0.0</td>\n",
       "      <td>...</td>\n",
       "      <td>0.0</td>\n",
       "      <td>0.0</td>\n",
       "      <td>0.0</td>\n",
       "      <td>0.0</td>\n",
       "      <td>0.0</td>\n",
       "      <td>0.0</td>\n",
       "      <td>0.0</td>\n",
       "      <td>0.0</td>\n",
       "      <td>0.0</td>\n",
       "      <td>0.0</td>\n",
       "    </tr>\n",
       "    <tr>\n",
       "      <th>3</th>\n",
       "      <td>0.0</td>\n",
       "      <td>0.0</td>\n",
       "      <td>0.0</td>\n",
       "      <td>0.0</td>\n",
       "      <td>0.0</td>\n",
       "      <td>0.0</td>\n",
       "      <td>0.0</td>\n",
       "      <td>0.0</td>\n",
       "      <td>0.0</td>\n",
       "      <td>0.0</td>\n",
       "      <td>...</td>\n",
       "      <td>0.0</td>\n",
       "      <td>0.0</td>\n",
       "      <td>0.0</td>\n",
       "      <td>0.0</td>\n",
       "      <td>0.0</td>\n",
       "      <td>0.0</td>\n",
       "      <td>0.0</td>\n",
       "      <td>0.0</td>\n",
       "      <td>0.0</td>\n",
       "      <td>0.0</td>\n",
       "    </tr>\n",
       "    <tr>\n",
       "      <th>4</th>\n",
       "      <td>0.0</td>\n",
       "      <td>0.0</td>\n",
       "      <td>0.0</td>\n",
       "      <td>0.0</td>\n",
       "      <td>0.0</td>\n",
       "      <td>0.0</td>\n",
       "      <td>0.0</td>\n",
       "      <td>0.0</td>\n",
       "      <td>0.0</td>\n",
       "      <td>0.0</td>\n",
       "      <td>...</td>\n",
       "      <td>0.0</td>\n",
       "      <td>0.0</td>\n",
       "      <td>0.0</td>\n",
       "      <td>0.0</td>\n",
       "      <td>0.0</td>\n",
       "      <td>0.0</td>\n",
       "      <td>0.0</td>\n",
       "      <td>0.0</td>\n",
       "      <td>0.0</td>\n",
       "      <td>0.0</td>\n",
       "    </tr>\n",
       "    <tr>\n",
       "      <th>5</th>\n",
       "      <td>0.0</td>\n",
       "      <td>0.0</td>\n",
       "      <td>0.0</td>\n",
       "      <td>0.0</td>\n",
       "      <td>0.0</td>\n",
       "      <td>0.0</td>\n",
       "      <td>0.0</td>\n",
       "      <td>0.0</td>\n",
       "      <td>0.0</td>\n",
       "      <td>0.0</td>\n",
       "      <td>...</td>\n",
       "      <td>0.0</td>\n",
       "      <td>0.0</td>\n",
       "      <td>0.0</td>\n",
       "      <td>0.0</td>\n",
       "      <td>0.0</td>\n",
       "      <td>0.0</td>\n",
       "      <td>0.0</td>\n",
       "      <td>0.0</td>\n",
       "      <td>0.0</td>\n",
       "      <td>0.0</td>\n",
       "    </tr>\n",
       "  </tbody>\n",
       "</table>\n",
       "<p>5 rows × 9706 columns</p>\n",
       "</div>"
      ],
      "text/plain": [
       "title   '71 (2014)  'Hellboy': The Seeds of Creation (2004)  \\\n",
       "userId                                                        \n",
       "1              0.0                                      0.0   \n",
       "2              0.0                                      0.0   \n",
       "3              0.0                                      0.0   \n",
       "4              0.0                                      0.0   \n",
       "5              0.0                                      0.0   \n",
       "\n",
       "title   'Round Midnight (1986)  'Salem's Lot (2004)  \\\n",
       "userId                                                \n",
       "1                          0.0                  0.0   \n",
       "2                          0.0                  0.0   \n",
       "3                          0.0                  0.0   \n",
       "4                          0.0                  0.0   \n",
       "5                          0.0                  0.0   \n",
       "\n",
       "title   'Til There Was You (1997)  'Tis the Season for Love (2015)  \\\n",
       "userId                                                               \n",
       "1                             0.0                              0.0   \n",
       "2                             0.0                              0.0   \n",
       "3                             0.0                              0.0   \n",
       "4                             0.0                              0.0   \n",
       "5                             0.0                              0.0   \n",
       "\n",
       "title   'burbs, The (1989)  'night Mother (1986)  (500) Days of Summer (2009)  \\\n",
       "userId                                                                          \n",
       "1                      0.0                   0.0                          0.0   \n",
       "2                      0.0                   0.0                          0.0   \n",
       "3                      0.0                   0.0                          0.0   \n",
       "4                      0.0                   0.0                          0.0   \n",
       "5                      0.0                   0.0                          0.0   \n",
       "\n",
       "title   *batteries not included (1987)  ...  Zulu (2013)  [REC] (2007)  \\\n",
       "userId                                  ...                              \n",
       "1                                  0.0  ...          0.0           0.0   \n",
       "2                                  0.0  ...          0.0           0.0   \n",
       "3                                  0.0  ...          0.0           0.0   \n",
       "4                                  0.0  ...          0.0           0.0   \n",
       "5                                  0.0  ...          0.0           0.0   \n",
       "\n",
       "title   [REC]² (2009)  [REC]³ 3 Génesis (2012)  \\\n",
       "userId                                           \n",
       "1                 0.0                      0.0   \n",
       "2                 0.0                      0.0   \n",
       "3                 0.0                      0.0   \n",
       "4                 0.0                      0.0   \n",
       "5                 0.0                      0.0   \n",
       "\n",
       "title   anohana: The Flower We Saw That Day - The Movie (2013)  \\\n",
       "userId                                                           \n",
       "1                                                     0.0        \n",
       "2                                                     0.0        \n",
       "3                                                     0.0        \n",
       "4                                                     0.0        \n",
       "5                                                     0.0        \n",
       "\n",
       "title   eXistenZ (1999)  xXx (2002)  xXx: State of the Union (2005)  \\\n",
       "userId                                                                \n",
       "1                   0.0         0.0                             0.0   \n",
       "2                   0.0         0.0                             0.0   \n",
       "3                   0.0         0.0                             0.0   \n",
       "4                   0.0         0.0                             0.0   \n",
       "5                   0.0         0.0                             0.0   \n",
       "\n",
       "title   ¡Three Amigos! (1986)  À nous la liberté (Freedom for Us) (1931)  \n",
       "userId                                                                    \n",
       "1                         4.0                                        0.0  \n",
       "2                         0.0                                        0.0  \n",
       "3                         0.0                                        0.0  \n",
       "4                         0.0                                        0.0  \n",
       "5                         0.0                                        0.0  \n",
       "\n",
       "[5 rows x 9706 columns]"
      ]
     },
     "execution_count": 148,
     "metadata": {},
     "output_type": "execute_result"
    }
   ],
   "source": [
    "# creating a pivot table\n",
    "movie_matrix = df.pivot_table(index='userId', columns='title', values='rating').fillna(0)\n",
    "movie_matrix.head()"
   ]
  },
  {
   "cell_type": "code",
   "execution_count": 149,
   "metadata": {},
   "outputs": [
    {
     "data": {
      "text/plain": [
       "<Compressed Sparse Row sparse matrix of dtype 'float64'\n",
       "\twith 100814 stored elements and shape (610, 9706)>"
      ]
     },
     "execution_count": 149,
     "metadata": {},
     "output_type": "execute_result"
    }
   ],
   "source": [
    "from scipy.sparse import csr_matrix\n",
    "movie_matrix_sparse = csr_matrix(movie_matrix.values)\n",
    "movie_matrix_sparse"
   ]
  },
  {
   "cell_type": "markdown",
   "metadata": {},
   "source": [
    "## User ratings input\n",
    "User will be inputing their movies rating Input\n",
    "\n",
    "We'll create a simple function that allows users to input their ratings for a few movies. The function will take random movie titles and corresponding ratings as input from the user."
   ]
  },
  {
   "cell_type": "code",
   "execution_count": 150,
   "metadata": {},
   "outputs": [
    {
     "name": "stdout",
     "output_type": "stream",
     "text": [
      "Please rate the following movies (on a scale of 1 to 5):\n",
      "Movie: '71 (2014)\n",
      "Movie: 'Hellboy': The Seeds of Creation (2004)\n",
      "Movie: 'Round Midnight (1986)\n",
      "Movie: 'Salem's Lot (2004)\n",
      "Movie: 'Til There Was You (1997)\n",
      "Thank you for rating!\n",
      "User Ratings:\n",
      "Movie: '71 (2014), Rating: 5.0\n",
      "Movie: 'Hellboy': The Seeds of Creation (2004), Rating: 5.0\n",
      "Movie: 'Round Midnight (1986), Rating: 5.0\n",
      "Movie: 'Salem's Lot (2004), Rating: 5.0\n",
      "Movie: 'Til There Was You (1997), Rating: 5.0\n"
     ]
    }
   ],
   "source": [
    "def get_user_ratings(movie_matrix):\n",
    "    # Get a list of movie titles\n",
    "    movie_titles = movie_matrix.columns.tolist()\n",
    "\n",
    "    user_ratings = {}\n",
    "    print(\"Please rate the following movies (on a scale of 1 to 5):\")\n",
    "    \n",
    "    rating_count = 0  # Initialize the rating counter\n",
    "    \n",
    "    for movie_title in movie_titles:\n",
    "        if rating_count >= 5:\n",
    "            break  # Exit the loop if five ratings have been collected\n",
    "            \n",
    "        while True:\n",
    "            try:\n",
    "                print(f\"Movie: {movie_title}\")\n",
    "                rating = float(input(\"Your rating for this movie (1-5): \"))\n",
    "                if 0 <= rating <= 5:\n",
    "                    user_ratings[movie_title] = rating\n",
    "                    rating_count += 1  # Increment the rating counter\n",
    "                    break\n",
    "                else:\n",
    "                    print(\"Invalid rating. Please enter a rating between 0 and 5.\")\n",
    "            except ValueError:\n",
    "                print(\"Invalid input. Please enter a valid numeric rating.\")\n",
    "    \n",
    "    print(\"Thank you for rating!\")\n",
    "    return user_ratings\n",
    "\n",
    "\n",
    "# Pass the movie_matrix to get a list of movie titles for the user to rate\n",
    "user_ratings = get_user_ratings(movie_matrix)\n",
    "\n",
    "print(\"User Ratings:\")\n",
    "for movie, rating in user_ratings.items():\n",
    "    print(f\"Movie: {movie}, Rating: {rating}\")\n"
   ]
  },
  {
   "cell_type": "markdown",
   "metadata": {},
   "source": [
    "## Models\n"
   ]
  },
  {
   "cell_type": "markdown",
   "metadata": {},
   "source": [
    "### NearestNeighbors"
   ]
  },
  {
   "cell_type": "code",
   "execution_count": 151,
   "metadata": {},
   "outputs": [
    {
     "name": "stdout",
     "output_type": "stream",
     "text": [
      "247\n"
     ]
    }
   ],
   "source": [
    "# after sparse matrix is created, we can use the cosine similarity to calculate the similarity between movies\n",
    "from sklearn.neighbors import NearestNeighbors\n",
    "model_knn = NearestNeighbors(metric = 'cosine', algorithm = 'brute')\n",
    "model_knn.fit(movie_matrix_sparse)\n",
    "# we can use the model to find the 10 nearest neighbors of any movie in the dataset\n",
    "query_index = np.random.choice(movie_matrix.shape[0])\n",
    "print(query_index)  "
   ]
  },
  {
   "cell_type": "code",
   "execution_count": 152,
   "metadata": {},
   "outputs": [
    {
     "name": "stdout",
     "output_type": "stream",
     "text": [
      "Titles of the 10 nearest neighbors:\n",
      "248\n",
      "30\n",
      "475\n",
      "586\n",
      "399\n",
      "62\n",
      "25\n",
      "77\n",
      "210\n",
      "220\n"
     ]
    }
   ],
   "source": [
    "# after getting the index of the movie, we can use the model to find the 10 nearest neighbors of the movie\n",
    "distances, indices = model_knn.kneighbors(movie_matrix.iloc[query_index,:].values.reshape(1, -1), n_neighbors = 10) \n",
    "# Get the titles of the 10 nearest neighbors\n",
    "nearest_neighbors_titles = movie_matrix.iloc[indices.flatten()].index\n",
    "print(\"Titles of the 10 nearest neighbors:\")\n",
    "for title in nearest_neighbors_titles:\n",
    "    print(title)\n"
   ]
  },
  {
   "cell_type": "code",
   "execution_count": 153,
   "metadata": {},
   "outputs": [
    {
     "name": "stdout",
     "output_type": "stream",
     "text": [
      "Titles and Distances of the 10 nearest neighbors:\n",
      "Title: 248\n",
      "Distance: 0.0\n",
      "---\n",
      "Title: 30\n",
      "Distance: 0.6862450671644478\n",
      "---\n",
      "Title: 475\n",
      "Distance: 0.7061687552578971\n",
      "---\n",
      "Title: 586\n",
      "Distance: 0.7103554038802903\n",
      "---\n",
      "Title: 399\n",
      "Distance: 0.7268921778561017\n",
      "---\n",
      "Title: 62\n",
      "Distance: 0.73469717230831\n",
      "---\n",
      "Title: 25\n",
      "Distance: 0.7349242912153313\n",
      "---\n",
      "Title: 77\n",
      "Distance: 0.7378946685615232\n",
      "---\n",
      "Title: 210\n",
      "Distance: 0.755997245437545\n",
      "---\n",
      "Title: 220\n",
      "Distance: 0.7655112717215589\n",
      "---\n",
      "RMSE: 0.26907738207398135\n",
      "MSE: 0.07240263754378735\n"
     ]
    }
   ],
   "source": [
    "# Get the titles and distances of the 10 nearest neighbors\n",
    "nearest_neighbors_titles = movie_matrix.iloc[indices.flatten()].index\n",
    "nearest_neighbors_distances = distances.flatten()\n",
    "\n",
    "print(\"Titles and Distances of the 10 nearest neighbors:\")\n",
    "for title, distance in zip(nearest_neighbors_titles, nearest_neighbors_distances):\n",
    "    print(\"Title:\", title)\n",
    "    print(\"Distance:\", distance)\n",
    "    print(\"---\")\n",
    "    \n",
    " # calculate_rmse_mse function\n",
    "def calculate_rmse_mse(actual_ratings, predicted_ratings):\n",
    "    mse = mean_squared_error(actual_ratings, predicted_ratings)\n",
    "    rmse = np.sqrt(mse)\n",
    "    return rmse, mse\n",
    "\n",
    "# Calculate RMSE and MSE for the movie ratings\n",
    "actual_ratings = movie_matrix.iloc[query_index, :].values\n",
    "predicted_ratings = np.mean(movie_matrix.iloc[indices.flatten(), :], axis=0)  # Mean of nearest neighbors' ratings\n",
    "rmse, mse = calculate_rmse_mse(actual_ratings, predicted_ratings)\n",
    "print(\"RMSE:\", rmse)\n",
    "print(\"MSE:\", mse)\n",
    "\n",
    "\n"
   ]
  },
  {
   "cell_type": "markdown",
   "metadata": {},
   "source": [
    "After running  using Nearest Neighbors and predicting movie ratings based on the 10 nearest neighbors, the Root Mean Squared Error (RMSE) and Mean Squared Error (MSE) were calculated for the predicted ratings compared to the actual ratings.\n",
    "\n",
    "- RMSE (Root Mean Squared Error): RMSE is a measure of how well the predicted ratings match the actual ratings. It calculates the square root of the average of the squared differences between the predicted and actual ratings. In this case, the RMSE is approximately 0.1834.\n",
    "\n",
    "- MSE (Mean Squared Error): MSE is another measure of the predictive accuracy of the model. It calculates the average of the squared differences between the predicted and actual ratings. In this case, the MSE is approximately 0.0336.\n",
    "\n",
    "These metrics are useful for evaluating the accuracy of the recommendation system. \n",
    "\n",
    "Lower values of RMSE and MSE indicate better accuracy, meaning that the predicted ratings are closer to the actual ratings, and the collaborative filtering model is performing well in predicting user preferences for movies."
   ]
  },
  {
   "cell_type": "markdown",
   "metadata": {},
   "source": [
    "### Split the data into training and testing sets"
   ]
  },
  {
   "cell_type": "code",
   "execution_count": 154,
   "metadata": {},
   "outputs": [],
   "source": [
    "\n",
    "train_matrix, test_matrix = train_test_split(movie_matrix_sparse, test_size=0.2, random_state=42)\n",
    "\n"
   ]
  },
  {
   "cell_type": "markdown",
   "metadata": {},
   "source": [
    "\n",
    "### Collaborative Filtering"
   ]
  },
  {
   "cell_type": "markdown",
   "metadata": {},
   "source": [
    "1: Using the cosine similarity and recommend movies accordingly and randomly choosing a user / movie and providing recommendations"
   ]
  },
  {
   "cell_type": "markdown",
   "metadata": {},
   "source": [
    "#### User-Based Collaborative Filtering:\n",
    "\n",
    "User-based collaborative filtering recommends movies to a user based on the preferences and behavior of users similar to them. Can calculate user similarities using techniques like cosine similarity and recommend movies accordingly."
   ]
  },
  {
   "cell_type": "code",
   "execution_count": 155,
   "metadata": {},
   "outputs": [
    {
     "name": "stdout",
     "output_type": "stream",
     "text": [
      "User–User Similarity Matrix Shape: (488, 488)\n",
      "Recommended movies for user 0:\n",
      "title\n",
      "Shawshank Redemption, The (1994)             3.55\n",
      "Godfather, The (1972)                        2.35\n",
      "One Flew Over the Cuckoo's Nest (1975)       2.15\n",
      "Twelve Monkeys (a.k.a. 12 Monkeys) (1995)    2.15\n",
      "Godfather: Part II, The (1974)               1.80\n",
      "Taxi Driver (1976)                           1.75\n",
      "Lion King, The (1994)                        1.70\n",
      "Shrek (2001)                                 1.65\n",
      "Good Will Hunting (1997)                     1.65\n",
      "Terminator 2: Judgment Day (1991)            1.55\n",
      "dtype: float64\n"
     ]
    }
   ],
   "source": [
    "\n",
    "# Compute cosine similarity between users (on training set)\n",
    "from sklearn.metrics.pairwise import cosine_similarity\n",
    "user_similarity = cosine_similarity(train_matrix)\n",
    "print(\"User–User Similarity Matrix Shape:\", user_similarity.shape)\n",
    "\n",
    "# Recommendation function\n",
    "def recommend_movies_usercf(user_id, top_n=10):\n",
    "    \"\"\"\n",
    "    Recommend movies for a given user based on similar users' ratings.\n",
    "    user_id: row index from the movie_matrix (0-based).\n",
    "    \"\"\"\n",
    "    # Find similarity scores for this user\n",
    "    sim_scores = list(enumerate(user_similarity[user_id]))\n",
    "    sim_scores = sorted(sim_scores, key=lambda x: x[1], reverse=True)\n",
    "    sim_scores = sim_scores[1:]  # skip self\n",
    "\n",
    "    # Top-k similar users\n",
    "    k = 10\n",
    "    top_users = [u for u, s in sim_scores[:k]]\n",
    "\n",
    "    # Average their ratings\n",
    "    similar_users_ratings = movie_matrix.iloc[top_users].mean(axis=0)\n",
    "\n",
    "    # Remove already-rated movies by target user\n",
    "    target_user_ratings = movie_matrix.iloc[user_id]\n",
    "    unrated = target_user_ratings[target_user_ratings == 0]\n",
    "\n",
    "    # Rank only unrated movies\n",
    "    recommendations = similar_users_ratings[unrated.index].sort_values(ascending=False)\n",
    "\n",
    "    return recommendations.head(top_n)\n",
    "\n",
    "# Example usage: recommend for user with index 0\n",
    "print(\"Recommended movies for user 0:\")\n",
    "print(recommend_movies_usercf(0, top_n=10))\n"
   ]
  },
  {
   "cell_type": "markdown",
   "metadata": {},
   "source": [
    "RMSE Evaluation\n"
   ]
  },
  {
   "cell_type": "code",
   "execution_count": 156,
   "metadata": {},
   "outputs": [
    {
     "name": "stdout",
     "output_type": "stream",
     "text": [
      "UserCF RMSE: 1.1420063360572108\n"
     ]
    }
   ],
   "source": [
    "## RMSE Evaluation for UserCF\n",
    "\n",
    "from sklearn.metrics import mean_squared_error\n",
    "import numpy as np\n",
    "\n",
    "def predict_rating_usercf(user_id, item_id, k=10):\n",
    "    \"\"\"\n",
    "    Predict a rating for a given user–item pair using UserCF.\n",
    "    \"\"\"\n",
    "    # Similarity scores for the user\n",
    "    sim_scores = list(enumerate(user_similarity[user_id]))\n",
    "    sim_scores = sorted(sim_scores, key=lambda x: x[1], reverse=True)[1:k+1]  # top-k similar users\n",
    "\n",
    "    numer, denom = 0, 0\n",
    "    for u, s in sim_scores:\n",
    "        rating = movie_matrix.iloc[u, item_id]\n",
    "        if rating > 0:  # only use existing ratings\n",
    "            numer += s * rating\n",
    "            denom += abs(s)\n",
    "\n",
    "    return numer / denom if denom > 0 else 0\n",
    "\n",
    "def evaluate_rmse_usercf(test_matrix, k=10):\n",
    "    \"\"\"\n",
    "    Compute RMSE for UserCF using the test set.\n",
    "    \"\"\"\n",
    "    y_true, y_pred = [], []\n",
    "\n",
    "    # iterate through all users and items in test\n",
    "    for user_id in range(test_matrix.shape[0]):\n",
    "        for item_id in range(test_matrix.shape[1]):\n",
    "            true_rating = test_matrix[user_id, item_id]\n",
    "            if true_rating > 0:  # only consider rated items\n",
    "                pred_rating = predict_rating_usercf(user_id, item_id, k)\n",
    "                if pred_rating > 0:  # valid prediction\n",
    "                    y_true.append(true_rating)\n",
    "                    y_pred.append(pred_rating)\n",
    "\n",
    "    return np.sqrt(mean_squared_error(y_true, y_pred))\n",
    "\n",
    "# Run evaluation\n",
    "rmse_usercf = evaluate_rmse_usercf(test_matrix, k=10)\n",
    "print(\"UserCF RMSE:\", rmse_usercf)\n"
   ]
  },
  {
   "cell_type": "code",
   "execution_count": 157,
   "metadata": {},
   "outputs": [
    {
     "name": "stdout",
     "output_type": "stream",
     "text": [
      "UserCF Precision@10: 0.0\n",
      "UserCF Recall@10: 0.0\n"
     ]
    }
   ],
   "source": [
    "## Precision@K and Recall@K Evaluation for UserCF (fixed)\n",
    "\n",
    "def precision_recall_at_k_usercf(user_id, k=10, top_n=10):\n",
    "    \"\"\"\n",
    "    Compute Precision@K and Recall@K for a given user using UserCF recommendations.\n",
    "    \"\"\"\n",
    "    # Recommended movies for this user\n",
    "    recommended = recommend_movies_usercf(user_id, top_n=top_n).index\n",
    "    \n",
    "    # Actual relevant movies: ratings >= 4\n",
    "    actual_ratings = movie_matrix.iloc[user_id]\n",
    "    relevant_items = actual_ratings[actual_ratings >= 4].index\n",
    "    \n",
    "    if len(relevant_items) == 0:\n",
    "        return None, None  # skip users with no \"liked\" items\n",
    "    \n",
    "    # Hits = intersection of recommended and relevant items\n",
    "    hits = set(recommended).intersection(set(relevant_items))\n",
    "    \n",
    "    precision = len(hits) / top_n\n",
    "    recall = len(hits) / len(relevant_items)\n",
    "    return precision, recall\n",
    "\n",
    "def evaluate_precision_recall_usercf(k=10, top_n=10):\n",
    "    precisions, recalls = [], []\n",
    "    \n",
    "    # loop only over users present in similarity matrix\n",
    "    for user_id in range(user_similarity.shape[0]):  \n",
    "        p, r = precision_recall_at_k_usercf(user_id, k=k, top_n=top_n)\n",
    "        if p is not None:\n",
    "            precisions.append(p)\n",
    "            recalls.append(r)\n",
    "    \n",
    "    return np.mean(precisions), np.mean(recalls)\n",
    "\n",
    "# Run evaluation\n",
    "precision_usercf, recall_usercf = evaluate_precision_recall_usercf(k=10, top_n=10)\n",
    "print(\"UserCF Precision@10:\", precision_usercf)\n",
    "print(\"UserCF Recall@10:\", recall_usercf)\n"
   ]
  },
  {
   "cell_type": "code",
   "execution_count": 158,
   "metadata": {},
   "outputs": [
    {
     "name": "stdout",
     "output_type": "stream",
     "text": [
      "Top 6 movie recommendations for Random User 343:\n",
      "1: Shawshank Redemption, The (1994)\n",
      "2: Pulp Fiction (1994)\n",
      "3: Matrix, The (1999)\n",
      "4: Forrest Gump (1994)\n",
      "5: Fight Club (1999)\n",
      "6: Silence of the Lambs, The (1991)\n",
      "\n",
      "Evaluation Results:\n",
      "Mean Squared Error (MSE): 0.08806837511821909\n",
      "Root Mean Squared Error (RMSE): 0.2967631633444742\n"
     ]
    }
   ],
   "source": [
    "# Calculate user-user similarity matrix\n",
    "user_similarity = cosine_similarity(movie_matrix_sparse)\n",
    "\n",
    "# Get the top N movie recommendations for a user\n",
    "def get_user_recommendations(user_id, n=5):\n",
    "    # User index (adjusting since user_id is 1-based)\n",
    "    user_index = user_id - 1  \n",
    "    \n",
    "    # Get user ratings and similar users\n",
    "    user_ratings = movie_matrix_sparse[user_index].toarray().flatten()  \n",
    "    similar_users = user_similarity[user_index]\n",
    "    \n",
    "    # Zero out movies already rated\n",
    "    user_ratings[user_ratings.nonzero()] = 0\n",
    "    \n",
    "    # Score = weighted sum of ratings from similar users\n",
    "    scores = similar_users @ movie_matrix_sparse.toarray()  \n",
    "    \n",
    "    # Remove already rated movies\n",
    "    scores[user_ratings.nonzero()] = 0  \n",
    "    \n",
    "    # Get top-N movie indices\n",
    "    recommended_movie_indices = np.argsort(scores)[::-1][:n]\n",
    "    \n",
    "    # Map indices to movie titles\n",
    "    recommended_movies = movie_matrix.columns[recommended_movie_indices]\n",
    "    \n",
    "    return recommended_movies\n",
    "\n",
    "# Function to calculate Mean Squared Error (MSE)\n",
    "def calculate_mse(actual_ratings, predicted_ratings):\n",
    "    return mean_squared_error(actual_ratings.flatten(), predicted_ratings.flatten())\n",
    "\n",
    "# Function to calculate Root Mean Squared Error (RMSE)\n",
    "def calculate_rmse(mse):\n",
    "    return np.sqrt(mse)\n",
    "\n",
    "# Example: pick a random user\n",
    "total_users = movie_matrix_sparse.shape[0]\n",
    "random_user_id = np.random.randint(1, total_users + 1)\n",
    "\n",
    "# Actual ratings for this user\n",
    "actual_ratings = movie_matrix_sparse[random_user_id - 1].toarray()\n",
    "\n",
    "# Predicted ratings = similarity-weighted average from similar users\n",
    "predicted_ratings = (user_similarity[random_user_id - 1] @ movie_matrix_sparse.toarray()) / (\n",
    "    np.abs(user_similarity[random_user_id - 1]).sum() + 1e-9\n",
    ")\n",
    "\n",
    "# Compute MSE / RMSE\n",
    "mse = calculate_mse(actual_ratings, predicted_ratings)\n",
    "rmse = calculate_rmse(mse)\n",
    "\n",
    "# Get recommendations\n",
    "random_user_recommendations = get_user_recommendations(random_user_id, n=6)\n",
    "\n",
    "# Print results\n",
    "print(f\"Top 6 movie recommendations for Random User {random_user_id}:\")\n",
    "for i, movie in enumerate(random_user_recommendations):\n",
    "    print(f\"{i+1}: {movie}\")\n",
    "\n",
    "print(\"\\nEvaluation Results:\")\n",
    "print(\"Mean Squared Error (MSE):\", mse)\n",
    "print(\"Root Mean Squared Error (RMSE):\", rmse)\n"
   ]
  },
  {
   "cell_type": "markdown",
   "metadata": {},
   "source": [
    "User-Based Collaborative Filtering (UserCF) so that we evaluate RMSE across all users, not just one."
   ]
  },
  {
   "cell_type": "code",
   "execution_count": 159,
   "metadata": {},
   "outputs": [
    {
     "name": "stdout",
     "output_type": "stream",
     "text": [
      "Global UserCF RMSE across all users: 2.990374032872365\n",
      "\n",
      "Top 6 recommendations for User 68:\n",
      "Index(['Forrest Gump (1994)', 'Shawshank Redemption, The (1994)',\n",
      "       'Matrix, The (1999)', 'Pulp Fiction (1994)',\n",
      "       'Star Wars: Episode IV - A New Hope (1977)',\n",
      "       'Silence of the Lambs, The (1991)'],\n",
      "      dtype='object', name='title')\n"
     ]
    }
   ],
   "source": [
    "import numpy as np\n",
    "from sklearn.metrics import mean_squared_error\n",
    "from sklearn.metrics.pairwise import cosine_similarity\n",
    "\n",
    "# 1. Compute user-user similarity\n",
    "user_similarity = cosine_similarity(movie_matrix_sparse)\n",
    "\n",
    "# 2. Recommendation function (same as before)\n",
    "def get_user_recommendations(user_id, n=5):\n",
    "    user_index = user_id - 1  \n",
    "    user_ratings = movie_matrix_sparse[user_index].toarray().flatten()\n",
    "    similar_users = user_similarity[user_index]\n",
    "\n",
    "    # Zero out already-rated movies\n",
    "    user_ratings[user_ratings.nonzero()] = 0\n",
    "\n",
    "    # Predicted scores = weighted sum of ratings from similar users\n",
    "    scores = similar_users @ movie_matrix_sparse.toarray()\n",
    "    scores[user_ratings.nonzero()] = 0  # don’t recommend rated movies\n",
    "\n",
    "    # Top-N recommendations\n",
    "    recommended_movie_indices = np.argsort(scores)[::-1][:n]\n",
    "    recommended_movies = movie_matrix.columns[recommended_movie_indices]\n",
    "\n",
    "    return recommended_movies\n",
    "\n",
    "\n",
    "# 3. RMSE evaluation for a single user\n",
    "def predict_ratings_for_user(user_id):\n",
    "    user_index = user_id - 1\n",
    "    # actual ratings\n",
    "    actual = movie_matrix_sparse[user_index].toarray().flatten()\n",
    "    # predicted ratings (similarity-weighted average)\n",
    "    predicted = (user_similarity[user_index] @ movie_matrix_sparse.toarray()) / (\n",
    "        np.abs(user_similarity[user_index]).sum() + 1e-9\n",
    "    )\n",
    "    return actual, predicted\n",
    "\n",
    "\n",
    "# 4. Global RMSE across all users\n",
    "def evaluate_rmse_all_users():\n",
    "    mses = []\n",
    "    for user_id in range(1, movie_matrix_sparse.shape[0] + 1):\n",
    "        actual, predicted = predict_ratings_for_user(user_id)\n",
    "        # Only evaluate on movies the user actually rated\n",
    "        rated_indices = actual.nonzero()[0]\n",
    "        if len(rated_indices) > 0:\n",
    "            mse = mean_squared_error(actual[rated_indices], predicted[rated_indices])\n",
    "            mses.append(mse)\n",
    "    rmse = np.sqrt(np.mean(mses))\n",
    "    return rmse\n",
    "\n",
    "# ---- Run Evaluation ----\n",
    "global_rmse = evaluate_rmse_all_users()\n",
    "print(\"Global UserCF RMSE across all users:\", global_rmse)\n",
    "\n",
    "# Example recommendations for a random user\n",
    "random_user_id = np.random.randint(1, movie_matrix_sparse.shape[0] + 1)\n",
    "print(f\"\\nTop 6 recommendations for User {random_user_id}:\")\n",
    "print(get_user_recommendations(random_user_id, n=6))\n"
   ]
  },
  {
   "cell_type": "markdown",
   "metadata": {},
   "source": [
    "An MSE and RMSE of 0.0 indicate an exceptionally accurate recommendation model in terms of predicting ratings. \n",
    "However, it's essential to scrutinize the results and ensure they are valid and not a result of overfitting or data leakage during the evaluation process. "
   ]
  },
  {
   "cell_type": "markdown",
   "metadata": {},
   "source": [
    "#### Item-Based Collaborative Filtering:\n",
    "\n",
    "Item-based collaborative filtering recommends movies to a user based on the similarity between movies. It identifies movies similar to the ones the user has interacted with."
   ]
  },
  {
   "cell_type": "markdown",
   "metadata": {},
   "source": [
    "we will recommend movies similar to a randomly selected movie from the dataset then find recommendations based on its similarity to other movies.\n"
   ]
  },
  {
   "cell_type": "code",
   "execution_count": 160,
   "metadata": {},
   "outputs": [
    {
     "name": "stdout",
     "output_type": "stream",
     "text": [
      "Top 5 movies similar to 'Horns (2014)':\n",
      "Sinister (2012)\n",
      "Frontière(s) (2007)\n",
      "From Beyond (1986)\n",
      "My Lucky Stars (Fuk sing go jiu) (1985)\n",
      "Strange Circus (Kimyô na sâkasu) (2005)\n",
      "New One-Armed Swordsman, The (Xin du bi dao) (1971)\n",
      "\n",
      "Evaluation Results:\n",
      "Root Mean Squared Error (RMSE): 3.6130096658044755\n"
     ]
    }
   ],
   "source": [
    "import numpy as np\n",
    "from sklearn.metrics.pairwise import cosine_similarity\n",
    "from sklearn.metrics import mean_squared_error\n",
    "\n",
    "# 1. Item-item similarity matrix\n",
    "item_similarity = cosine_similarity(movie_matrix_sparse.T)\n",
    "\n",
    "# 2. Get top-N similar movies for a given movie\n",
    "def get_item_recommendations(movie_title, n=5):\n",
    "    movie_idx = movie_matrix.columns.get_loc(movie_title)\n",
    "    similar_movies = item_similarity[movie_idx]\n",
    "\n",
    "    # Exclude the movie itself\n",
    "    recommended_movie_indices = np.argsort(similar_movies)[::-1][1:n+1]\n",
    "    recommended_movies = movie_matrix.columns[recommended_movie_indices]\n",
    "\n",
    "    return recommended_movies\n",
    "\n",
    "# 3. Predict ratings for a user using ItemCF\n",
    "def predict_ratings_itemcf(user_id):\n",
    "    user_index = user_id - 1  # adjust to 0-based\n",
    "    actual = movie_matrix_sparse[user_index].toarray().flatten()\n",
    "    \n",
    "    # Weighted sum of item similarities\n",
    "    predicted = (movie_matrix_sparse[user_index].toarray() @ item_similarity) / (\n",
    "        np.abs(item_similarity).sum(axis=1) + 1e-9\n",
    "    )\n",
    "    return actual, predicted.flatten()\n",
    "\n",
    "# 4. RMSE evaluation\n",
    "def evaluate_rmse_itemcf():\n",
    "    mses = []\n",
    "    for user_id in range(1, movie_matrix_sparse.shape[0] + 1):\n",
    "        actual, predicted = predict_ratings_itemcf(user_id)\n",
    "        rated_indices = actual.nonzero()[0]\n",
    "        if len(rated_indices) > 0:\n",
    "            mse = mean_squared_error(actual[rated_indices], predicted[rated_indices])\n",
    "            mses.append(mse)\n",
    "    return np.sqrt(np.mean(mses))\n",
    "\n",
    "# ---- Run Evaluation ----\n",
    "rmse = evaluate_rmse_itemcf()\n",
    "\n",
    "# ---- Demo: Recommend movies similar to a random movie ----\n",
    "random_movie_title = np.random.choice(movie_matrix.columns)\n",
    "random_movie_recommendations = get_item_recommendations(random_movie_title, n=6)\n",
    "\n",
    "print(f\"Top 5 movies similar to '{random_movie_title}':\")\n",
    "for movie in random_movie_recommendations:\n",
    "    if movie != random_movie_title:\n",
    "        print(movie)\n",
    "\n",
    "print(\"\\nEvaluation Results:\")\n",
    "print(\"Root Mean Squared Error (RMSE):\", rmse)\n"
   ]
  },
  {
   "cell_type": "code",
   "execution_count": 161,
   "metadata": {},
   "outputs": [
    {
     "name": "stdout",
     "output_type": "stream",
     "text": [
      "Top 5 movies similar to 'Not One Less (Yi ge dou bu neng shao) (1999)':\n",
      "His Secret Life (a.k.a. Ignorant Fairies, The) (Fate ignoranti, Le) (2001)\n",
      "Remember Me (Ricordati di me) (2003)\n",
      "Teacher's Pet (1958)\n",
      "Return of the Musketeers, The (1989)\n",
      "Wind Will Carry Us, The (Bad ma ra khahad bord) (1999)\n",
      "My Name Is Joe (1998)\n",
      "\n",
      "Evaluation Results:\n",
      "Mean Squared Error (MSE): 0.024657195169981553\n",
      "Root Mean Squared Error (RMSE): 0.1570260970984809\n"
     ]
    }
   ],
   "source": [
    "import numpy as np\n",
    "from sklearn.metrics.pairwise import cosine_similarity\n",
    "from sklearn.metrics import mean_squared_error\n",
    "\n",
    "# Calculate item-item similarity matrix\n",
    "item_similarity = cosine_similarity(movie_matrix_sparse.T)\n",
    "\n",
    "# Function to get top N similar movies for a given movie\n",
    "def get_item_recommendations(movie_title, n=5):\n",
    "    movie_idx = movie_matrix.columns.get_loc(movie_title)\n",
    "    similar_movies = item_similarity[movie_idx]\n",
    "    \n",
    "    # Get the indices of top N similar movies (excluding the movie itself)\n",
    "    recommended_movie_indices = np.argsort(similar_movies)[::-1][1:n+1]\n",
    "    \n",
    "    recommended_movies = movie_matrix.columns[recommended_movie_indices]\n",
    "    return recommended_movies\n",
    "\n",
    "# Function to calculate Mean Squared Error (MSE)\n",
    "def calculate_mse(actual_ratings, predicted_ratings):\n",
    "    # ✅ If they are sparse, convert; if already numpy, skip\n",
    "    if not isinstance(actual_ratings, np.ndarray):\n",
    "        actual_ratings = actual_ratings.toarray().flatten()\n",
    "    if not isinstance(predicted_ratings, np.ndarray):\n",
    "        predicted_ratings = predicted_ratings.toarray().flatten()\n",
    "        \n",
    "    return mean_squared_error(actual_ratings, predicted_ratings)\n",
    "\n",
    "# Function to calculate Root Mean Squared Error (RMSE)\n",
    "def calculate_rmse(mse):\n",
    "    return np.sqrt(mse)\n",
    "\n",
    "\n",
    "\n",
    "# ---- Example: compute RMSE for one random user ----\n",
    "user_id = np.random.randint(0, movie_matrix_sparse.shape[0])  # pick random user\n",
    "actual_ratings = movie_matrix_sparse[user_id].toarray().flatten()\n",
    "\n",
    "# Simple prediction: weighted sum of item similarities\n",
    "predicted_ratings = (\n",
    "    movie_matrix_sparse[user_id].toarray() @ item_similarity\n",
    ") / (np.abs(item_similarity).sum(axis=1) + 1e-9)\n",
    "\n",
    "predicted_ratings = predicted_ratings.flatten()  # ✅ Fix shape mismatch\n",
    "\n",
    "# Calculate MSE and RMSE\n",
    "mse = calculate_mse(actual_ratings, predicted_ratings)\n",
    "rmse = calculate_rmse(mse)\n",
    "\n",
    "\n",
    "# ---- Demo: Recommend movies similar to a random movie ----\n",
    "random_movie_title = np.random.choice(movie_matrix.columns)\n",
    "random_movie_recommendations = get_item_recommendations(random_movie_title, n=6)\n",
    "\n",
    "print(f\"Top 5 movies similar to '{random_movie_title}':\")\n",
    "for movie in random_movie_recommendations:\n",
    "    if movie != random_movie_title:\n",
    "        print(movie)\n",
    "\n",
    "print(\"\\nEvaluation Results:\")\n",
    "print(\"Mean Squared Error (MSE):\", mse)\n",
    "print(\"Root Mean Squared Error (RMSE):\", rmse)\n"
   ]
  },
  {
   "cell_type": "code",
   "execution_count": 162,
   "metadata": {},
   "outputs": [
    {
     "name": "stdout",
     "output_type": "stream",
     "text": [
      "Top 5 movies similar to 'Edge of Love, The (2008)':\n",
      "Death Sentence (2007)\n",
      "One Day (2011)\n",
      "Edge of Heaven, The (Auf der anderen Seite) (2007)\n",
      "Final Destination 5 (2011)\n",
      "Beautiful Boy (2010)\n",
      "\n",
      "Evaluation Results:\n",
      "Root Mean Squared Error (RMSE): 3.6130096658044755\n"
     ]
    }
   ],
   "source": [
    "import numpy as np\n",
    "from sklearn.metrics.pairwise import cosine_similarity\n",
    "from sklearn.metrics import mean_squared_error\n",
    "\n",
    "# 1. Item-item similarity matrix\n",
    "item_similarity = cosine_similarity(movie_matrix_sparse.T)\n",
    "\n",
    "# 2. Get top-N similar movies for a given movie\n",
    "def get_item_recommendations(movie_title, n=5):\n",
    "    movie_idx = movie_matrix.columns.get_loc(movie_title)\n",
    "    similar_movies = item_similarity[movie_idx]\n",
    "\n",
    "    # Exclude the movie itself\n",
    "    recommended_movie_indices = np.argsort(similar_movies)[::-1][1:n+1]\n",
    "    recommended_movies = movie_matrix.columns[recommended_movie_indices]\n",
    "\n",
    "    return recommended_movies\n",
    "\n",
    "# 3. Predict ratings for a user using ItemCF\n",
    "def predict_ratings_itemcf(user_id):\n",
    "    user_index = user_id - 1  # adjust to 0-based\n",
    "    actual = movie_matrix_sparse[user_index].toarray().flatten()\n",
    "    \n",
    "    # Weighted sum of item similarities\n",
    "    predicted = (movie_matrix_sparse[user_index].toarray() @ item_similarity) / (\n",
    "        np.abs(item_similarity).sum(axis=1) + 1e-9\n",
    "    )\n",
    "    return actual, predicted.flatten()\n",
    "\n",
    "# 4. RMSE evaluation\n",
    "def evaluate_rmse_itemcf():\n",
    "    mses = []\n",
    "    for user_id in range(1, movie_matrix_sparse.shape[0] + 1):\n",
    "        actual, predicted = predict_ratings_itemcf(user_id)\n",
    "        rated_indices = actual.nonzero()[0]\n",
    "        if len(rated_indices) > 0:\n",
    "            mse = mean_squared_error(actual[rated_indices], predicted[rated_indices])\n",
    "            mses.append(mse)\n",
    "    return np.sqrt(np.mean(mses))\n",
    "\n",
    "# ---- Run Evaluation ----\n",
    "rmse = evaluate_rmse_itemcf()\n",
    "\n",
    "# ---- Demo: Recommend movies similar to a random movie ----\n",
    "random_movie_title = np.random.choice(movie_matrix.columns)\n",
    "random_movie_recommendations = get_item_recommendations(random_movie_title, n=6)\n",
    "\n",
    "print(f\"Top 5 movies similar to '{random_movie_title}':\")\n",
    "for movie in random_movie_recommendations:\n",
    "    if movie != random_movie_title:\n",
    "        print(movie)\n",
    "\n",
    "print(\"\\nEvaluation Results:\")\n",
    "print(\"Root Mean Squared Error (RMSE):\", rmse)\n"
   ]
  },
  {
   "cell_type": "markdown",
   "metadata": {},
   "source": [
    "the evaluation results indicate a Mean Squared Error (MSE) and Root Mean Squared Error (RMSE) of 0.0. \n",
    "1. Mean Squared Error (MSE):\n",
    "   \n",
    "   The MSE measures the average squared differences between the predicted and true values. In this case, an MSE of 0.0 means that, on average, the predicted ratings perfectly match the true ratings for all the items in the test set. \n",
    "   Essentially, the recommendation model's predictions are exact, showing no errors in rating prediction. However, achieving an MSE of exactly 0.0 can sometimes indicate overfitting or an issue with the evaluation process.\n",
    "\n",
    "2. Root Mean Squared Error (RMSE):\n",
    "   \n",
    "   RMSE is the square root of the MSE, providing a more interpretable scale in the same units as the ratings  An RMSE of 0.0 suggests that the predicted ratings are identical to the true ratings, meaning the recommendation model's predictions perfectly match the actual ratings.\n",
    "\n"
   ]
  },
  {
   "cell_type": "markdown",
   "metadata": {},
   "source": [
    "### Matrix factorization (SVD) .\n",
    "create the recommendation model and generate predicted ratings:\n",
    "Creating a recommendation model that provides predicted ratings involves training a machine learning model to predict the ratings a user might give to a movie. we'll use a simple collaborative filtering approach where we predict ratings using user-item interactions.\n"
   ]
  },
  {
   "cell_type": "code",
   "execution_count": 163,
   "metadata": {},
   "outputs": [
    {
     "name": "stdout",
     "output_type": "stream",
     "text": [
      "RMSE: 0.44911243709515\n"
     ]
    }
   ],
   "source": [
    "from sklearn.decomposition import TruncatedSVD\n",
    "\n",
    "\n",
    "# Choose the number of latent features\n",
    "n_latent_features = 10\n",
    "\n",
    "# Perform Singular Value Decomposition (SVD) on the training matrix\n",
    "svd = TruncatedSVD(n_components=n_latent_features)\n",
    "train_svd_matrix = svd.fit_transform(train_matrix)\n",
    "\n",
    "# Reconstruct the matrix using the latent features\n",
    "reconstructed_train_matrix = np.dot(train_svd_matrix, svd.components_)\n",
    "\n",
    "# Predict ratings for the test set using the reconstructed matrix\n",
    "predicted_ratings = np.dot(svd.transform(test_matrix), svd.components_)\n",
    "\n",
    "# Convert csr_matrix to dense numpy arrays for comparison\n",
    "actual_ratings = test_matrix.toarray()\n",
    "predicted_ratings = np.array(predicted_ratings)\n",
    "\n",
    "# Calculate RMSE for the predictions\n",
    "rmse = np.sqrt(mean_squared_error(actual_ratings, predicted_ratings))\n",
    "print(\"RMSE:\", rmse)\n"
   ]
  },
  {
   "cell_type": "markdown",
   "metadata": {},
   "source": [
    "The  RMSE value is approximately 0.449, which indicates the average difference between the predicted ratings and the true ratings is around 0.449. A lower RMSE signifies a better predictive performance of the model. In this case, the RMSE value is relatively low, suggesting that the recommendation model using SVD is making reasonably accurate predictions."
   ]
  },
  {
   "cell_type": "markdown",
   "metadata": {},
   "source": [
    "### Movie Recommendation System using SVD"
   ]
  },
  {
   "cell_type": "code",
   "execution_count": 164,
   "metadata": {
    "scrolled": true
   },
   "outputs": [
    {
     "name": "stdout",
     "output_type": "stream",
     "text": [
      "RMSE for Collaborative Filtering (SVD): 0.3754236578173637\n"
     ]
    }
   ],
   "source": [
    "# function for collaborative filtering using SVD\n",
    "def collaborative_filtering_svd(matrix, n_components=10):\n",
    "    # Perform Singular Value Decomposition (SVD)\n",
    "    svd = TruncatedSVD(n_components=n_components)\n",
    "    matrix_svd = svd.fit_transform(matrix)\n",
    "    matrix_predicted = np.dot(matrix_svd, svd.components_)\n",
    "    rmse = sqrt(mean_squared_error(matrix, matrix_predicted))\n",
    "    return matrix_predicted, rmse\n",
    "\n",
    "\n",
    "# get SVD predictions\n",
    "n_components_svd = 10  \n",
    "svd_predicted, svd_rmse = collaborative_filtering_svd(movie_matrix.values, n_components_svd)\n",
    "\n",
    "# Print the RMSE for evaluation\n",
    "print(\"RMSE for Collaborative Filtering (SVD):\", svd_rmse)\n"
   ]
  },
  {
   "cell_type": "markdown",
   "metadata": {},
   "source": [
    "The RMSE for Collaborative Filtering (SVD) is approximately 0.3754. A lower RMSE indicates a better predictive performance of the model.\n",
    "\n",
    "In this case, the relatively low RMSE suggests that the collaborative filtering model using SVD is making reasonably accurate predictions, and it can be a suitable approach for building a movie recommendation system. However, as with any recommendation system, further validation and testing on unseen data are essential to assess its real-world performance and generalizability."
   ]
  },
  {
   "cell_type": "markdown",
   "metadata": {},
   "source": [
    "### A hybrid recommendation system\n",
    "Creating a hybrid recommendation system involves combining multiple recommendation approaches to provide more accurate and diverse recommendations. In this case, we'll combine user-based collaborative filtering and item-based collaborative filtering.\n",
    "\n",
    "We'll use a weighted hybrid approach where recommendations from user-based and item-based collaborative filtering are combined using weights. Let's set equal weights for simplicity, but you can experiment with different weights based on your requirement"
   ]
  },
  {
   "cell_type": "code",
   "execution_count": 165,
   "metadata": {},
   "outputs": [
    {
     "name": "stdout",
     "output_type": "stream",
     "text": [
      "Top 5 hybrid recommendations for Random User 40 and Movie Surrogates (2009):\n",
      "\n",
      "\n",
      "1: 'Tis the Season for Love (2015)\n",
      "2: 'Til There Was You (1997)\n",
      "3: 'Salem's Lot (2004)\n",
      "4: 'Round Midnight (1986)\n",
      "5: 'Hellboy': The Seeds of Creation (2004)\n",
      "6: '71 (2014)\n",
      "\n",
      "MSE: 1.25\n",
      "RMSE: 1.118033988749895\n"
     ]
    }
   ],
   "source": [
    "import numpy as np\n",
    "from sklearn.metrics import mean_squared_error\n",
    "\n",
    "# Function to get hybrid recommendations and predicted ratings\n",
    "def get_hybrid_recommendations(user_id, movie_title, n=5, user_weight=0.5, item_weight=0.5):\n",
    "    # User-based collaborative filtering (replace with actual implementation)\n",
    "    user_recommendations = get_user_recommendations(user_id, n)\n",
    "    \n",
    "    # Item-based collaborative filtering (replace with actual implementation)\n",
    "    item_recommendations = get_item_recommendations(movie_title, n)\n",
    "    \n",
    "    # Example predicted ratings (replace with actual ratings)\n",
    "    predicted_ratings = [user_weight * (i + 1) + item_weight * (n - i) for i in range(n)]\n",
    "    \n",
    "    # Combine recommendations using a weighted hybrid approach\n",
    "    hybrid_recommendations = []\n",
    "    for i in range(n):\n",
    "        # Calculate hybrid score based on indices\n",
    "        hybrid_score = user_weight * (i + 1) + item_weight * (n - i)\n",
    "        hybrid_recommendations.append((hybrid_score, movie_matrix.columns[i]))\n",
    "    \n",
    "    # Sort the hybrid recommendations based on the combined score\n",
    "    hybrid_recommendations.sort(reverse=True)\n",
    "    \n",
    "    return [movie[1] for movie in hybrid_recommendations], predicted_ratings\n",
    "\n",
    "# Generate a random user ID for recommendation\n",
    "random_user_id = np.random.randint(1, total_users + 1)\n",
    "\n",
    "# Generate a random movie title for which you want to find similar movies\n",
    "random_movie_title = np.random.choice(movie_matrix.columns)\n",
    "\n",
    "# Get hybrid recommendations and predicted ratings for the random user and movie\n",
    "hybrid_recommendations, predicted_ratings = get_hybrid_recommendations(random_user_id, random_movie_title, n=6)\n",
    "\n",
    "# Print the recommendations from the hybrid approach\n",
    "print(f\"Top 5 hybrid recommendations for Random User {random_user_id} and Movie {random_movie_title}:\")\n",
    "print()\n",
    "print()\n",
    "for i, movie in enumerate(hybrid_recommendations):\n",
    "    print(f\"{i + 1}: {movie}\")\n",
    "\n",
    "    \n",
    "\n",
    "print()\n",
    "example_ground_truth_ratings = np.random.randint(1, 6, size=len(predicted_ratings))\n",
    "\n",
    "# Calculate Mean Squared Error (MSE)\n",
    "mse = mean_squared_error(example_ground_truth_ratings, predicted_ratings)\n",
    "print(\"MSE:\", mse)\n",
    "# Calculate Root Mean Squared Error (RMSE)\n",
    "rmse = np.sqrt(mse)\n",
    "print(f\"RMSE: {rmse}\")\n"
   ]
  },
  {
   "cell_type": "markdown",
   "metadata": {},
   "source": [
    "### Hyperparameter Tuning:"
   ]
  },
  {
   "cell_type": "code",
   "execution_count": 166,
   "metadata": {},
   "outputs": [
    {
     "name": "stdout",
     "output_type": "stream",
     "text": [
      "Best User Weight: 0.30000000000000004\n",
      "Best Item Weight: 0.2\n",
      "Best RMSE: 0.747217059048663\n"
     ]
    }
   ],
   "source": [
    "import numpy as np\n",
    "from sklearn.metrics import mean_squared_error\n",
    "\n",
    "# Function to get hybrid recommendations and predicted ratings with specific hyperparameters\n",
    "def get_hybrid_recommendations_tuned(user_id, movie_title, n=5, user_weight=0.5, item_weight=0.5):\n",
    "    # User-based collaborative filtering (replace with actual implementation)\n",
    "    user_recommendations = get_user_recommendations(user_id, n)\n",
    "    \n",
    "    # Item-based collaborative filtering (replace with actual implementation)\n",
    "    item_recommendations = get_item_recommendations(movie_title, n)\n",
    "    \n",
    "    # Example predicted ratings (replace with actual ratings)\n",
    "    predicted_ratings = [user_weight * (i + 1) + item_weight * (n - i) for i in range(n)]\n",
    "    \n",
    "    # Combine recommendations using a weighted hybrid approach\n",
    "    hybrid_recommendations = []\n",
    "    for i in range(n):\n",
    "        # Calculate hybrid score based on indices\n",
    "        hybrid_score = user_weight * (i + 1) + item_weight * (n - i)\n",
    "        hybrid_recommendations.append((hybrid_score, movie_matrix.columns[i]))\n",
    "    \n",
    "    # Sort the hybrid recommendations based on the combined score\n",
    "    hybrid_recommendations.sort(reverse=True)\n",
    "    \n",
    "    return [movie[1] for movie in hybrid_recommendations], predicted_ratings\n",
    "\n",
    "# Define the parameter search space\n",
    "user_weight_values = np.linspace(0, 1, 11)  # Values between 0 and 1\n",
    "item_weight_values = np.linspace(0, 1, 11)  # Values between 0 and 1\n",
    "\n",
    "best_rmse = float('inf')\n",
    "best_user_weight = None\n",
    "best_item_weight = None\n",
    "\n",
    "# Hyperparameter tuning loop\n",
    "for user_weight in user_weight_values:\n",
    "    for item_weight in item_weight_values:\n",
    "        # Generate a random user ID for recommendation\n",
    "        random_user_id = np.random.randint(1, total_users + 1)\n",
    "    \n",
    "        # Generate a random movie title for which you want to find similar movies\n",
    "        random_movie_title = np.random.choice(movie_matrix.columns)\n",
    "\n",
    "        # Get hybrid recommendations and predicted ratings for the random user and movie\n",
    "        hybrid_recommendations, predicted_ratings = get_hybrid_recommendations_tuned(random_user_id, random_movie_title, n=6, user_weight=user_weight, item_weight=item_weight)\n",
    "\n",
    "        # Assume example ground truth ratings (replace with actual ratings)\n",
    "        example_ground_truth_ratings = np.random.randint(1, 6, size=6)  # Random example ground truth ratings\n",
    "\n",
    "        # Calculate RMSE\n",
    "        mse = mean_squared_error(example_ground_truth_ratings, predicted_ratings)\n",
    "        rmse = np.sqrt(mse)\n",
    "\n",
    "        # Update the best hyperparameters if needed\n",
    "        if rmse < best_rmse:\n",
    "            best_rmse = rmse\n",
    "            best_user_weight = user_weight\n",
    "            best_item_weight = item_weight\n",
    "\n",
    "# Print the best hyperparameters and RMSE\n",
    "print(\"Best User Weight:\", best_user_weight)\n",
    "print(\"Best Item Weight:\", best_item_weight)\n",
    "print(\"Best RMSE:\", best_rmse)\n"
   ]
  },
  {
   "cell_type": "markdown",
   "metadata": {},
   "source": [
    "### Popularity-Based Recommendations for New Users"
   ]
  },
  {
   "cell_type": "code",
   "execution_count": 167,
   "metadata": {},
   "outputs": [
    {
     "name": "stdout",
     "output_type": "stream",
     "text": [
      "\n",
      "Popularity-Based Recommendations:\n",
      "title\n",
      "Saving Santa (2013)          5.0\n",
      "Maniac Cop 2 (1990)          5.0\n",
      "Wonder Woman (2009)          5.0\n",
      "Jane Eyre (1944)             5.0\n",
      "Front of the Class (2008)    5.0\n",
      "Name: rating, dtype: float64\n"
     ]
    }
   ],
   "source": [
    "def popularity_based_recommendations(n=5):\n",
    "    # Sort movies by popularity (average rating)\n",
    "    sorted_movies = df.groupby('title')['rating'].mean().sort_values(ascending=False)\n",
    "    \n",
    "    # Recommend top n popular movies\n",
    "    recommendations = sorted_movies.head(n)\n",
    "    \n",
    "    return recommendations\n",
    "\n",
    "# Example popularity-based recommendations\n",
    "popularity_recommendations = popularity_based_recommendations(n=5)\n",
    "print(\"\\nPopularity-Based Recommendations:\")\n",
    "print(popularity_recommendations)\n"
   ]
  },
  {
   "cell_type": "markdown",
   "metadata": {},
   "source": [
    "### Content-Based Recommendations for New Users"
   ]
  },
  {
   "cell_type": "code",
   "execution_count": 168,
   "metadata": {},
   "outputs": [
    {
     "name": "stdout",
     "output_type": "stream",
     "text": [
      "Content-Based Recommendations for Specified Genres:\n",
      "title\n",
      "Saving Santa (2013)                                                     5.0\n",
      "Maniac Cop 2 (1990)                                                     5.0\n",
      "Wonder Woman (2009)                                                     5.0\n",
      "Jane Eyre (1944)                                                        5.0\n",
      "Front of the Class (2008)                                               5.0\n",
      "Black Tar Heroin: The Dark End of the Street (2000)                     5.0\n",
      "Siam Sunset (1999)                                                      5.0\n",
      "Runaway Brain (1995)                                                    5.0\n",
      "Vampire in Venice (Nosferatu a Venezia) (Nosferatu in Venice) (1986)    5.0\n",
      "Fugitives (1986)                                                        5.0\n",
      "Name: rating, dtype: float64\n"
     ]
    }
   ],
   "source": [
    "def content_based_recommendations_by_genres(genres, n=10):\n",
    "    # Filter movies by specified genres\n",
    "    genre_movies = df[df[genres].any(axis=1)]\n",
    "    \n",
    "    # Calculate the average rating for each movie\n",
    "    avg_ratings = genre_movies.groupby('title')['rating'].mean()\n",
    "    \n",
    "    # Sort movies by average rating in descending order\n",
    "    sorted_movies = avg_ratings.sort_values(ascending=False)\n",
    "    \n",
    "    # Recommend top n movies\n",
    "    recommendations = sorted_movies.head(n)\n",
    "    \n",
    "    return recommendations\n",
    "\n",
    "# Example content-based recommendations for specified genres\n",
    "specified_genres = ['Romance', 'Musical', 'Film-Noir', 'Mystery', 'Children', 'Action', 'Horror', 'Animation',\n",
    "                    'Fantasy', 'Adventure', 'War', 'Comedy', 'Drama', 'Thriller', 'Crime', 'IMAX', 'Documentary',\n",
    "                    'Western', 'Sci-Fi', '(no genres listed)']\n",
    "\n",
    "content_based_recommendations = content_based_recommendations_by_genres(specified_genres, n=10)\n",
    "print(\"Content-Based Recommendations for Specified Genres:\")\n",
    "print(content_based_recommendations)\n"
   ]
  },
  {
   "cell_type": "markdown",
   "metadata": {},
   "source": [
    "## Recommendations for Improving Ratings, Streaming Service Performance and User Experience\n",
    "\n",
    "### Based on our findings, we propose the following recommendations:\n",
    "\n",
    "### Diverse Recommendations: \n",
    "\n",
    "Implement a system that combines different recommendation approaches, ensuring a broad range of movie suggestions that cater to various tastes and preferences.\n",
    "\n",
    "### Feedback Loop: \n",
    "\n",
    "Create a way for users to provide feedback on recommended movies, allowing the system to continuously learn and improve its suggestions.\n",
    "\n",
    "### Efficiency and Speed: \n",
    "\n",
    "Optimize the recommendation system to provide quick and seamless suggestions, enhancing the user experience and encouraging users to use the \n",
    "\n",
    "### Optimize Content Discovery and Personalization\n",
    "\n",
    "The streaming service should invest in enhancing its recommendation algorithms to provide more accurate and diverse recommendations to users. This can be achieved by incorporating advanced machine learning techniques to better understand individual preferences, viewing history, and viewing patterns. By improving content discovery, users will find relevant content more easily, leading to increased engagement and satisfaction.\n",
    "\n",
    "### Enhance User Interface and Navigation\n",
    "\n",
    "Simplify the user interface to make it more intuitive and user-friendly. Streamline the navigation to ensure that users can effortlessly find their desired content. Implement features like an easily accessible search bar, personalized homepages, and customizable playlists to enhance the overall user experience and make content discovery more efficient.\n",
    "\n",
    "### Introduce a \"Skip Recap\" Feature\n",
    "\n",
    "To further streamline the viewing experience, consider adding a \"Skip Recap\" button for TV series. Many viewers find it frustrating to sit through the recap of a show's previous episodes. Allowing users to skip these recaps will save time and enhance user satisfaction.\n",
    "\n",
    "###  **Improve Playback and Streaming Quality**\n",
    "\n",
    "Continuously invest in optimizing streaming quality and speed to minimize buffering time and enhance the overall viewing experience. Implement adaptive streaming technology that adjusts video quality based on the user's internet speed to ensure smooth playback without interruptions.\n",
    "\n",
    "### **Expand Global Content Availability**\n",
    "\n",
    "Work on expanding the availability of content across all regions. Aim to minimize the discrepancy in the content library from one region to another. This will create a more consistent and satisfying experience for users worldwide.\n",
    "\n",
    "###  **Introduce Interactive Features**\n",
    "\n",
    "Consider incorporating interactive features in certain content, allowing users to make choices within a show or movie, thereby personalizing their viewing experience. This interactive element can significantly enhance engagement and make the viewing experience more immersive and enjoyable.\n",
    "\n",
    "###  **Enhance Accessibility Features**\n",
    "\n",
    "Invest in improving accessibility features, making the streaming service more inclusive for users with disabilities. This includes features such as closed captions, audio descriptions, and improved user interface navigation for individuals with visual or hearing impairments.\n",
    "\n",
    "###  **Incorporate User Feedback Loops**\n",
    "\n",
    "Establish a direct channel for users to provide feedback, suggestions, and report issues they encounter. Actively listen to user feedback and use it to make data-driven decisions for continuous improvement. Transparency in acknowledging and addressing user concerns will foster a stronger relationship with the user base.\n",
    "\n",
    "### **Collaborate with Content Creators for Exclusive Content**\n",
    "\n",
    "Collaborate with content creators to produce exclusive shows and movies available only on the platform. Unique and high-quality exclusive content will attract more subscribers and retain existing ones, further differentiating the service from its competitors.\n",
    "\n",
    "###  **Invest in Data Security and Privacy**\n",
    "\n",
    "Maintain a strong focus on data security and privacy to ensure that user data is handled responsibly and securely. Clearly communicate the steps taken to protect user information to build trust and confidence among the user base.\n",
    "\n",
    "By implementing these recommendations, the streaming service can further elevate its performance and offer an enhanced user experience, ultimately retaining existing users and attracting a broader audience. Continuous innovation and a strong focus on user satisfaction are key to staying ahead in the dynamic streaming industry."
   ]
  },
  {
   "cell_type": "code",
   "execution_count": null,
   "metadata": {},
   "outputs": [],
   "source": []
  }
 ],
 "metadata": {
  "kernelspec": {
   "display_name": "Python (bash-env)",
   "language": "python",
   "name": "bash-env"
  },
  "language_info": {
   "codemirror_mode": {
    "name": "ipython",
    "version": 3
   },
   "file_extension": ".py",
   "mimetype": "text/x-python",
   "name": "python",
   "nbconvert_exporter": "python",
   "pygments_lexer": "ipython3",
   "version": "3.13.5"
  },
  "toc-autonumbering": false,
  "toc-showmarkdowntxt": false,
  "toc-showtags": true
 },
 "nbformat": 4,
 "nbformat_minor": 4
}
